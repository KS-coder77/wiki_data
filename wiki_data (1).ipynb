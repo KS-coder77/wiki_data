{
 "cells": [
  {
   "cell_type": "code",
   "execution_count": 122,
   "id": "0e518a34",
   "metadata": {},
   "outputs": [],
   "source": [
    "#import libs \n",
    "\n",
    "import pandas as pd\n",
    "\n",
    "import plotly as py\n",
    "import plotly.express as px\n",
    "import plotly.graph_objs as go "
   ]
  },
  {
   "cell_type": "code",
   "execution_count": 82,
   "id": "ac4dafa0",
   "metadata": {},
   "outputs": [
    {
     "data": {
      "text/html": [
       "<div>\n",
       "<style scoped>\n",
       "    .dataframe tbody tr th:only-of-type {\n",
       "        vertical-align: middle;\n",
       "    }\n",
       "\n",
       "    .dataframe tbody tr th {\n",
       "        vertical-align: top;\n",
       "    }\n",
       "\n",
       "    .dataframe thead th {\n",
       "        text-align: right;\n",
       "    }\n",
       "</style>\n",
       "<table border=\"1\" class=\"dataframe\">\n",
       "  <thead>\n",
       "    <tr style=\"text-align: right;\">\n",
       "      <th></th>\n",
       "      <th>Country</th>\n",
       "      <th>Total in km2</th>\n",
       "      <th>Land in km2</th>\n",
       "      <th>Water in km2</th>\n",
       "      <th>Water %</th>\n",
       "      <th>HDI</th>\n",
       "      <th>%HDI Growth</th>\n",
       "      <th>IMF Forecast GDP(Nominal)</th>\n",
       "      <th>World Bank Forecast GDP(Nominal)</th>\n",
       "      <th>UN Forecast GDP(Nominal)</th>\n",
       "      <th>IMF Forecast GDP(PPP)</th>\n",
       "      <th>World Bank Forecast GDP(PPP)</th>\n",
       "      <th>CIA Forecast GDP(PPP)</th>\n",
       "      <th>Internet Users</th>\n",
       "      <th>UN Continental Region</th>\n",
       "      <th>UN Statistical Subregion</th>\n",
       "      <th>Population 2022</th>\n",
       "      <th>Population 2023</th>\n",
       "      <th>Population %Change</th>\n",
       "    </tr>\n",
       "  </thead>\n",
       "  <tbody>\n",
       "    <tr>\n",
       "      <th>0</th>\n",
       "      <td>Russia</td>\n",
       "      <td>17098246.0</td>\n",
       "      <td>16378410.0</td>\n",
       "      <td>16378410.0</td>\n",
       "      <td>4.2</td>\n",
       "      <td>0.822</td>\n",
       "      <td>0.29</td>\n",
       "      <td>1862470.0</td>\n",
       "      <td>2240422.0</td>\n",
       "      <td>1778782.0</td>\n",
       "      <td>5056479.0</td>\n",
       "      <td>5326855.0</td>\n",
       "      <td>3875690.0</td>\n",
       "      <td>129800000.0</td>\n",
       "      <td>Europe</td>\n",
       "      <td>Eastern Europe</td>\n",
       "      <td>1.447133e+08</td>\n",
       "      <td>1.444444e+08</td>\n",
       "      <td>-0.19</td>\n",
       "    </tr>\n",
       "    <tr>\n",
       "      <th>1</th>\n",
       "      <td>Canada</td>\n",
       "      <td>9984670.0</td>\n",
       "      <td>9093507.0</td>\n",
       "      <td>9093507.0</td>\n",
       "      <td>8.9</td>\n",
       "      <td>0.936</td>\n",
       "      <td>0.25</td>\n",
       "      <td>2117805.0</td>\n",
       "      <td>2139840.0</td>\n",
       "      <td>1988336.0</td>\n",
       "      <td>2378973.0</td>\n",
       "      <td>2273489.0</td>\n",
       "      <td>1742790.0</td>\n",
       "      <td>33950632.0</td>\n",
       "      <td>Americas</td>\n",
       "      <td>Northern America</td>\n",
       "      <td>3.845433e+07</td>\n",
       "      <td>3.878129e+07</td>\n",
       "      <td>0.85</td>\n",
       "    </tr>\n",
       "    <tr>\n",
       "      <th>2</th>\n",
       "      <td>Brazil</td>\n",
       "      <td>8510346.0</td>\n",
       "      <td>8460415.0</td>\n",
       "      <td>8460415.0</td>\n",
       "      <td>0.6</td>\n",
       "      <td>0.754</td>\n",
       "      <td>0.38</td>\n",
       "      <td>2126809.0</td>\n",
       "      <td>1920096.0</td>\n",
       "      <td>1608981.0</td>\n",
       "      <td>4101022.0</td>\n",
       "      <td>3837261.0</td>\n",
       "      <td>2989430.0</td>\n",
       "      <td>165300000.0</td>\n",
       "      <td>Americas</td>\n",
       "      <td>South America</td>\n",
       "      <td>2.153135e+08</td>\n",
       "      <td>2.164224e+08</td>\n",
       "      <td>0.52</td>\n",
       "    </tr>\n",
       "    <tr>\n",
       "      <th>3</th>\n",
       "      <td>India</td>\n",
       "      <td>3287263.0</td>\n",
       "      <td>2973190.0</td>\n",
       "      <td>2973190.0</td>\n",
       "      <td>9.6</td>\n",
       "      <td>0.633</td>\n",
       "      <td>0.88</td>\n",
       "      <td>3732224.0</td>\n",
       "      <td>3385090.0</td>\n",
       "      <td>3201471.0</td>\n",
       "      <td>13119622.0</td>\n",
       "      <td>11874583.0</td>\n",
       "      <td>8443360.0</td>\n",
       "      <td>881250000.0</td>\n",
       "      <td>Asia</td>\n",
       "      <td>Southern Asia</td>\n",
       "      <td>1.417173e+09</td>\n",
       "      <td>1.428628e+09</td>\n",
       "      <td>0.81</td>\n",
       "    </tr>\n",
       "    <tr>\n",
       "      <th>4</th>\n",
       "      <td>Argentina</td>\n",
       "      <td>2796427.0</td>\n",
       "      <td>2736690.0</td>\n",
       "      <td>2736690.0</td>\n",
       "      <td>1.6</td>\n",
       "      <td>0.842</td>\n",
       "      <td>0.09</td>\n",
       "      <td>621833.0</td>\n",
       "      <td>632770.0</td>\n",
       "      <td>487227.0</td>\n",
       "      <td>1239515.0</td>\n",
       "      <td>1225435.0</td>\n",
       "      <td>893310.0</td>\n",
       "      <td>40024673.0</td>\n",
       "      <td>Americas</td>\n",
       "      <td>South America</td>\n",
       "      <td>4.551032e+07</td>\n",
       "      <td>4.577388e+07</td>\n",
       "      <td>0.58</td>\n",
       "    </tr>\n",
       "  </tbody>\n",
       "</table>\n",
       "</div>"
      ],
      "text/plain": [
       "     Country  Total in km2  Land in km2  Water in km2  Water %    HDI  \\\n",
       "0     Russia    17098246.0   16378410.0    16378410.0      4.2  0.822   \n",
       "1     Canada     9984670.0    9093507.0     9093507.0      8.9  0.936   \n",
       "2     Brazil     8510346.0    8460415.0     8460415.0      0.6  0.754   \n",
       "3      India     3287263.0    2973190.0     2973190.0      9.6  0.633   \n",
       "4  Argentina     2796427.0    2736690.0     2736690.0      1.6  0.842   \n",
       "\n",
       "   %HDI Growth  IMF Forecast GDP(Nominal)  World Bank Forecast GDP(Nominal)  \\\n",
       "0         0.29                  1862470.0                         2240422.0   \n",
       "1         0.25                  2117805.0                         2139840.0   \n",
       "2         0.38                  2126809.0                         1920096.0   \n",
       "3         0.88                  3732224.0                         3385090.0   \n",
       "4         0.09                   621833.0                          632770.0   \n",
       "\n",
       "   UN Forecast GDP(Nominal)  IMF Forecast GDP(PPP)  \\\n",
       "0                 1778782.0              5056479.0   \n",
       "1                 1988336.0              2378973.0   \n",
       "2                 1608981.0              4101022.0   \n",
       "3                 3201471.0             13119622.0   \n",
       "4                  487227.0              1239515.0   \n",
       "\n",
       "   World Bank Forecast GDP(PPP)  CIA Forecast GDP(PPP)  Internet Users  \\\n",
       "0                     5326855.0              3875690.0     129800000.0   \n",
       "1                     2273489.0              1742790.0      33950632.0   \n",
       "2                     3837261.0              2989430.0     165300000.0   \n",
       "3                    11874583.0              8443360.0     881250000.0   \n",
       "4                     1225435.0               893310.0      40024673.0   \n",
       "\n",
       "  UN Continental Region UN Statistical Subregion  Population 2022  \\\n",
       "0                Europe           Eastern Europe     1.447133e+08   \n",
       "1              Americas         Northern America     3.845433e+07   \n",
       "2              Americas            South America     2.153135e+08   \n",
       "3                  Asia            Southern Asia     1.417173e+09   \n",
       "4              Americas            South America     4.551032e+07   \n",
       "\n",
       "   Population 2023  Population %Change  \n",
       "0     1.444444e+08               -0.19  \n",
       "1     3.878129e+07                0.85  \n",
       "2     2.164224e+08                0.52  \n",
       "3     1.428628e+09                0.81  \n",
       "4     4.577388e+07                0.58  "
      ]
     },
     "execution_count": 82,
     "metadata": {},
     "output_type": "execute_result"
    }
   ],
   "source": [
    "filepath = r\"C:\\Users\\krupa\\OneDrive\\Documents\\Krups coding\\Data analysis\\wiki data\\Country_data.csv\"\n",
    "\n",
    "data = pd.read_csv(filepath)\n",
    "data.head()\n",
    "    "
   ]
  },
  {
   "cell_type": "code",
   "execution_count": 83,
   "id": "cabebca9",
   "metadata": {},
   "outputs": [
    {
     "data": {
      "text/html": [
       "<div>\n",
       "<style scoped>\n",
       "    .dataframe tbody tr th:only-of-type {\n",
       "        vertical-align: middle;\n",
       "    }\n",
       "\n",
       "    .dataframe tbody tr th {\n",
       "        vertical-align: top;\n",
       "    }\n",
       "\n",
       "    .dataframe thead th {\n",
       "        text-align: right;\n",
       "    }\n",
       "</style>\n",
       "<table border=\"1\" class=\"dataframe\">\n",
       "  <thead>\n",
       "    <tr style=\"text-align: right;\">\n",
       "      <th></th>\n",
       "      <th>Total in km2</th>\n",
       "      <th>Land in km2</th>\n",
       "      <th>Water in km2</th>\n",
       "      <th>Water %</th>\n",
       "      <th>HDI</th>\n",
       "      <th>%HDI Growth</th>\n",
       "      <th>IMF Forecast GDP(Nominal)</th>\n",
       "      <th>World Bank Forecast GDP(Nominal)</th>\n",
       "      <th>UN Forecast GDP(Nominal)</th>\n",
       "      <th>IMF Forecast GDP(PPP)</th>\n",
       "      <th>World Bank Forecast GDP(PPP)</th>\n",
       "      <th>CIA Forecast GDP(PPP)</th>\n",
       "      <th>Internet Users</th>\n",
       "      <th>Population 2022</th>\n",
       "      <th>Population 2023</th>\n",
       "      <th>Population %Change</th>\n",
       "    </tr>\n",
       "  </thead>\n",
       "  <tbody>\n",
       "    <tr>\n",
       "      <th>count</th>\n",
       "      <td>1.420000e+02</td>\n",
       "      <td>1.420000e+02</td>\n",
       "      <td>1.420000e+02</td>\n",
       "      <td>142.000000</td>\n",
       "      <td>142.000000</td>\n",
       "      <td>140.000000</td>\n",
       "      <td>1.360000e+02</td>\n",
       "      <td>1.370000e+02</td>\n",
       "      <td>1.380000e+02</td>\n",
       "      <td>1.370000e+02</td>\n",
       "      <td>1.410000e+02</td>\n",
       "      <td>1.390000e+02</td>\n",
       "      <td>1.420000e+02</td>\n",
       "      <td>1.420000e+02</td>\n",
       "      <td>1.420000e+02</td>\n",
       "      <td>142.000000</td>\n",
       "    </tr>\n",
       "    <tr>\n",
       "      <th>mean</th>\n",
       "      <td>6.516930e+05</td>\n",
       "      <td>6.304762e+05</td>\n",
       "      <td>6.304762e+05</td>\n",
       "      <td>2.538099</td>\n",
       "      <td>0.704324</td>\n",
       "      <td>0.539571</td>\n",
       "      <td>3.268823e+05</td>\n",
       "      <td>3.055762e+05</td>\n",
       "      <td>2.945361e+05</td>\n",
       "      <td>6.627371e+05</td>\n",
       "      <td>5.994211e+05</td>\n",
       "      <td>4.629539e+05</td>\n",
       "      <td>2.245352e+07</td>\n",
       "      <td>3.650124e+07</td>\n",
       "      <td>3.689126e+07</td>\n",
       "      <td>1.166408</td>\n",
       "    </tr>\n",
       "    <tr>\n",
       "      <th>std</th>\n",
       "      <td>1.846820e+06</td>\n",
       "      <td>1.763518e+06</td>\n",
       "      <td>1.763518e+06</td>\n",
       "      <td>4.148328</td>\n",
       "      <td>0.152592</td>\n",
       "      <td>0.396370</td>\n",
       "      <td>7.636126e+05</td>\n",
       "      <td>7.201154e+05</td>\n",
       "      <td>7.357661e+05</td>\n",
       "      <td>1.569281e+06</td>\n",
       "      <td>1.428972e+06</td>\n",
       "      <td>1.088335e+06</td>\n",
       "      <td>8.024149e+07</td>\n",
       "      <td>1.252199e+08</td>\n",
       "      <td>1.262483e+08</td>\n",
       "      <td>1.124469</td>\n",
       "    </tr>\n",
       "    <tr>\n",
       "      <th>min</th>\n",
       "      <td>2.600000e+01</td>\n",
       "      <td>2.600000e+01</td>\n",
       "      <td>2.600000e+01</td>\n",
       "      <td>0.000000</td>\n",
       "      <td>0.385000</td>\n",
       "      <td>0.000000</td>\n",
       "      <td>6.300000e+01</td>\n",
       "      <td>6.000000e+01</td>\n",
       "      <td>6.000000e+01</td>\n",
       "      <td>6.300000e+01</td>\n",
       "      <td>6.100000e+01</td>\n",
       "      <td>5.000000e+01</td>\n",
       "      <td>5.520000e+03</td>\n",
       "      <td>1.131200e+04</td>\n",
       "      <td>1.139600e+04</td>\n",
       "      <td>-3.640000</td>\n",
       "    </tr>\n",
       "    <tr>\n",
       "      <th>25%</th>\n",
       "      <td>2.669100e+04</td>\n",
       "      <td>2.549475e+04</td>\n",
       "      <td>2.549475e+04</td>\n",
       "      <td>0.000000</td>\n",
       "      <td>0.585250</td>\n",
       "      <td>0.230000</td>\n",
       "      <td>1.145125e+04</td>\n",
       "      <td>1.049200e+04</td>\n",
       "      <td>6.367750e+03</td>\n",
       "      <td>2.835600e+04</td>\n",
       "      <td>1.935800e+04</td>\n",
       "      <td>1.830500e+04</td>\n",
       "      <td>5.799232e+05</td>\n",
       "      <td>2.096591e+06</td>\n",
       "      <td>2.101970e+06</td>\n",
       "      <td>0.522500</td>\n",
       "    </tr>\n",
       "    <tr>\n",
       "      <th>50%</th>\n",
       "      <td>1.257585e+05</td>\n",
       "      <td>1.221600e+05</td>\n",
       "      <td>1.221600e+05</td>\n",
       "      <td>1.050000</td>\n",
       "      <td>0.717500</td>\n",
       "      <td>0.445000</td>\n",
       "      <td>3.256650e+04</td>\n",
       "      <td>2.995700e+04</td>\n",
       "      <td>2.714700e+04</td>\n",
       "      <td>7.854700e+04</td>\n",
       "      <td>6.491000e+04</td>\n",
       "      <td>5.692000e+04</td>\n",
       "      <td>3.012851e+06</td>\n",
       "      <td>9.488042e+06</td>\n",
       "      <td>9.507554e+06</td>\n",
       "      <td>1.055000</td>\n",
       "    </tr>\n",
       "    <tr>\n",
       "      <th>75%</th>\n",
       "      <td>5.907288e+05</td>\n",
       "      <td>5.784400e+05</td>\n",
       "      <td>5.784400e+05</td>\n",
       "      <td>2.975000</td>\n",
       "      <td>0.815000</td>\n",
       "      <td>0.762500</td>\n",
       "      <td>3.084302e+05</td>\n",
       "      <td>2.641820e+05</td>\n",
       "      <td>2.211575e+05</td>\n",
       "      <td>5.484650e+05</td>\n",
       "      <td>5.063390e+05</td>\n",
       "      <td>3.717800e+05</td>\n",
       "      <td>1.232198e+07</td>\n",
       "      <td>3.236403e+07</td>\n",
       "      <td>3.314716e+07</td>\n",
       "      <td>1.960000</td>\n",
       "    </tr>\n",
       "    <tr>\n",
       "      <th>max</th>\n",
       "      <td>1.709825e+07</td>\n",
       "      <td>1.637841e+07</td>\n",
       "      <td>1.637841e+07</td>\n",
       "      <td>27.800000</td>\n",
       "      <td>0.962000</td>\n",
       "      <td>1.940000</td>\n",
       "      <td>4.429838e+06</td>\n",
       "      <td>4.231141e+06</td>\n",
       "      <td>4.940878e+06</td>\n",
       "      <td>1.311962e+07</td>\n",
       "      <td>1.187458e+07</td>\n",
       "      <td>8.443360e+06</td>\n",
       "      <td>8.812500e+08</td>\n",
       "      <td>1.417173e+09</td>\n",
       "      <td>1.428628e+09</td>\n",
       "      <td>4.980000</td>\n",
       "    </tr>\n",
       "  </tbody>\n",
       "</table>\n",
       "</div>"
      ],
      "text/plain": [
       "       Total in km2   Land in km2  Water in km2     Water %         HDI  \\\n",
       "count  1.420000e+02  1.420000e+02  1.420000e+02  142.000000  142.000000   \n",
       "mean   6.516930e+05  6.304762e+05  6.304762e+05    2.538099    0.704324   \n",
       "std    1.846820e+06  1.763518e+06  1.763518e+06    4.148328    0.152592   \n",
       "min    2.600000e+01  2.600000e+01  2.600000e+01    0.000000    0.385000   \n",
       "25%    2.669100e+04  2.549475e+04  2.549475e+04    0.000000    0.585250   \n",
       "50%    1.257585e+05  1.221600e+05  1.221600e+05    1.050000    0.717500   \n",
       "75%    5.907288e+05  5.784400e+05  5.784400e+05    2.975000    0.815000   \n",
       "max    1.709825e+07  1.637841e+07  1.637841e+07   27.800000    0.962000   \n",
       "\n",
       "       %HDI Growth  IMF Forecast GDP(Nominal)  \\\n",
       "count   140.000000               1.360000e+02   \n",
       "mean      0.539571               3.268823e+05   \n",
       "std       0.396370               7.636126e+05   \n",
       "min       0.000000               6.300000e+01   \n",
       "25%       0.230000               1.145125e+04   \n",
       "50%       0.445000               3.256650e+04   \n",
       "75%       0.762500               3.084302e+05   \n",
       "max       1.940000               4.429838e+06   \n",
       "\n",
       "       World Bank Forecast GDP(Nominal)  UN Forecast GDP(Nominal)  \\\n",
       "count                      1.370000e+02              1.380000e+02   \n",
       "mean                       3.055762e+05              2.945361e+05   \n",
       "std                        7.201154e+05              7.357661e+05   \n",
       "min                        6.000000e+01              6.000000e+01   \n",
       "25%                        1.049200e+04              6.367750e+03   \n",
       "50%                        2.995700e+04              2.714700e+04   \n",
       "75%                        2.641820e+05              2.211575e+05   \n",
       "max                        4.231141e+06              4.940878e+06   \n",
       "\n",
       "       IMF Forecast GDP(PPP)  World Bank Forecast GDP(PPP)  \\\n",
       "count           1.370000e+02                  1.410000e+02   \n",
       "mean            6.627371e+05                  5.994211e+05   \n",
       "std             1.569281e+06                  1.428972e+06   \n",
       "min             6.300000e+01                  6.100000e+01   \n",
       "25%             2.835600e+04                  1.935800e+04   \n",
       "50%             7.854700e+04                  6.491000e+04   \n",
       "75%             5.484650e+05                  5.063390e+05   \n",
       "max             1.311962e+07                  1.187458e+07   \n",
       "\n",
       "       CIA Forecast GDP(PPP)  Internet Users  Population 2022  \\\n",
       "count           1.390000e+02    1.420000e+02     1.420000e+02   \n",
       "mean            4.629539e+05    2.245352e+07     3.650124e+07   \n",
       "std             1.088335e+06    8.024149e+07     1.252199e+08   \n",
       "min             5.000000e+01    5.520000e+03     1.131200e+04   \n",
       "25%             1.830500e+04    5.799232e+05     2.096591e+06   \n",
       "50%             5.692000e+04    3.012851e+06     9.488042e+06   \n",
       "75%             3.717800e+05    1.232198e+07     3.236403e+07   \n",
       "max             8.443360e+06    8.812500e+08     1.417173e+09   \n",
       "\n",
       "       Population 2023  Population %Change  \n",
       "count     1.420000e+02          142.000000  \n",
       "mean      3.689126e+07            1.166408  \n",
       "std       1.262483e+08            1.124469  \n",
       "min       1.139600e+04           -3.640000  \n",
       "25%       2.101970e+06            0.522500  \n",
       "50%       9.507554e+06            1.055000  \n",
       "75%       3.314716e+07            1.960000  \n",
       "max       1.428628e+09            4.980000  "
      ]
     },
     "execution_count": 83,
     "metadata": {},
     "output_type": "execute_result"
    }
   ],
   "source": [
    "#stat info. about dataset \n",
    "data.describe()"
   ]
  },
  {
   "cell_type": "code",
   "execution_count": 84,
   "id": "ae1d0ed5",
   "metadata": {},
   "outputs": [
    {
     "name": "stdout",
     "output_type": "stream",
     "text": [
      "<class 'pandas.core.frame.DataFrame'>\n",
      "RangeIndex: 142 entries, 0 to 141\n",
      "Data columns (total 19 columns):\n",
      " #   Column                            Non-Null Count  Dtype  \n",
      "---  ------                            --------------  -----  \n",
      " 0   Country                           142 non-null    object \n",
      " 1   Total in km2                      142 non-null    float64\n",
      " 2   Land in km2                       142 non-null    float64\n",
      " 3   Water in km2                      142 non-null    float64\n",
      " 4   Water %                           142 non-null    float64\n",
      " 5   HDI                               142 non-null    float64\n",
      " 6   %HDI Growth                       140 non-null    float64\n",
      " 7   IMF Forecast GDP(Nominal)         136 non-null    float64\n",
      " 8   World Bank Forecast GDP(Nominal)  137 non-null    float64\n",
      " 9   UN Forecast GDP(Nominal)          138 non-null    float64\n",
      " 10  IMF Forecast GDP(PPP)             137 non-null    float64\n",
      " 11  World Bank Forecast GDP(PPP)      141 non-null    float64\n",
      " 12  CIA Forecast GDP(PPP)             139 non-null    float64\n",
      " 13  Internet Users                    142 non-null    float64\n",
      " 14  UN Continental Region             142 non-null    object \n",
      " 15  UN Statistical Subregion          142 non-null    object \n",
      " 16  Population 2022                   142 non-null    float64\n",
      " 17  Population 2023                   142 non-null    float64\n",
      " 18  Population %Change                142 non-null    float64\n",
      "dtypes: float64(16), object(3)\n",
      "memory usage: 21.2+ KB\n"
     ]
    }
   ],
   "source": [
    "data.info()"
   ]
  },
  {
   "cell_type": "code",
   "execution_count": 85,
   "id": "a8b81ae5",
   "metadata": {},
   "outputs": [
    {
     "data": {
      "text/plain": [
       "(142, 19)"
      ]
     },
     "execution_count": 85,
     "metadata": {},
     "output_type": "execute_result"
    }
   ],
   "source": [
    "data.shape"
   ]
  },
  {
   "cell_type": "markdown",
   "id": "bea46025",
   "metadata": {},
   "source": [
    "The dataset consists of 19 columns and 142 rows. 16 out of the 19 columns have float data types and 3 columns have string object data types."
   ]
  },
  {
   "cell_type": "markdown",
   "id": "d31cad8c",
   "metadata": {},
   "source": [
    "The dataset consists of some interesting information. Before we dive in, let's check for any inconsistencies and missing values."
   ]
  },
  {
   "cell_type": "code",
   "execution_count": 88,
   "id": "d789b5e0",
   "metadata": {
    "scrolled": true
   },
   "outputs": [
    {
     "name": "stdout",
     "output_type": "stream",
     "text": [
      "missing values (%) per column: \n",
      " Country                             0.000000\n",
      "Total in km2                        0.000000\n",
      "Land in km2                         0.000000\n",
      "Water in km2                        0.000000\n",
      "Water %                             0.000000\n",
      "HDI                                 0.000000\n",
      "%HDI Growth                         1.408451\n",
      "IMF Forecast GDP(Nominal)           4.225352\n",
      "World Bank Forecast GDP(Nominal)    3.521127\n",
      "UN Forecast GDP(Nominal)            2.816901\n",
      "IMF Forecast GDP(PPP)               3.521127\n",
      "World Bank Forecast GDP(PPP)        0.704225\n",
      "CIA Forecast GDP(PPP)               2.112676\n",
      "Internet Users                      0.000000\n",
      "UN Continental Region               0.000000\n",
      "UN Statistical Subregion            0.000000\n",
      "Population 2022                     0.000000\n",
      "Population 2023                     0.000000\n",
      "Population %Change                  0.000000\n",
      "dtype: float64\n"
     ]
    }
   ],
   "source": [
    "#locate any missing vals\n",
    "print('missing values (%) per column: \\n', 100*data.isnull().mean())"
   ]
  },
  {
   "cell_type": "markdown",
   "id": "5698a684",
   "metadata": {},
   "source": [
    "Most of the missing values are within the GDP forecast columns. The column with the most missing values is the IMF Forecast GDP (Nominal). "
   ]
  },
  {
   "cell_type": "code",
   "execution_count": 90,
   "id": "de17f0d8",
   "metadata": {},
   "outputs": [
    {
     "name": "stdout",
     "output_type": "stream",
     "text": [
      "Columns without numeric data: Country, UN Continental Region, UN Statistical Subregion.\n"
     ]
    }
   ],
   "source": [
    "#non-numerical data columns\n",
    "non_numeric_data = list(data.select_dtypes(exclude = ('int', 'float')).columns)\n",
    "print(f'Columns without numeric data: {\", \".join(non_numeric_data)}.')"
   ]
  },
  {
   "cell_type": "code",
   "execution_count": 91,
   "id": "29a2a028",
   "metadata": {},
   "outputs": [
    {
     "name": "stdout",
     "output_type": "stream",
     "text": [
      "Duplication overall:  0.0\n",
      "Duplication in Country column:  0.0\n"
     ]
    }
   ],
   "source": [
    "#check for any duplications \n",
    "print('Duplication overall: ', 100*(len(data)-len(data.drop_duplicates()))/len(data))\n",
    "print('Duplication in Country column: ', 100*(len(data['Country'])-len(data['Country'].drop_duplicates()))/len(data['Country']))"
   ]
  },
  {
   "cell_type": "markdown",
   "id": "6d40abd4",
   "metadata": {},
   "source": [
    "There are no overall duplicates or duplicates in any of the country names. We can expect there to be duplicates in the region and sub-region columns."
   ]
  },
  {
   "cell_type": "code",
   "execution_count": 93,
   "id": "691faba0",
   "metadata": {
    "scrolled": true
   },
   "outputs": [
    {
     "data": {
      "text/html": [
       "<div>\n",
       "<style scoped>\n",
       "    .dataframe tbody tr th:only-of-type {\n",
       "        vertical-align: middle;\n",
       "    }\n",
       "\n",
       "    .dataframe tbody tr th {\n",
       "        vertical-align: top;\n",
       "    }\n",
       "\n",
       "    .dataframe thead th {\n",
       "        text-align: right;\n",
       "    }\n",
       "</style>\n",
       "<table border=\"1\" class=\"dataframe\">\n",
       "  <thead>\n",
       "    <tr style=\"text-align: right;\">\n",
       "      <th></th>\n",
       "      <th>UN Continental Region</th>\n",
       "      <th>Quantity</th>\n",
       "    </tr>\n",
       "  </thead>\n",
       "  <tbody>\n",
       "    <tr>\n",
       "      <th>0</th>\n",
       "      <td>Africa</td>\n",
       "      <td>42</td>\n",
       "    </tr>\n",
       "    <tr>\n",
       "      <th>1</th>\n",
       "      <td>Asia</td>\n",
       "      <td>34</td>\n",
       "    </tr>\n",
       "    <tr>\n",
       "      <th>2</th>\n",
       "      <td>Americas</td>\n",
       "      <td>30</td>\n",
       "    </tr>\n",
       "    <tr>\n",
       "      <th>3</th>\n",
       "      <td>Europe</td>\n",
       "      <td>29</td>\n",
       "    </tr>\n",
       "    <tr>\n",
       "      <th>4</th>\n",
       "      <td>Oceania</td>\n",
       "      <td>7</td>\n",
       "    </tr>\n",
       "  </tbody>\n",
       "</table>\n",
       "</div>"
      ],
      "text/plain": [
       "  UN Continental Region  Quantity\n",
       "0                Africa        42\n",
       "1                  Asia        34\n",
       "2              Americas        30\n",
       "3                Europe        29\n",
       "4               Oceania         7"
      ]
     },
     "execution_count": 93,
     "metadata": {},
     "output_type": "execute_result"
    }
   ],
   "source": [
    "#Let's see how the data is split geographically \n",
    "continents_df = data['UN Continental Region'].value_counts().to_frame().reset_index().rename(columns = {'index':'UN Continental Region', 'UN Continental Region':'Quantity'})\n",
    "continents_df"
   ]
  },
  {
   "cell_type": "code",
   "execution_count": 127,
   "id": "b5976fb4",
   "metadata": {},
   "outputs": [],
   "source": [
    "fig = px.pie(continents_df, names = 'UN Continental Region', values = 'Quantity',\n",
    "               title = 'Data split by Continents',\n",
    "               )"
   ]
  },
  {
   "cell_type": "code",
   "execution_count": 128,
   "id": "c0fef9fa",
   "metadata": {
    "scrolled": false
   },
   "outputs": [
    {
     "data": {
      "application/vnd.plotly.v1+json": {
       "config": {
        "plotlyServerURL": "https://plot.ly"
       },
       "data": [
        {
         "domain": {
          "x": [
           0,
           1
          ],
          "y": [
           0,
           1
          ]
         },
         "hovertemplate": "UN Continental Region=%{label}<br>Quantity=%{value}<extra></extra>",
         "labels": [
          "Africa",
          "Asia",
          "Americas",
          "Europe",
          "Oceania"
         ],
         "legendgroup": "",
         "name": "",
         "showlegend": true,
         "type": "pie",
         "values": [
          42,
          34,
          30,
          29,
          7
         ]
        }
       ],
       "layout": {
        "legend": {
         "tracegroupgap": 0
        },
        "template": {
         "data": {
          "bar": [
           {
            "error_x": {
             "color": "#2a3f5f"
            },
            "error_y": {
             "color": "#2a3f5f"
            },
            "marker": {
             "line": {
              "color": "#E5ECF6",
              "width": 0.5
             },
             "pattern": {
              "fillmode": "overlay",
              "size": 10,
              "solidity": 0.2
             }
            },
            "type": "bar"
           }
          ],
          "barpolar": [
           {
            "marker": {
             "line": {
              "color": "#E5ECF6",
              "width": 0.5
             },
             "pattern": {
              "fillmode": "overlay",
              "size": 10,
              "solidity": 0.2
             }
            },
            "type": "barpolar"
           }
          ],
          "carpet": [
           {
            "aaxis": {
             "endlinecolor": "#2a3f5f",
             "gridcolor": "white",
             "linecolor": "white",
             "minorgridcolor": "white",
             "startlinecolor": "#2a3f5f"
            },
            "baxis": {
             "endlinecolor": "#2a3f5f",
             "gridcolor": "white",
             "linecolor": "white",
             "minorgridcolor": "white",
             "startlinecolor": "#2a3f5f"
            },
            "type": "carpet"
           }
          ],
          "choropleth": [
           {
            "colorbar": {
             "outlinewidth": 0,
             "ticks": ""
            },
            "type": "choropleth"
           }
          ],
          "contour": [
           {
            "colorbar": {
             "outlinewidth": 0,
             "ticks": ""
            },
            "colorscale": [
             [
              0,
              "#0d0887"
             ],
             [
              0.1111111111111111,
              "#46039f"
             ],
             [
              0.2222222222222222,
              "#7201a8"
             ],
             [
              0.3333333333333333,
              "#9c179e"
             ],
             [
              0.4444444444444444,
              "#bd3786"
             ],
             [
              0.5555555555555556,
              "#d8576b"
             ],
             [
              0.6666666666666666,
              "#ed7953"
             ],
             [
              0.7777777777777778,
              "#fb9f3a"
             ],
             [
              0.8888888888888888,
              "#fdca26"
             ],
             [
              1,
              "#f0f921"
             ]
            ],
            "type": "contour"
           }
          ],
          "contourcarpet": [
           {
            "colorbar": {
             "outlinewidth": 0,
             "ticks": ""
            },
            "type": "contourcarpet"
           }
          ],
          "heatmap": [
           {
            "colorbar": {
             "outlinewidth": 0,
             "ticks": ""
            },
            "colorscale": [
             [
              0,
              "#0d0887"
             ],
             [
              0.1111111111111111,
              "#46039f"
             ],
             [
              0.2222222222222222,
              "#7201a8"
             ],
             [
              0.3333333333333333,
              "#9c179e"
             ],
             [
              0.4444444444444444,
              "#bd3786"
             ],
             [
              0.5555555555555556,
              "#d8576b"
             ],
             [
              0.6666666666666666,
              "#ed7953"
             ],
             [
              0.7777777777777778,
              "#fb9f3a"
             ],
             [
              0.8888888888888888,
              "#fdca26"
             ],
             [
              1,
              "#f0f921"
             ]
            ],
            "type": "heatmap"
           }
          ],
          "heatmapgl": [
           {
            "colorbar": {
             "outlinewidth": 0,
             "ticks": ""
            },
            "colorscale": [
             [
              0,
              "#0d0887"
             ],
             [
              0.1111111111111111,
              "#46039f"
             ],
             [
              0.2222222222222222,
              "#7201a8"
             ],
             [
              0.3333333333333333,
              "#9c179e"
             ],
             [
              0.4444444444444444,
              "#bd3786"
             ],
             [
              0.5555555555555556,
              "#d8576b"
             ],
             [
              0.6666666666666666,
              "#ed7953"
             ],
             [
              0.7777777777777778,
              "#fb9f3a"
             ],
             [
              0.8888888888888888,
              "#fdca26"
             ],
             [
              1,
              "#f0f921"
             ]
            ],
            "type": "heatmapgl"
           }
          ],
          "histogram": [
           {
            "marker": {
             "pattern": {
              "fillmode": "overlay",
              "size": 10,
              "solidity": 0.2
             }
            },
            "type": "histogram"
           }
          ],
          "histogram2d": [
           {
            "colorbar": {
             "outlinewidth": 0,
             "ticks": ""
            },
            "colorscale": [
             [
              0,
              "#0d0887"
             ],
             [
              0.1111111111111111,
              "#46039f"
             ],
             [
              0.2222222222222222,
              "#7201a8"
             ],
             [
              0.3333333333333333,
              "#9c179e"
             ],
             [
              0.4444444444444444,
              "#bd3786"
             ],
             [
              0.5555555555555556,
              "#d8576b"
             ],
             [
              0.6666666666666666,
              "#ed7953"
             ],
             [
              0.7777777777777778,
              "#fb9f3a"
             ],
             [
              0.8888888888888888,
              "#fdca26"
             ],
             [
              1,
              "#f0f921"
             ]
            ],
            "type": "histogram2d"
           }
          ],
          "histogram2dcontour": [
           {
            "colorbar": {
             "outlinewidth": 0,
             "ticks": ""
            },
            "colorscale": [
             [
              0,
              "#0d0887"
             ],
             [
              0.1111111111111111,
              "#46039f"
             ],
             [
              0.2222222222222222,
              "#7201a8"
             ],
             [
              0.3333333333333333,
              "#9c179e"
             ],
             [
              0.4444444444444444,
              "#bd3786"
             ],
             [
              0.5555555555555556,
              "#d8576b"
             ],
             [
              0.6666666666666666,
              "#ed7953"
             ],
             [
              0.7777777777777778,
              "#fb9f3a"
             ],
             [
              0.8888888888888888,
              "#fdca26"
             ],
             [
              1,
              "#f0f921"
             ]
            ],
            "type": "histogram2dcontour"
           }
          ],
          "mesh3d": [
           {
            "colorbar": {
             "outlinewidth": 0,
             "ticks": ""
            },
            "type": "mesh3d"
           }
          ],
          "parcoords": [
           {
            "line": {
             "colorbar": {
              "outlinewidth": 0,
              "ticks": ""
             }
            },
            "type": "parcoords"
           }
          ],
          "pie": [
           {
            "automargin": true,
            "type": "pie"
           }
          ],
          "scatter": [
           {
            "fillpattern": {
             "fillmode": "overlay",
             "size": 10,
             "solidity": 0.2
            },
            "type": "scatter"
           }
          ],
          "scatter3d": [
           {
            "line": {
             "colorbar": {
              "outlinewidth": 0,
              "ticks": ""
             }
            },
            "marker": {
             "colorbar": {
              "outlinewidth": 0,
              "ticks": ""
             }
            },
            "type": "scatter3d"
           }
          ],
          "scattercarpet": [
           {
            "marker": {
             "colorbar": {
              "outlinewidth": 0,
              "ticks": ""
             }
            },
            "type": "scattercarpet"
           }
          ],
          "scattergeo": [
           {
            "marker": {
             "colorbar": {
              "outlinewidth": 0,
              "ticks": ""
             }
            },
            "type": "scattergeo"
           }
          ],
          "scattergl": [
           {
            "marker": {
             "colorbar": {
              "outlinewidth": 0,
              "ticks": ""
             }
            },
            "type": "scattergl"
           }
          ],
          "scattermapbox": [
           {
            "marker": {
             "colorbar": {
              "outlinewidth": 0,
              "ticks": ""
             }
            },
            "type": "scattermapbox"
           }
          ],
          "scatterpolar": [
           {
            "marker": {
             "colorbar": {
              "outlinewidth": 0,
              "ticks": ""
             }
            },
            "type": "scatterpolar"
           }
          ],
          "scatterpolargl": [
           {
            "marker": {
             "colorbar": {
              "outlinewidth": 0,
              "ticks": ""
             }
            },
            "type": "scatterpolargl"
           }
          ],
          "scatterternary": [
           {
            "marker": {
             "colorbar": {
              "outlinewidth": 0,
              "ticks": ""
             }
            },
            "type": "scatterternary"
           }
          ],
          "surface": [
           {
            "colorbar": {
             "outlinewidth": 0,
             "ticks": ""
            },
            "colorscale": [
             [
              0,
              "#0d0887"
             ],
             [
              0.1111111111111111,
              "#46039f"
             ],
             [
              0.2222222222222222,
              "#7201a8"
             ],
             [
              0.3333333333333333,
              "#9c179e"
             ],
             [
              0.4444444444444444,
              "#bd3786"
             ],
             [
              0.5555555555555556,
              "#d8576b"
             ],
             [
              0.6666666666666666,
              "#ed7953"
             ],
             [
              0.7777777777777778,
              "#fb9f3a"
             ],
             [
              0.8888888888888888,
              "#fdca26"
             ],
             [
              1,
              "#f0f921"
             ]
            ],
            "type": "surface"
           }
          ],
          "table": [
           {
            "cells": {
             "fill": {
              "color": "#EBF0F8"
             },
             "line": {
              "color": "white"
             }
            },
            "header": {
             "fill": {
              "color": "#C8D4E3"
             },
             "line": {
              "color": "white"
             }
            },
            "type": "table"
           }
          ]
         },
         "layout": {
          "annotationdefaults": {
           "arrowcolor": "#2a3f5f",
           "arrowhead": 0,
           "arrowwidth": 1
          },
          "autotypenumbers": "strict",
          "coloraxis": {
           "colorbar": {
            "outlinewidth": 0,
            "ticks": ""
           }
          },
          "colorscale": {
           "diverging": [
            [
             0,
             "#8e0152"
            ],
            [
             0.1,
             "#c51b7d"
            ],
            [
             0.2,
             "#de77ae"
            ],
            [
             0.3,
             "#f1b6da"
            ],
            [
             0.4,
             "#fde0ef"
            ],
            [
             0.5,
             "#f7f7f7"
            ],
            [
             0.6,
             "#e6f5d0"
            ],
            [
             0.7,
             "#b8e186"
            ],
            [
             0.8,
             "#7fbc41"
            ],
            [
             0.9,
             "#4d9221"
            ],
            [
             1,
             "#276419"
            ]
           ],
           "sequential": [
            [
             0,
             "#0d0887"
            ],
            [
             0.1111111111111111,
             "#46039f"
            ],
            [
             0.2222222222222222,
             "#7201a8"
            ],
            [
             0.3333333333333333,
             "#9c179e"
            ],
            [
             0.4444444444444444,
             "#bd3786"
            ],
            [
             0.5555555555555556,
             "#d8576b"
            ],
            [
             0.6666666666666666,
             "#ed7953"
            ],
            [
             0.7777777777777778,
             "#fb9f3a"
            ],
            [
             0.8888888888888888,
             "#fdca26"
            ],
            [
             1,
             "#f0f921"
            ]
           ],
           "sequentialminus": [
            [
             0,
             "#0d0887"
            ],
            [
             0.1111111111111111,
             "#46039f"
            ],
            [
             0.2222222222222222,
             "#7201a8"
            ],
            [
             0.3333333333333333,
             "#9c179e"
            ],
            [
             0.4444444444444444,
             "#bd3786"
            ],
            [
             0.5555555555555556,
             "#d8576b"
            ],
            [
             0.6666666666666666,
             "#ed7953"
            ],
            [
             0.7777777777777778,
             "#fb9f3a"
            ],
            [
             0.8888888888888888,
             "#fdca26"
            ],
            [
             1,
             "#f0f921"
            ]
           ]
          },
          "colorway": [
           "#636efa",
           "#EF553B",
           "#00cc96",
           "#ab63fa",
           "#FFA15A",
           "#19d3f3",
           "#FF6692",
           "#B6E880",
           "#FF97FF",
           "#FECB52"
          ],
          "font": {
           "color": "#2a3f5f"
          },
          "geo": {
           "bgcolor": "white",
           "lakecolor": "white",
           "landcolor": "#E5ECF6",
           "showlakes": true,
           "showland": true,
           "subunitcolor": "white"
          },
          "hoverlabel": {
           "align": "left"
          },
          "hovermode": "closest",
          "mapbox": {
           "style": "light"
          },
          "paper_bgcolor": "white",
          "plot_bgcolor": "#E5ECF6",
          "polar": {
           "angularaxis": {
            "gridcolor": "white",
            "linecolor": "white",
            "ticks": ""
           },
           "bgcolor": "#E5ECF6",
           "radialaxis": {
            "gridcolor": "white",
            "linecolor": "white",
            "ticks": ""
           }
          },
          "scene": {
           "xaxis": {
            "backgroundcolor": "#E5ECF6",
            "gridcolor": "white",
            "gridwidth": 2,
            "linecolor": "white",
            "showbackground": true,
            "ticks": "",
            "zerolinecolor": "white"
           },
           "yaxis": {
            "backgroundcolor": "#E5ECF6",
            "gridcolor": "white",
            "gridwidth": 2,
            "linecolor": "white",
            "showbackground": true,
            "ticks": "",
            "zerolinecolor": "white"
           },
           "zaxis": {
            "backgroundcolor": "#E5ECF6",
            "gridcolor": "white",
            "gridwidth": 2,
            "linecolor": "white",
            "showbackground": true,
            "ticks": "",
            "zerolinecolor": "white"
           }
          },
          "shapedefaults": {
           "line": {
            "color": "#2a3f5f"
           }
          },
          "ternary": {
           "aaxis": {
            "gridcolor": "white",
            "linecolor": "white",
            "ticks": ""
           },
           "baxis": {
            "gridcolor": "white",
            "linecolor": "white",
            "ticks": ""
           },
           "bgcolor": "#E5ECF6",
           "caxis": {
            "gridcolor": "white",
            "linecolor": "white",
            "ticks": ""
           }
          },
          "title": {
           "x": 0.05
          },
          "xaxis": {
           "automargin": true,
           "gridcolor": "white",
           "linecolor": "white",
           "ticks": "",
           "title": {
            "standoff": 15
           },
           "zerolinecolor": "white",
           "zerolinewidth": 2
          },
          "yaxis": {
           "automargin": true,
           "gridcolor": "white",
           "linecolor": "white",
           "ticks": "",
           "title": {
            "standoff": 15
           },
           "zerolinecolor": "white",
           "zerolinewidth": 2
          }
         }
        },
        "title": {
         "text": "Data split by Continents"
        }
       }
      },
      "text/html": [
       "<div>                            <div id=\"4356500a-0269-4296-bdfe-d2e4ee5c3d25\" class=\"plotly-graph-div\" style=\"height:525px; width:100%;\"></div>            <script type=\"text/javascript\">                require([\"plotly\"], function(Plotly) {                    window.PLOTLYENV=window.PLOTLYENV || {};                                    if (document.getElementById(\"4356500a-0269-4296-bdfe-d2e4ee5c3d25\")) {                    Plotly.newPlot(                        \"4356500a-0269-4296-bdfe-d2e4ee5c3d25\",                        [{\"domain\":{\"x\":[0.0,1.0],\"y\":[0.0,1.0]},\"hovertemplate\":\"UN Continental Region=%{label}<br>Quantity=%{value}<extra></extra>\",\"labels\":[\"Africa\",\"Asia\",\"Americas\",\"Europe\",\"Oceania\"],\"legendgroup\":\"\",\"name\":\"\",\"showlegend\":true,\"values\":[42,34,30,29,7],\"type\":\"pie\"}],                        {\"template\":{\"data\":{\"histogram2dcontour\":[{\"type\":\"histogram2dcontour\",\"colorbar\":{\"outlinewidth\":0,\"ticks\":\"\"},\"colorscale\":[[0.0,\"#0d0887\"],[0.1111111111111111,\"#46039f\"],[0.2222222222222222,\"#7201a8\"],[0.3333333333333333,\"#9c179e\"],[0.4444444444444444,\"#bd3786\"],[0.5555555555555556,\"#d8576b\"],[0.6666666666666666,\"#ed7953\"],[0.7777777777777778,\"#fb9f3a\"],[0.8888888888888888,\"#fdca26\"],[1.0,\"#f0f921\"]]}],\"choropleth\":[{\"type\":\"choropleth\",\"colorbar\":{\"outlinewidth\":0,\"ticks\":\"\"}}],\"histogram2d\":[{\"type\":\"histogram2d\",\"colorbar\":{\"outlinewidth\":0,\"ticks\":\"\"},\"colorscale\":[[0.0,\"#0d0887\"],[0.1111111111111111,\"#46039f\"],[0.2222222222222222,\"#7201a8\"],[0.3333333333333333,\"#9c179e\"],[0.4444444444444444,\"#bd3786\"],[0.5555555555555556,\"#d8576b\"],[0.6666666666666666,\"#ed7953\"],[0.7777777777777778,\"#fb9f3a\"],[0.8888888888888888,\"#fdca26\"],[1.0,\"#f0f921\"]]}],\"heatmap\":[{\"type\":\"heatmap\",\"colorbar\":{\"outlinewidth\":0,\"ticks\":\"\"},\"colorscale\":[[0.0,\"#0d0887\"],[0.1111111111111111,\"#46039f\"],[0.2222222222222222,\"#7201a8\"],[0.3333333333333333,\"#9c179e\"],[0.4444444444444444,\"#bd3786\"],[0.5555555555555556,\"#d8576b\"],[0.6666666666666666,\"#ed7953\"],[0.7777777777777778,\"#fb9f3a\"],[0.8888888888888888,\"#fdca26\"],[1.0,\"#f0f921\"]]}],\"heatmapgl\":[{\"type\":\"heatmapgl\",\"colorbar\":{\"outlinewidth\":0,\"ticks\":\"\"},\"colorscale\":[[0.0,\"#0d0887\"],[0.1111111111111111,\"#46039f\"],[0.2222222222222222,\"#7201a8\"],[0.3333333333333333,\"#9c179e\"],[0.4444444444444444,\"#bd3786\"],[0.5555555555555556,\"#d8576b\"],[0.6666666666666666,\"#ed7953\"],[0.7777777777777778,\"#fb9f3a\"],[0.8888888888888888,\"#fdca26\"],[1.0,\"#f0f921\"]]}],\"contourcarpet\":[{\"type\":\"contourcarpet\",\"colorbar\":{\"outlinewidth\":0,\"ticks\":\"\"}}],\"contour\":[{\"type\":\"contour\",\"colorbar\":{\"outlinewidth\":0,\"ticks\":\"\"},\"colorscale\":[[0.0,\"#0d0887\"],[0.1111111111111111,\"#46039f\"],[0.2222222222222222,\"#7201a8\"],[0.3333333333333333,\"#9c179e\"],[0.4444444444444444,\"#bd3786\"],[0.5555555555555556,\"#d8576b\"],[0.6666666666666666,\"#ed7953\"],[0.7777777777777778,\"#fb9f3a\"],[0.8888888888888888,\"#fdca26\"],[1.0,\"#f0f921\"]]}],\"surface\":[{\"type\":\"surface\",\"colorbar\":{\"outlinewidth\":0,\"ticks\":\"\"},\"colorscale\":[[0.0,\"#0d0887\"],[0.1111111111111111,\"#46039f\"],[0.2222222222222222,\"#7201a8\"],[0.3333333333333333,\"#9c179e\"],[0.4444444444444444,\"#bd3786\"],[0.5555555555555556,\"#d8576b\"],[0.6666666666666666,\"#ed7953\"],[0.7777777777777778,\"#fb9f3a\"],[0.8888888888888888,\"#fdca26\"],[1.0,\"#f0f921\"]]}],\"mesh3d\":[{\"type\":\"mesh3d\",\"colorbar\":{\"outlinewidth\":0,\"ticks\":\"\"}}],\"scatter\":[{\"fillpattern\":{\"fillmode\":\"overlay\",\"size\":10,\"solidity\":0.2},\"type\":\"scatter\"}],\"parcoords\":[{\"type\":\"parcoords\",\"line\":{\"colorbar\":{\"outlinewidth\":0,\"ticks\":\"\"}}}],\"scatterpolargl\":[{\"type\":\"scatterpolargl\",\"marker\":{\"colorbar\":{\"outlinewidth\":0,\"ticks\":\"\"}}}],\"bar\":[{\"error_x\":{\"color\":\"#2a3f5f\"},\"error_y\":{\"color\":\"#2a3f5f\"},\"marker\":{\"line\":{\"color\":\"#E5ECF6\",\"width\":0.5},\"pattern\":{\"fillmode\":\"overlay\",\"size\":10,\"solidity\":0.2}},\"type\":\"bar\"}],\"scattergeo\":[{\"type\":\"scattergeo\",\"marker\":{\"colorbar\":{\"outlinewidth\":0,\"ticks\":\"\"}}}],\"scatterpolar\":[{\"type\":\"scatterpolar\",\"marker\":{\"colorbar\":{\"outlinewidth\":0,\"ticks\":\"\"}}}],\"histogram\":[{\"marker\":{\"pattern\":{\"fillmode\":\"overlay\",\"size\":10,\"solidity\":0.2}},\"type\":\"histogram\"}],\"scattergl\":[{\"type\":\"scattergl\",\"marker\":{\"colorbar\":{\"outlinewidth\":0,\"ticks\":\"\"}}}],\"scatter3d\":[{\"type\":\"scatter3d\",\"line\":{\"colorbar\":{\"outlinewidth\":0,\"ticks\":\"\"}},\"marker\":{\"colorbar\":{\"outlinewidth\":0,\"ticks\":\"\"}}}],\"scattermapbox\":[{\"type\":\"scattermapbox\",\"marker\":{\"colorbar\":{\"outlinewidth\":0,\"ticks\":\"\"}}}],\"scatterternary\":[{\"type\":\"scatterternary\",\"marker\":{\"colorbar\":{\"outlinewidth\":0,\"ticks\":\"\"}}}],\"scattercarpet\":[{\"type\":\"scattercarpet\",\"marker\":{\"colorbar\":{\"outlinewidth\":0,\"ticks\":\"\"}}}],\"carpet\":[{\"aaxis\":{\"endlinecolor\":\"#2a3f5f\",\"gridcolor\":\"white\",\"linecolor\":\"white\",\"minorgridcolor\":\"white\",\"startlinecolor\":\"#2a3f5f\"},\"baxis\":{\"endlinecolor\":\"#2a3f5f\",\"gridcolor\":\"white\",\"linecolor\":\"white\",\"minorgridcolor\":\"white\",\"startlinecolor\":\"#2a3f5f\"},\"type\":\"carpet\"}],\"table\":[{\"cells\":{\"fill\":{\"color\":\"#EBF0F8\"},\"line\":{\"color\":\"white\"}},\"header\":{\"fill\":{\"color\":\"#C8D4E3\"},\"line\":{\"color\":\"white\"}},\"type\":\"table\"}],\"barpolar\":[{\"marker\":{\"line\":{\"color\":\"#E5ECF6\",\"width\":0.5},\"pattern\":{\"fillmode\":\"overlay\",\"size\":10,\"solidity\":0.2}},\"type\":\"barpolar\"}],\"pie\":[{\"automargin\":true,\"type\":\"pie\"}]},\"layout\":{\"autotypenumbers\":\"strict\",\"colorway\":[\"#636efa\",\"#EF553B\",\"#00cc96\",\"#ab63fa\",\"#FFA15A\",\"#19d3f3\",\"#FF6692\",\"#B6E880\",\"#FF97FF\",\"#FECB52\"],\"font\":{\"color\":\"#2a3f5f\"},\"hovermode\":\"closest\",\"hoverlabel\":{\"align\":\"left\"},\"paper_bgcolor\":\"white\",\"plot_bgcolor\":\"#E5ECF6\",\"polar\":{\"bgcolor\":\"#E5ECF6\",\"angularaxis\":{\"gridcolor\":\"white\",\"linecolor\":\"white\",\"ticks\":\"\"},\"radialaxis\":{\"gridcolor\":\"white\",\"linecolor\":\"white\",\"ticks\":\"\"}},\"ternary\":{\"bgcolor\":\"#E5ECF6\",\"aaxis\":{\"gridcolor\":\"white\",\"linecolor\":\"white\",\"ticks\":\"\"},\"baxis\":{\"gridcolor\":\"white\",\"linecolor\":\"white\",\"ticks\":\"\"},\"caxis\":{\"gridcolor\":\"white\",\"linecolor\":\"white\",\"ticks\":\"\"}},\"coloraxis\":{\"colorbar\":{\"outlinewidth\":0,\"ticks\":\"\"}},\"colorscale\":{\"sequential\":[[0.0,\"#0d0887\"],[0.1111111111111111,\"#46039f\"],[0.2222222222222222,\"#7201a8\"],[0.3333333333333333,\"#9c179e\"],[0.4444444444444444,\"#bd3786\"],[0.5555555555555556,\"#d8576b\"],[0.6666666666666666,\"#ed7953\"],[0.7777777777777778,\"#fb9f3a\"],[0.8888888888888888,\"#fdca26\"],[1.0,\"#f0f921\"]],\"sequentialminus\":[[0.0,\"#0d0887\"],[0.1111111111111111,\"#46039f\"],[0.2222222222222222,\"#7201a8\"],[0.3333333333333333,\"#9c179e\"],[0.4444444444444444,\"#bd3786\"],[0.5555555555555556,\"#d8576b\"],[0.6666666666666666,\"#ed7953\"],[0.7777777777777778,\"#fb9f3a\"],[0.8888888888888888,\"#fdca26\"],[1.0,\"#f0f921\"]],\"diverging\":[[0,\"#8e0152\"],[0.1,\"#c51b7d\"],[0.2,\"#de77ae\"],[0.3,\"#f1b6da\"],[0.4,\"#fde0ef\"],[0.5,\"#f7f7f7\"],[0.6,\"#e6f5d0\"],[0.7,\"#b8e186\"],[0.8,\"#7fbc41\"],[0.9,\"#4d9221\"],[1,\"#276419\"]]},\"xaxis\":{\"gridcolor\":\"white\",\"linecolor\":\"white\",\"ticks\":\"\",\"title\":{\"standoff\":15},\"zerolinecolor\":\"white\",\"automargin\":true,\"zerolinewidth\":2},\"yaxis\":{\"gridcolor\":\"white\",\"linecolor\":\"white\",\"ticks\":\"\",\"title\":{\"standoff\":15},\"zerolinecolor\":\"white\",\"automargin\":true,\"zerolinewidth\":2},\"scene\":{\"xaxis\":{\"backgroundcolor\":\"#E5ECF6\",\"gridcolor\":\"white\",\"linecolor\":\"white\",\"showbackground\":true,\"ticks\":\"\",\"zerolinecolor\":\"white\",\"gridwidth\":2},\"yaxis\":{\"backgroundcolor\":\"#E5ECF6\",\"gridcolor\":\"white\",\"linecolor\":\"white\",\"showbackground\":true,\"ticks\":\"\",\"zerolinecolor\":\"white\",\"gridwidth\":2},\"zaxis\":{\"backgroundcolor\":\"#E5ECF6\",\"gridcolor\":\"white\",\"linecolor\":\"white\",\"showbackground\":true,\"ticks\":\"\",\"zerolinecolor\":\"white\",\"gridwidth\":2}},\"shapedefaults\":{\"line\":{\"color\":\"#2a3f5f\"}},\"annotationdefaults\":{\"arrowcolor\":\"#2a3f5f\",\"arrowhead\":0,\"arrowwidth\":1},\"geo\":{\"bgcolor\":\"white\",\"landcolor\":\"#E5ECF6\",\"subunitcolor\":\"white\",\"showland\":true,\"showlakes\":true,\"lakecolor\":\"white\"},\"title\":{\"x\":0.05},\"mapbox\":{\"style\":\"light\"}}},\"legend\":{\"tracegroupgap\":0},\"title\":{\"text\":\"Data split by Continents\"}},                        {\"responsive\": true}                    ).then(function(){\n",
       "                            \n",
       "var gd = document.getElementById('4356500a-0269-4296-bdfe-d2e4ee5c3d25');\n",
       "var x = new MutationObserver(function (mutations, observer) {{\n",
       "        var display = window.getComputedStyle(gd).display;\n",
       "        if (!display || display === 'none') {{\n",
       "            console.log([gd, 'removed!']);\n",
       "            Plotly.purge(gd);\n",
       "            observer.disconnect();\n",
       "        }}\n",
       "}});\n",
       "\n",
       "// Listen for the removal of the full notebook cells\n",
       "var notebookContainer = gd.closest('#notebook-container');\n",
       "if (notebookContainer) {{\n",
       "    x.observe(notebookContainer, {childList: true});\n",
       "}}\n",
       "\n",
       "// Listen for the clearing of the current output cell\n",
       "var outputEl = gd.closest('.output');\n",
       "if (outputEl) {{\n",
       "    x.observe(outputEl, {childList: true});\n",
       "}}\n",
       "\n",
       "                        })                };                });            </script>        </div>"
      ]
     },
     "metadata": {},
     "output_type": "display_data"
    }
   ],
   "source": [
    "fig.show()"
   ]
  },
  {
   "cell_type": "markdown",
   "id": "9f32c4f7",
   "metadata": {},
   "source": [
    "let's take a look at the land area for each country "
   ]
  },
  {
   "cell_type": "code",
   "execution_count": 72,
   "id": "5c17fc32",
   "metadata": {
    "scrolled": true
   },
   "outputs": [
    {
     "data": {
      "text/html": [
       "<div>\n",
       "<style scoped>\n",
       "    .dataframe tbody tr th:only-of-type {\n",
       "        vertical-align: middle;\n",
       "    }\n",
       "\n",
       "    .dataframe tbody tr th {\n",
       "        vertical-align: top;\n",
       "    }\n",
       "\n",
       "    .dataframe thead th {\n",
       "        text-align: right;\n",
       "    }\n",
       "</style>\n",
       "<table border=\"1\" class=\"dataframe\">\n",
       "  <thead>\n",
       "    <tr style=\"text-align: right;\">\n",
       "      <th></th>\n",
       "      <th>Country</th>\n",
       "      <th>Total in km2</th>\n",
       "      <th>Land in km2</th>\n",
       "      <th>Water in km2</th>\n",
       "      <th>Water %</th>\n",
       "      <th>HDI</th>\n",
       "      <th>%HDI Growth</th>\n",
       "      <th>IMF Forecast GDP(Nominal)</th>\n",
       "      <th>World Bank Forecast GDP(Nominal)</th>\n",
       "      <th>UN Forecast GDP(Nominal)</th>\n",
       "      <th>IMF Forecast GDP(PPP)</th>\n",
       "      <th>World Bank Forecast GDP(PPP)</th>\n",
       "      <th>CIA Forecast GDP(PPP)</th>\n",
       "      <th>Internet Users</th>\n",
       "      <th>UN Continental Region</th>\n",
       "      <th>UN Statistical Subregion</th>\n",
       "      <th>Population 2022</th>\n",
       "      <th>Population 2023</th>\n",
       "      <th>Population %Change</th>\n",
       "    </tr>\n",
       "  </thead>\n",
       "  <tbody>\n",
       "    <tr>\n",
       "      <th>0</th>\n",
       "      <td>Russia</td>\n",
       "      <td>17098246.0</td>\n",
       "      <td>16378410.0</td>\n",
       "      <td>16378410.0</td>\n",
       "      <td>4.2</td>\n",
       "      <td>0.822</td>\n",
       "      <td>0.29</td>\n",
       "      <td>1862470.0</td>\n",
       "      <td>2240422.0</td>\n",
       "      <td>1778782.0</td>\n",
       "      <td>5056479.0</td>\n",
       "      <td>5326855.0</td>\n",
       "      <td>3875690.0</td>\n",
       "      <td>129800000.0</td>\n",
       "      <td>Europe</td>\n",
       "      <td>Eastern Europe</td>\n",
       "      <td>1.447133e+08</td>\n",
       "      <td>1.444444e+08</td>\n",
       "      <td>-0.19</td>\n",
       "    </tr>\n",
       "    <tr>\n",
       "      <th>1</th>\n",
       "      <td>Canada</td>\n",
       "      <td>9984670.0</td>\n",
       "      <td>9093507.0</td>\n",
       "      <td>9093507.0</td>\n",
       "      <td>8.9</td>\n",
       "      <td>0.936</td>\n",
       "      <td>0.25</td>\n",
       "      <td>2117805.0</td>\n",
       "      <td>2139840.0</td>\n",
       "      <td>1988336.0</td>\n",
       "      <td>2378973.0</td>\n",
       "      <td>2273489.0</td>\n",
       "      <td>1742790.0</td>\n",
       "      <td>33950632.0</td>\n",
       "      <td>Americas</td>\n",
       "      <td>Northern America</td>\n",
       "      <td>3.845433e+07</td>\n",
       "      <td>3.878129e+07</td>\n",
       "      <td>0.85</td>\n",
       "    </tr>\n",
       "    <tr>\n",
       "      <th>2</th>\n",
       "      <td>Brazil</td>\n",
       "      <td>8510346.0</td>\n",
       "      <td>8460415.0</td>\n",
       "      <td>8460415.0</td>\n",
       "      <td>0.6</td>\n",
       "      <td>0.754</td>\n",
       "      <td>0.38</td>\n",
       "      <td>2126809.0</td>\n",
       "      <td>1920096.0</td>\n",
       "      <td>1608981.0</td>\n",
       "      <td>4101022.0</td>\n",
       "      <td>3837261.0</td>\n",
       "      <td>2989430.0</td>\n",
       "      <td>165300000.0</td>\n",
       "      <td>Americas</td>\n",
       "      <td>South America</td>\n",
       "      <td>2.153135e+08</td>\n",
       "      <td>2.164224e+08</td>\n",
       "      <td>0.52</td>\n",
       "    </tr>\n",
       "    <tr>\n",
       "      <th>3</th>\n",
       "      <td>India</td>\n",
       "      <td>3287263.0</td>\n",
       "      <td>2973190.0</td>\n",
       "      <td>2973190.0</td>\n",
       "      <td>9.6</td>\n",
       "      <td>0.633</td>\n",
       "      <td>0.88</td>\n",
       "      <td>3732224.0</td>\n",
       "      <td>3385090.0</td>\n",
       "      <td>3201471.0</td>\n",
       "      <td>13119622.0</td>\n",
       "      <td>11874583.0</td>\n",
       "      <td>8443360.0</td>\n",
       "      <td>881250000.0</td>\n",
       "      <td>Asia</td>\n",
       "      <td>Southern Asia</td>\n",
       "      <td>1.417173e+09</td>\n",
       "      <td>1.428628e+09</td>\n",
       "      <td>0.81</td>\n",
       "    </tr>\n",
       "    <tr>\n",
       "      <th>4</th>\n",
       "      <td>Argentina</td>\n",
       "      <td>2796427.0</td>\n",
       "      <td>2736690.0</td>\n",
       "      <td>2736690.0</td>\n",
       "      <td>1.6</td>\n",
       "      <td>0.842</td>\n",
       "      <td>0.09</td>\n",
       "      <td>621833.0</td>\n",
       "      <td>632770.0</td>\n",
       "      <td>487227.0</td>\n",
       "      <td>1239515.0</td>\n",
       "      <td>1225435.0</td>\n",
       "      <td>893310.0</td>\n",
       "      <td>40024673.0</td>\n",
       "      <td>Americas</td>\n",
       "      <td>South America</td>\n",
       "      <td>4.551032e+07</td>\n",
       "      <td>4.577388e+07</td>\n",
       "      <td>0.58</td>\n",
       "    </tr>\n",
       "  </tbody>\n",
       "</table>\n",
       "</div>"
      ],
      "text/plain": [
       "     Country  Total in km2  Land in km2  Water in km2  Water %    HDI  \\\n",
       "0     Russia    17098246.0   16378410.0    16378410.0      4.2  0.822   \n",
       "1     Canada     9984670.0    9093507.0     9093507.0      8.9  0.936   \n",
       "2     Brazil     8510346.0    8460415.0     8460415.0      0.6  0.754   \n",
       "3      India     3287263.0    2973190.0     2973190.0      9.6  0.633   \n",
       "4  Argentina     2796427.0    2736690.0     2736690.0      1.6  0.842   \n",
       "\n",
       "   %HDI Growth  IMF Forecast GDP(Nominal)  World Bank Forecast GDP(Nominal)  \\\n",
       "0         0.29                  1862470.0                         2240422.0   \n",
       "1         0.25                  2117805.0                         2139840.0   \n",
       "2         0.38                  2126809.0                         1920096.0   \n",
       "3         0.88                  3732224.0                         3385090.0   \n",
       "4         0.09                   621833.0                          632770.0   \n",
       "\n",
       "   UN Forecast GDP(Nominal)  IMF Forecast GDP(PPP)  \\\n",
       "0                 1778782.0              5056479.0   \n",
       "1                 1988336.0              2378973.0   \n",
       "2                 1608981.0              4101022.0   \n",
       "3                 3201471.0             13119622.0   \n",
       "4                  487227.0              1239515.0   \n",
       "\n",
       "   World Bank Forecast GDP(PPP)  CIA Forecast GDP(PPP)  Internet Users  \\\n",
       "0                     5326855.0              3875690.0     129800000.0   \n",
       "1                     2273489.0              1742790.0      33950632.0   \n",
       "2                     3837261.0              2989430.0     165300000.0   \n",
       "3                    11874583.0              8443360.0     881250000.0   \n",
       "4                     1225435.0               893310.0      40024673.0   \n",
       "\n",
       "  UN Continental Region UN Statistical Subregion  Population 2022  \\\n",
       "0                Europe           Eastern Europe     1.447133e+08   \n",
       "1              Americas         Northern America     3.845433e+07   \n",
       "2              Americas            South America     2.153135e+08   \n",
       "3                  Asia            Southern Asia     1.417173e+09   \n",
       "4              Americas            South America     4.551032e+07   \n",
       "\n",
       "   Population 2023  Population %Change  \n",
       "0     1.444444e+08               -0.19  \n",
       "1     3.878129e+07                0.85  \n",
       "2     2.164224e+08                0.52  \n",
       "3     1.428628e+09                0.81  \n",
       "4     4.577388e+07                0.58  "
      ]
     },
     "execution_count": 72,
     "metadata": {},
     "output_type": "execute_result"
    }
   ],
   "source": [
    "data.head()"
   ]
  },
  {
   "cell_type": "code",
   "execution_count": 119,
   "id": "a60d1914",
   "metadata": {
    "scrolled": true
   },
   "outputs": [
    {
     "data": {
      "text/html": [
       "<div>\n",
       "<style scoped>\n",
       "    .dataframe tbody tr th:only-of-type {\n",
       "        vertical-align: middle;\n",
       "    }\n",
       "\n",
       "    .dataframe tbody tr th {\n",
       "        vertical-align: top;\n",
       "    }\n",
       "\n",
       "    .dataframe thead th {\n",
       "        text-align: right;\n",
       "    }\n",
       "</style>\n",
       "<table border=\"1\" class=\"dataframe\">\n",
       "  <thead>\n",
       "    <tr style=\"text-align: right;\">\n",
       "      <th></th>\n",
       "      <th>Country</th>\n",
       "      <th>Total in km2</th>\n",
       "      <th>Land in km2</th>\n",
       "      <th>Water in km2</th>\n",
       "      <th>Water %</th>\n",
       "      <th>HDI</th>\n",
       "      <th>%HDI Growth</th>\n",
       "      <th>IMF Forecast GDP(Nominal)</th>\n",
       "      <th>World Bank Forecast GDP(Nominal)</th>\n",
       "      <th>UN Forecast GDP(Nominal)</th>\n",
       "      <th>IMF Forecast GDP(PPP)</th>\n",
       "      <th>World Bank Forecast GDP(PPP)</th>\n",
       "      <th>CIA Forecast GDP(PPP)</th>\n",
       "      <th>Internet Users</th>\n",
       "      <th>UN Continental Region</th>\n",
       "      <th>UN Statistical Subregion</th>\n",
       "      <th>Population 2022</th>\n",
       "      <th>Population 2023</th>\n",
       "      <th>Population %Change</th>\n",
       "    </tr>\n",
       "  </thead>\n",
       "  <tbody>\n",
       "    <tr>\n",
       "      <th>0</th>\n",
       "      <td>Russia</td>\n",
       "      <td>17098246.0</td>\n",
       "      <td>16378410.0</td>\n",
       "      <td>16378410.0</td>\n",
       "      <td>4.2</td>\n",
       "      <td>0.822</td>\n",
       "      <td>0.29</td>\n",
       "      <td>1862470.0</td>\n",
       "      <td>2240422.0</td>\n",
       "      <td>1778782.0</td>\n",
       "      <td>5056479.0</td>\n",
       "      <td>5326855.0</td>\n",
       "      <td>3875690.0</td>\n",
       "      <td>129800000.0</td>\n",
       "      <td>Europe</td>\n",
       "      <td>Eastern Europe</td>\n",
       "      <td>1.447133e+08</td>\n",
       "      <td>1.444444e+08</td>\n",
       "      <td>-0.19</td>\n",
       "    </tr>\n",
       "    <tr>\n",
       "      <th>1</th>\n",
       "      <td>Canada</td>\n",
       "      <td>9984670.0</td>\n",
       "      <td>9093507.0</td>\n",
       "      <td>9093507.0</td>\n",
       "      <td>8.9</td>\n",
       "      <td>0.936</td>\n",
       "      <td>0.25</td>\n",
       "      <td>2117805.0</td>\n",
       "      <td>2139840.0</td>\n",
       "      <td>1988336.0</td>\n",
       "      <td>2378973.0</td>\n",
       "      <td>2273489.0</td>\n",
       "      <td>1742790.0</td>\n",
       "      <td>33950632.0</td>\n",
       "      <td>Americas</td>\n",
       "      <td>Northern America</td>\n",
       "      <td>3.845433e+07</td>\n",
       "      <td>3.878129e+07</td>\n",
       "      <td>0.85</td>\n",
       "    </tr>\n",
       "    <tr>\n",
       "      <th>2</th>\n",
       "      <td>Brazil</td>\n",
       "      <td>8510346.0</td>\n",
       "      <td>8460415.0</td>\n",
       "      <td>8460415.0</td>\n",
       "      <td>0.6</td>\n",
       "      <td>0.754</td>\n",
       "      <td>0.38</td>\n",
       "      <td>2126809.0</td>\n",
       "      <td>1920096.0</td>\n",
       "      <td>1608981.0</td>\n",
       "      <td>4101022.0</td>\n",
       "      <td>3837261.0</td>\n",
       "      <td>2989430.0</td>\n",
       "      <td>165300000.0</td>\n",
       "      <td>Americas</td>\n",
       "      <td>South America</td>\n",
       "      <td>2.153135e+08</td>\n",
       "      <td>2.164224e+08</td>\n",
       "      <td>0.52</td>\n",
       "    </tr>\n",
       "    <tr>\n",
       "      <th>3</th>\n",
       "      <td>India</td>\n",
       "      <td>3287263.0</td>\n",
       "      <td>2973190.0</td>\n",
       "      <td>2973190.0</td>\n",
       "      <td>9.6</td>\n",
       "      <td>0.633</td>\n",
       "      <td>0.88</td>\n",
       "      <td>3732224.0</td>\n",
       "      <td>3385090.0</td>\n",
       "      <td>3201471.0</td>\n",
       "      <td>13119622.0</td>\n",
       "      <td>11874583.0</td>\n",
       "      <td>8443360.0</td>\n",
       "      <td>881250000.0</td>\n",
       "      <td>Asia</td>\n",
       "      <td>Southern Asia</td>\n",
       "      <td>1.417173e+09</td>\n",
       "      <td>1.428628e+09</td>\n",
       "      <td>0.81</td>\n",
       "    </tr>\n",
       "    <tr>\n",
       "      <th>4</th>\n",
       "      <td>Argentina</td>\n",
       "      <td>2796427.0</td>\n",
       "      <td>2736690.0</td>\n",
       "      <td>2736690.0</td>\n",
       "      <td>1.6</td>\n",
       "      <td>0.842</td>\n",
       "      <td>0.09</td>\n",
       "      <td>621833.0</td>\n",
       "      <td>632770.0</td>\n",
       "      <td>487227.0</td>\n",
       "      <td>1239515.0</td>\n",
       "      <td>1225435.0</td>\n",
       "      <td>893310.0</td>\n",
       "      <td>40024673.0</td>\n",
       "      <td>Americas</td>\n",
       "      <td>South America</td>\n",
       "      <td>4.551032e+07</td>\n",
       "      <td>4.577388e+07</td>\n",
       "      <td>0.58</td>\n",
       "    </tr>\n",
       "    <tr>\n",
       "      <th>...</th>\n",
       "      <td>...</td>\n",
       "      <td>...</td>\n",
       "      <td>...</td>\n",
       "      <td>...</td>\n",
       "      <td>...</td>\n",
       "      <td>...</td>\n",
       "      <td>...</td>\n",
       "      <td>...</td>\n",
       "      <td>...</td>\n",
       "      <td>...</td>\n",
       "      <td>...</td>\n",
       "      <td>...</td>\n",
       "      <td>...</td>\n",
       "      <td>...</td>\n",
       "      <td>...</td>\n",
       "      <td>...</td>\n",
       "      <td>...</td>\n",
       "      <td>...</td>\n",
       "      <td>...</td>\n",
       "    </tr>\n",
       "    <tr>\n",
       "      <th>137</th>\n",
       "      <td>Saint Kitts and Nevis</td>\n",
       "      <td>261.0</td>\n",
       "      <td>261.0</td>\n",
       "      <td>261.0</td>\n",
       "      <td>0.0</td>\n",
       "      <td>0.777</td>\n",
       "      <td>0.21</td>\n",
       "      <td>1069.0</td>\n",
       "      <td>962.0</td>\n",
       "      <td>861.0</td>\n",
       "      <td>1760.0</td>\n",
       "      <td>1406.0</td>\n",
       "      <td>1240.0</td>\n",
       "      <td>44669.0</td>\n",
       "      <td>Americas</td>\n",
       "      <td>Caribbean</td>\n",
       "      <td>4.765800e+04</td>\n",
       "      <td>4.775500e+04</td>\n",
       "      <td>0.20</td>\n",
       "    </tr>\n",
       "    <tr>\n",
       "      <th>138</th>\n",
       "      <td>Marshall Islands</td>\n",
       "      <td>181.0</td>\n",
       "      <td>181.0</td>\n",
       "      <td>181.0</td>\n",
       "      <td>0.0</td>\n",
       "      <td>0.639</td>\n",
       "      <td>NaN</td>\n",
       "      <td>277.0</td>\n",
       "      <td>280.0</td>\n",
       "      <td>257.0</td>\n",
       "      <td>263.0</td>\n",
       "      <td>249.0</td>\n",
       "      <td>240.0</td>\n",
       "      <td>20560.0</td>\n",
       "      <td>Oceania</td>\n",
       "      <td>Micronesia</td>\n",
       "      <td>4.156900e+04</td>\n",
       "      <td>4.199600e+04</td>\n",
       "      <td>1.03</td>\n",
       "    </tr>\n",
       "    <tr>\n",
       "      <th>139</th>\n",
       "      <td>Liechtenstein</td>\n",
       "      <td>160.0</td>\n",
       "      <td>160.0</td>\n",
       "      <td>160.0</td>\n",
       "      <td>0.0</td>\n",
       "      <td>0.935</td>\n",
       "      <td>0.22</td>\n",
       "      <td>NaN</td>\n",
       "      <td>6608.0</td>\n",
       "      <td>NaN</td>\n",
       "      <td>NaN</td>\n",
       "      <td>4978.0</td>\n",
       "      <td>NaN</td>\n",
       "      <td>37201.0</td>\n",
       "      <td>Europe</td>\n",
       "      <td>Western Europe</td>\n",
       "      <td>3.932700e+04</td>\n",
       "      <td>3.958500e+04</td>\n",
       "      <td>0.66</td>\n",
       "    </tr>\n",
       "    <tr>\n",
       "      <th>140</th>\n",
       "      <td>San Marino</td>\n",
       "      <td>61.0</td>\n",
       "      <td>61.0</td>\n",
       "      <td>61.0</td>\n",
       "      <td>0.0</td>\n",
       "      <td>0.853</td>\n",
       "      <td>NaN</td>\n",
       "      <td>1998.0</td>\n",
       "      <td>NaN</td>\n",
       "      <td>2021.0</td>\n",
       "      <td>2872.0</td>\n",
       "      <td>2022.0</td>\n",
       "      <td>2060.0</td>\n",
       "      <td>20100.0</td>\n",
       "      <td>Europe</td>\n",
       "      <td>Southern Europe</td>\n",
       "      <td>3.366100e+04</td>\n",
       "      <td>3.364200e+04</td>\n",
       "      <td>-0.06</td>\n",
       "    </tr>\n",
       "    <tr>\n",
       "      <th>141</th>\n",
       "      <td>Tuvalu</td>\n",
       "      <td>26.0</td>\n",
       "      <td>26.0</td>\n",
       "      <td>26.0</td>\n",
       "      <td>0.0</td>\n",
       "      <td>0.641</td>\n",
       "      <td>0.36</td>\n",
       "      <td>63.0</td>\n",
       "      <td>60.0</td>\n",
       "      <td>60.0</td>\n",
       "      <td>63.0</td>\n",
       "      <td>61.0</td>\n",
       "      <td>50.0</td>\n",
       "      <td>5520.0</td>\n",
       "      <td>Oceania</td>\n",
       "      <td>Polynesia</td>\n",
       "      <td>1.131200e+04</td>\n",
       "      <td>1.139600e+04</td>\n",
       "      <td>0.74</td>\n",
       "    </tr>\n",
       "  </tbody>\n",
       "</table>\n",
       "<p>142 rows × 19 columns</p>\n",
       "</div>"
      ],
      "text/plain": [
       "                   Country  Total in km2  Land in km2  Water in km2  Water %  \\\n",
       "0                   Russia    17098246.0   16378410.0    16378410.0      4.2   \n",
       "1                   Canada     9984670.0    9093507.0     9093507.0      8.9   \n",
       "2                   Brazil     8510346.0    8460415.0     8460415.0      0.6   \n",
       "3                    India     3287263.0    2973190.0     2973190.0      9.6   \n",
       "4                Argentina     2796427.0    2736690.0     2736690.0      1.6   \n",
       "..                     ...           ...          ...           ...      ...   \n",
       "137  Saint Kitts and Nevis         261.0        261.0         261.0      0.0   \n",
       "138       Marshall Islands         181.0        181.0         181.0      0.0   \n",
       "139          Liechtenstein         160.0        160.0         160.0      0.0   \n",
       "140             San Marino          61.0         61.0          61.0      0.0   \n",
       "141                 Tuvalu          26.0         26.0          26.0      0.0   \n",
       "\n",
       "       HDI  %HDI Growth  IMF Forecast GDP(Nominal)  \\\n",
       "0    0.822         0.29                  1862470.0   \n",
       "1    0.936         0.25                  2117805.0   \n",
       "2    0.754         0.38                  2126809.0   \n",
       "3    0.633         0.88                  3732224.0   \n",
       "4    0.842         0.09                   621833.0   \n",
       "..     ...          ...                        ...   \n",
       "137  0.777         0.21                     1069.0   \n",
       "138  0.639          NaN                      277.0   \n",
       "139  0.935         0.22                        NaN   \n",
       "140  0.853          NaN                     1998.0   \n",
       "141  0.641         0.36                       63.0   \n",
       "\n",
       "     World Bank Forecast GDP(Nominal)  UN Forecast GDP(Nominal)  \\\n",
       "0                           2240422.0                 1778782.0   \n",
       "1                           2139840.0                 1988336.0   \n",
       "2                           1920096.0                 1608981.0   \n",
       "3                           3385090.0                 3201471.0   \n",
       "4                            632770.0                  487227.0   \n",
       "..                                ...                       ...   \n",
       "137                             962.0                     861.0   \n",
       "138                             280.0                     257.0   \n",
       "139                            6608.0                       NaN   \n",
       "140                               NaN                    2021.0   \n",
       "141                              60.0                      60.0   \n",
       "\n",
       "     IMF Forecast GDP(PPP)  World Bank Forecast GDP(PPP)  \\\n",
       "0                5056479.0                     5326855.0   \n",
       "1                2378973.0                     2273489.0   \n",
       "2                4101022.0                     3837261.0   \n",
       "3               13119622.0                    11874583.0   \n",
       "4                1239515.0                     1225435.0   \n",
       "..                     ...                           ...   \n",
       "137                 1760.0                        1406.0   \n",
       "138                  263.0                         249.0   \n",
       "139                    NaN                        4978.0   \n",
       "140                 2872.0                        2022.0   \n",
       "141                   63.0                          61.0   \n",
       "\n",
       "     CIA Forecast GDP(PPP)  Internet Users UN Continental Region  \\\n",
       "0                3875690.0     129800000.0                Europe   \n",
       "1                1742790.0      33950632.0              Americas   \n",
       "2                2989430.0     165300000.0              Americas   \n",
       "3                8443360.0     881250000.0                  Asia   \n",
       "4                 893310.0      40024673.0              Americas   \n",
       "..                     ...             ...                   ...   \n",
       "137                 1240.0         44669.0              Americas   \n",
       "138                  240.0         20560.0               Oceania   \n",
       "139                    NaN         37201.0                Europe   \n",
       "140                 2060.0         20100.0                Europe   \n",
       "141                   50.0          5520.0               Oceania   \n",
       "\n",
       "    UN Statistical Subregion  Population 2022  Population 2023  \\\n",
       "0             Eastern Europe     1.447133e+08     1.444444e+08   \n",
       "1           Northern America     3.845433e+07     3.878129e+07   \n",
       "2              South America     2.153135e+08     2.164224e+08   \n",
       "3              Southern Asia     1.417173e+09     1.428628e+09   \n",
       "4              South America     4.551032e+07     4.577388e+07   \n",
       "..                       ...              ...              ...   \n",
       "137                Caribbean     4.765800e+04     4.775500e+04   \n",
       "138               Micronesia     4.156900e+04     4.199600e+04   \n",
       "139           Western Europe     3.932700e+04     3.958500e+04   \n",
       "140          Southern Europe     3.366100e+04     3.364200e+04   \n",
       "141                Polynesia     1.131200e+04     1.139600e+04   \n",
       "\n",
       "     Population %Change  \n",
       "0                 -0.19  \n",
       "1                  0.85  \n",
       "2                  0.52  \n",
       "3                  0.81  \n",
       "4                  0.58  \n",
       "..                  ...  \n",
       "137                0.20  \n",
       "138                1.03  \n",
       "139                0.66  \n",
       "140               -0.06  \n",
       "141                0.74  \n",
       "\n",
       "[142 rows x 19 columns]"
      ]
     },
     "execution_count": 119,
     "metadata": {},
     "output_type": "execute_result"
    }
   ],
   "source": [
    "lnddf = data.sort_values('Land in km2', ascending=False)\n",
    "lnddf"
   ]
  },
  {
   "cell_type": "code",
   "execution_count": 132,
   "id": "903cab3b",
   "metadata": {},
   "outputs": [
    {
     "data": {
      "text/html": [
       "<div>\n",
       "<style scoped>\n",
       "    .dataframe tbody tr th:only-of-type {\n",
       "        vertical-align: middle;\n",
       "    }\n",
       "\n",
       "    .dataframe tbody tr th {\n",
       "        vertical-align: top;\n",
       "    }\n",
       "\n",
       "    .dataframe thead th {\n",
       "        text-align: right;\n",
       "    }\n",
       "</style>\n",
       "<table border=\"1\" class=\"dataframe\">\n",
       "  <thead>\n",
       "    <tr style=\"text-align: right;\">\n",
       "      <th></th>\n",
       "      <th>Country</th>\n",
       "      <th>Total in km2</th>\n",
       "      <th>Land in km2</th>\n",
       "      <th>Water in km2</th>\n",
       "      <th>Water %</th>\n",
       "      <th>HDI</th>\n",
       "      <th>%HDI Growth</th>\n",
       "      <th>IMF Forecast GDP(Nominal)</th>\n",
       "      <th>World Bank Forecast GDP(Nominal)</th>\n",
       "      <th>UN Forecast GDP(Nominal)</th>\n",
       "      <th>IMF Forecast GDP(PPP)</th>\n",
       "      <th>World Bank Forecast GDP(PPP)</th>\n",
       "      <th>CIA Forecast GDP(PPP)</th>\n",
       "      <th>Internet Users</th>\n",
       "      <th>UN Continental Region</th>\n",
       "      <th>UN Statistical Subregion</th>\n",
       "      <th>Population 2022</th>\n",
       "      <th>Population 2023</th>\n",
       "      <th>Population %Change</th>\n",
       "    </tr>\n",
       "  </thead>\n",
       "  <tbody>\n",
       "    <tr>\n",
       "      <th>0</th>\n",
       "      <td>Russia</td>\n",
       "      <td>17098246.0</td>\n",
       "      <td>16378410.0</td>\n",
       "      <td>16378410.0</td>\n",
       "      <td>4.2</td>\n",
       "      <td>0.822</td>\n",
       "      <td>0.29</td>\n",
       "      <td>1862470.0</td>\n",
       "      <td>2240422.0</td>\n",
       "      <td>1778782.0</td>\n",
       "      <td>5056479.0</td>\n",
       "      <td>5326855.0</td>\n",
       "      <td>3875690.0</td>\n",
       "      <td>129800000.0</td>\n",
       "      <td>Europe</td>\n",
       "      <td>Eastern Europe</td>\n",
       "      <td>1.447133e+08</td>\n",
       "      <td>1.444444e+08</td>\n",
       "      <td>-0.19</td>\n",
       "    </tr>\n",
       "    <tr>\n",
       "      <th>1</th>\n",
       "      <td>Canada</td>\n",
       "      <td>9984670.0</td>\n",
       "      <td>9093507.0</td>\n",
       "      <td>9093507.0</td>\n",
       "      <td>8.9</td>\n",
       "      <td>0.936</td>\n",
       "      <td>0.25</td>\n",
       "      <td>2117805.0</td>\n",
       "      <td>2139840.0</td>\n",
       "      <td>1988336.0</td>\n",
       "      <td>2378973.0</td>\n",
       "      <td>2273489.0</td>\n",
       "      <td>1742790.0</td>\n",
       "      <td>33950632.0</td>\n",
       "      <td>Americas</td>\n",
       "      <td>Northern America</td>\n",
       "      <td>3.845433e+07</td>\n",
       "      <td>3.878129e+07</td>\n",
       "      <td>0.85</td>\n",
       "    </tr>\n",
       "    <tr>\n",
       "      <th>2</th>\n",
       "      <td>Brazil</td>\n",
       "      <td>8510346.0</td>\n",
       "      <td>8460415.0</td>\n",
       "      <td>8460415.0</td>\n",
       "      <td>0.6</td>\n",
       "      <td>0.754</td>\n",
       "      <td>0.38</td>\n",
       "      <td>2126809.0</td>\n",
       "      <td>1920096.0</td>\n",
       "      <td>1608981.0</td>\n",
       "      <td>4101022.0</td>\n",
       "      <td>3837261.0</td>\n",
       "      <td>2989430.0</td>\n",
       "      <td>165300000.0</td>\n",
       "      <td>Americas</td>\n",
       "      <td>South America</td>\n",
       "      <td>2.153135e+08</td>\n",
       "      <td>2.164224e+08</td>\n",
       "      <td>0.52</td>\n",
       "    </tr>\n",
       "    <tr>\n",
       "      <th>3</th>\n",
       "      <td>India</td>\n",
       "      <td>3287263.0</td>\n",
       "      <td>2973190.0</td>\n",
       "      <td>2973190.0</td>\n",
       "      <td>9.6</td>\n",
       "      <td>0.633</td>\n",
       "      <td>0.88</td>\n",
       "      <td>3732224.0</td>\n",
       "      <td>3385090.0</td>\n",
       "      <td>3201471.0</td>\n",
       "      <td>13119622.0</td>\n",
       "      <td>11874583.0</td>\n",
       "      <td>8443360.0</td>\n",
       "      <td>881250000.0</td>\n",
       "      <td>Asia</td>\n",
       "      <td>Southern Asia</td>\n",
       "      <td>1.417173e+09</td>\n",
       "      <td>1.428628e+09</td>\n",
       "      <td>0.81</td>\n",
       "    </tr>\n",
       "    <tr>\n",
       "      <th>4</th>\n",
       "      <td>Argentina</td>\n",
       "      <td>2796427.0</td>\n",
       "      <td>2736690.0</td>\n",
       "      <td>2736690.0</td>\n",
       "      <td>1.6</td>\n",
       "      <td>0.842</td>\n",
       "      <td>0.09</td>\n",
       "      <td>621833.0</td>\n",
       "      <td>632770.0</td>\n",
       "      <td>487227.0</td>\n",
       "      <td>1239515.0</td>\n",
       "      <td>1225435.0</td>\n",
       "      <td>893310.0</td>\n",
       "      <td>40024673.0</td>\n",
       "      <td>Americas</td>\n",
       "      <td>South America</td>\n",
       "      <td>4.551032e+07</td>\n",
       "      <td>4.577388e+07</td>\n",
       "      <td>0.58</td>\n",
       "    </tr>\n",
       "    <tr>\n",
       "      <th>5</th>\n",
       "      <td>Kazakhstan</td>\n",
       "      <td>2724910.0</td>\n",
       "      <td>2699700.0</td>\n",
       "      <td>2699700.0</td>\n",
       "      <td>0.9</td>\n",
       "      <td>0.811</td>\n",
       "      <td>0.51</td>\n",
       "      <td>259292.0</td>\n",
       "      <td>220623.0</td>\n",
       "      <td>193018.0</td>\n",
       "      <td>654050.0</td>\n",
       "      <td>604551.0</td>\n",
       "      <td>475180.0</td>\n",
       "      <td>13913699.0</td>\n",
       "      <td>Asia</td>\n",
       "      <td>Central Asia</td>\n",
       "      <td>1.939800e+07</td>\n",
       "      <td>1.960663e+07</td>\n",
       "      <td>1.08</td>\n",
       "    </tr>\n",
       "    <tr>\n",
       "      <th>6</th>\n",
       "      <td>Algeria</td>\n",
       "      <td>2381741.0</td>\n",
       "      <td>2381741.0</td>\n",
       "      <td>2381741.0</td>\n",
       "      <td>0.0</td>\n",
       "      <td>0.745</td>\n",
       "      <td>0.30</td>\n",
       "      <td>224107.0</td>\n",
       "      <td>191913.0</td>\n",
       "      <td>163473.0</td>\n",
       "      <td>628990.0</td>\n",
       "      <td>593153.0</td>\n",
       "      <td>468400.0</td>\n",
       "      <td>26350000.0</td>\n",
       "      <td>Africa</td>\n",
       "      <td>Northern Africa</td>\n",
       "      <td>4.490322e+07</td>\n",
       "      <td>4.560648e+07</td>\n",
       "      <td>1.57</td>\n",
       "    </tr>\n",
       "    <tr>\n",
       "      <th>7</th>\n",
       "      <td>Mexico</td>\n",
       "      <td>1964375.0</td>\n",
       "      <td>1943945.0</td>\n",
       "      <td>1943945.0</td>\n",
       "      <td>1.0</td>\n",
       "      <td>0.758</td>\n",
       "      <td>0.15</td>\n",
       "      <td>1811468.0</td>\n",
       "      <td>1414187.0</td>\n",
       "      <td>1272839.0</td>\n",
       "      <td>3277601.0</td>\n",
       "      <td>2742903.0</td>\n",
       "      <td>2306320.0</td>\n",
       "      <td>96800000.0</td>\n",
       "      <td>Americas</td>\n",
       "      <td>Central America</td>\n",
       "      <td>1.275041e+08</td>\n",
       "      <td>1.284556e+08</td>\n",
       "      <td>0.75</td>\n",
       "    </tr>\n",
       "    <tr>\n",
       "      <th>8</th>\n",
       "      <td>Indonesia</td>\n",
       "      <td>1910931.0</td>\n",
       "      <td>1811569.0</td>\n",
       "      <td>1811569.0</td>\n",
       "      <td>4.9</td>\n",
       "      <td>0.705</td>\n",
       "      <td>0.55</td>\n",
       "      <td>1417387.0</td>\n",
       "      <td>1319100.0</td>\n",
       "      <td>1186093.0</td>\n",
       "      <td>4393370.0</td>\n",
       "      <td>4036901.0</td>\n",
       "      <td>3130470.0</td>\n",
       "      <td>215626156.0</td>\n",
       "      <td>Asia</td>\n",
       "      <td>South-eastern Asia</td>\n",
       "      <td>2.755013e+08</td>\n",
       "      <td>2.775341e+08</td>\n",
       "      <td>0.74</td>\n",
       "    </tr>\n",
       "    <tr>\n",
       "      <th>10</th>\n",
       "      <td>Libya</td>\n",
       "      <td>1676198.0</td>\n",
       "      <td>1759540.0</td>\n",
       "      <td>1759540.0</td>\n",
       "      <td>0.0</td>\n",
       "      <td>0.718</td>\n",
       "      <td>0.26</td>\n",
       "      <td>40194.0</td>\n",
       "      <td>45752.0</td>\n",
       "      <td>39006.0</td>\n",
       "      <td>166887.0</td>\n",
       "      <td>162528.0</td>\n",
       "      <td>70650.0</td>\n",
       "      <td>1387116.0</td>\n",
       "      <td>Africa</td>\n",
       "      <td>Northern Africa</td>\n",
       "      <td>6.812341e+06</td>\n",
       "      <td>6.888388e+06</td>\n",
       "      <td>1.12</td>\n",
       "    </tr>\n",
       "    <tr>\n",
       "      <th>9</th>\n",
       "      <td>Sudan</td>\n",
       "      <td>1861484.0</td>\n",
       "      <td>1731671.0</td>\n",
       "      <td>1731671.0</td>\n",
       "      <td>7.0</td>\n",
       "      <td>0.508</td>\n",
       "      <td>0.40</td>\n",
       "      <td>25569.0</td>\n",
       "      <td>51662.0</td>\n",
       "      <td>35867.0</td>\n",
       "      <td>172651.0</td>\n",
       "      <td>189393.0</td>\n",
       "      <td>176400.0</td>\n",
       "      <td>12512639.0</td>\n",
       "      <td>Africa</td>\n",
       "      <td>Northern Africa</td>\n",
       "      <td>4.687420e+07</td>\n",
       "      <td>4.810901e+07</td>\n",
       "      <td>2.63</td>\n",
       "    </tr>\n",
       "    <tr>\n",
       "      <th>12</th>\n",
       "      <td>Mongolia</td>\n",
       "      <td>1564116.0</td>\n",
       "      <td>1553556.0</td>\n",
       "      <td>1553556.0</td>\n",
       "      <td>0.7</td>\n",
       "      <td>0.739</td>\n",
       "      <td>0.48</td>\n",
       "      <td>18782.0</td>\n",
       "      <td>16811.0</td>\n",
       "      <td>15098.0</td>\n",
       "      <td>52989.0</td>\n",
       "      <td>42824.0</td>\n",
       "      <td>37600.0</td>\n",
       "      <td>729236.0</td>\n",
       "      <td>Asia</td>\n",
       "      <td>Eastern Asia</td>\n",
       "      <td>3.398366e+06</td>\n",
       "      <td>3.447157e+06</td>\n",
       "      <td>1.44</td>\n",
       "    </tr>\n",
       "    <tr>\n",
       "      <th>11</th>\n",
       "      <td>Iran</td>\n",
       "      <td>1648195.0</td>\n",
       "      <td>1531595.0</td>\n",
       "      <td>1531595.0</td>\n",
       "      <td>7.1</td>\n",
       "      <td>0.774</td>\n",
       "      <td>0.35</td>\n",
       "      <td>366438.0</td>\n",
       "      <td>388544.0</td>\n",
       "      <td>594892.0</td>\n",
       "      <td>1725874.0</td>\n",
       "      <td>1600556.0</td>\n",
       "      <td>1044310.0</td>\n",
       "      <td>78086663.0</td>\n",
       "      <td>Asia</td>\n",
       "      <td>Southern Asia</td>\n",
       "      <td>8.855057e+07</td>\n",
       "      <td>8.917277e+07</td>\n",
       "      <td>0.70</td>\n",
       "    </tr>\n",
       "    <tr>\n",
       "      <th>13</th>\n",
       "      <td>Peru</td>\n",
       "      <td>1285216.0</td>\n",
       "      <td>1279996.0</td>\n",
       "      <td>1279996.0</td>\n",
       "      <td>0.4</td>\n",
       "      <td>0.762</td>\n",
       "      <td>0.45</td>\n",
       "      <td>264636.0</td>\n",
       "      <td>242632.0</td>\n",
       "      <td>223252.0</td>\n",
       "      <td>548465.0</td>\n",
       "      <td>512362.0</td>\n",
       "      <td>371290.0</td>\n",
       "      <td>15674241.0</td>\n",
       "      <td>Americas</td>\n",
       "      <td>South America</td>\n",
       "      <td>3.404959e+07</td>\n",
       "      <td>3.435272e+07</td>\n",
       "      <td>0.89</td>\n",
       "    </tr>\n",
       "    <tr>\n",
       "      <th>15</th>\n",
       "      <td>Niger</td>\n",
       "      <td>1267000.0</td>\n",
       "      <td>1266700.0</td>\n",
       "      <td>1266700.0</td>\n",
       "      <td>0.0</td>\n",
       "      <td>0.400</td>\n",
       "      <td>1.54</td>\n",
       "      <td>17073.0</td>\n",
       "      <td>13970.0</td>\n",
       "      <td>14915.0</td>\n",
       "      <td>42739.0</td>\n",
       "      <td>32917.0</td>\n",
       "      <td>28970.0</td>\n",
       "      <td>2194985.0</td>\n",
       "      <td>Africa</td>\n",
       "      <td>Western Africa</td>\n",
       "      <td>2.620798e+07</td>\n",
       "      <td>2.720284e+07</td>\n",
       "      <td>3.80</td>\n",
       "    </tr>\n",
       "    <tr>\n",
       "      <th>14</th>\n",
       "      <td>Chad</td>\n",
       "      <td>1284000.0</td>\n",
       "      <td>1259200.0</td>\n",
       "      <td>1259200.0</td>\n",
       "      <td>1.9</td>\n",
       "      <td>0.394</td>\n",
       "      <td>0.77</td>\n",
       "      <td>12596.0</td>\n",
       "      <td>12704.0</td>\n",
       "      <td>16410.0</td>\n",
       "      <td>32375.0</td>\n",
       "      <td>26904.0</td>\n",
       "      <td>24970.0</td>\n",
       "      <td>968500.0</td>\n",
       "      <td>Africa</td>\n",
       "      <td>Middle Africa</td>\n",
       "      <td>1.772332e+07</td>\n",
       "      <td>1.827857e+07</td>\n",
       "      <td>3.13</td>\n",
       "    </tr>\n",
       "    <tr>\n",
       "      <th>16</th>\n",
       "      <td>Angola</td>\n",
       "      <td>1246700.0</td>\n",
       "      <td>1246700.0</td>\n",
       "      <td>1246700.0</td>\n",
       "      <td>0.0</td>\n",
       "      <td>0.586</td>\n",
       "      <td>1.27</td>\n",
       "      <td>93796.0</td>\n",
       "      <td>106714.0</td>\n",
       "      <td>70533.0</td>\n",
       "      <td>260323.0</td>\n",
       "      <td>223319.0</td>\n",
       "      <td>203710.0</td>\n",
       "      <td>4271053.0</td>\n",
       "      <td>Africa</td>\n",
       "      <td>Middle Africa</td>\n",
       "      <td>3.558899e+07</td>\n",
       "      <td>3.668420e+07</td>\n",
       "      <td>3.08</td>\n",
       "    </tr>\n",
       "    <tr>\n",
       "      <th>17</th>\n",
       "      <td>Mali</td>\n",
       "      <td>1240192.0</td>\n",
       "      <td>1220190.0</td>\n",
       "      <td>1220190.0</td>\n",
       "      <td>1.6</td>\n",
       "      <td>0.428</td>\n",
       "      <td>0.53</td>\n",
       "      <td>21309.0</td>\n",
       "      <td>18827.0</td>\n",
       "      <td>19157.0</td>\n",
       "      <td>61625.0</td>\n",
       "      <td>51041.0</td>\n",
       "      <td>44890.0</td>\n",
       "      <td>2358540.0</td>\n",
       "      <td>Africa</td>\n",
       "      <td>Western Africa</td>\n",
       "      <td>2.259359e+07</td>\n",
       "      <td>2.329370e+07</td>\n",
       "      <td>3.10</td>\n",
       "    </tr>\n",
       "    <tr>\n",
       "      <th>18</th>\n",
       "      <td>South Africa</td>\n",
       "      <td>1221037.0</td>\n",
       "      <td>1214470.0</td>\n",
       "      <td>1214470.0</td>\n",
       "      <td>0.4</td>\n",
       "      <td>0.713</td>\n",
       "      <td>0.50</td>\n",
       "      <td>380906.0</td>\n",
       "      <td>405870.0</td>\n",
       "      <td>419016.0</td>\n",
       "      <td>997444.0</td>\n",
       "      <td>952603.0</td>\n",
       "      <td>680040.0</td>\n",
       "      <td>31858027.0</td>\n",
       "      <td>Africa</td>\n",
       "      <td>Southern Africa</td>\n",
       "      <td>5.989389e+07</td>\n",
       "      <td>6.041450e+07</td>\n",
       "      <td>0.87</td>\n",
       "    </tr>\n",
       "    <tr>\n",
       "      <th>20</th>\n",
       "      <td>Ethiopia</td>\n",
       "      <td>1104300.0</td>\n",
       "      <td>1096630.0</td>\n",
       "      <td>1096630.0</td>\n",
       "      <td>0.7</td>\n",
       "      <td>0.498</td>\n",
       "      <td>1.74</td>\n",
       "      <td>155804.0</td>\n",
       "      <td>126783.0</td>\n",
       "      <td>99269.0</td>\n",
       "      <td>393297.0</td>\n",
       "      <td>346893.0</td>\n",
       "      <td>264050.0</td>\n",
       "      <td>19543075.0</td>\n",
       "      <td>Africa</td>\n",
       "      <td>Eastern Africa</td>\n",
       "      <td>1.233799e+08</td>\n",
       "      <td>1.265271e+08</td>\n",
       "      <td>2.55</td>\n",
       "    </tr>\n",
       "    <tr>\n",
       "      <th>21</th>\n",
       "      <td>Bolivia</td>\n",
       "      <td>1098581.0</td>\n",
       "      <td>1083301.0</td>\n",
       "      <td>1083301.0</td>\n",
       "      <td>1.4</td>\n",
       "      <td>0.692</td>\n",
       "      <td>0.40</td>\n",
       "      <td>46796.0</td>\n",
       "      <td>43069.0</td>\n",
       "      <td>40408.0</td>\n",
       "      <td>125428.0</td>\n",
       "      <td>106856.0</td>\n",
       "      <td>92590.0</td>\n",
       "      <td>4843916.0</td>\n",
       "      <td>Americas</td>\n",
       "      <td>South America</td>\n",
       "      <td>1.222411e+07</td>\n",
       "      <td>1.238857e+07</td>\n",
       "      <td>1.35</td>\n",
       "    </tr>\n",
       "    <tr>\n",
       "      <th>19</th>\n",
       "      <td>Colombia</td>\n",
       "      <td>1141748.0</td>\n",
       "      <td>1038700.0</td>\n",
       "      <td>1038700.0</td>\n",
       "      <td>8.8</td>\n",
       "      <td>0.752</td>\n",
       "      <td>0.32</td>\n",
       "      <td>363835.0</td>\n",
       "      <td>343939.0</td>\n",
       "      <td>314464.0</td>\n",
       "      <td>1016124.0</td>\n",
       "      <td>1052389.0</td>\n",
       "      <td>683940.0</td>\n",
       "      <td>30548252.0</td>\n",
       "      <td>Americas</td>\n",
       "      <td>South America</td>\n",
       "      <td>5.187402e+07</td>\n",
       "      <td>5.208517e+07</td>\n",
       "      <td>0.41</td>\n",
       "    </tr>\n",
       "    <tr>\n",
       "      <th>22</th>\n",
       "      <td>Mauritania</td>\n",
       "      <td>1030700.0</td>\n",
       "      <td>1025520.0</td>\n",
       "      <td>1025520.0</td>\n",
       "      <td>0.4</td>\n",
       "      <td>0.556</td>\n",
       "      <td>0.79</td>\n",
       "      <td>10357.0</td>\n",
       "      <td>10375.0</td>\n",
       "      <td>9996.0</td>\n",
       "      <td>33414.0</td>\n",
       "      <td>26702.0</td>\n",
       "      <td>23170.0</td>\n",
       "      <td>919398.0</td>\n",
       "      <td>Africa</td>\n",
       "      <td>Western Africa</td>\n",
       "      <td>4.736139e+06</td>\n",
       "      <td>4.862989e+06</td>\n",
       "      <td>2.68</td>\n",
       "    </tr>\n",
       "    <tr>\n",
       "      <th>23</th>\n",
       "      <td>Egypt</td>\n",
       "      <td>1002000.0</td>\n",
       "      <td>995450.0</td>\n",
       "      <td>995450.0</td>\n",
       "      <td>0.6</td>\n",
       "      <td>0.731</td>\n",
       "      <td>0.73</td>\n",
       "      <td>398397.0</td>\n",
       "      <td>476748.0</td>\n",
       "      <td>425906.0</td>\n",
       "      <td>1809425.0</td>\n",
       "      <td>1674951.0</td>\n",
       "      <td>1223040.0</td>\n",
       "      <td>80750000.0</td>\n",
       "      <td>Africa</td>\n",
       "      <td>Northern Africa</td>\n",
       "      <td>1.109901e+08</td>\n",
       "      <td>1.127166e+08</td>\n",
       "      <td>1.56</td>\n",
       "    </tr>\n",
       "  </tbody>\n",
       "</table>\n",
       "</div>"
      ],
      "text/plain": [
       "         Country  Total in km2  Land in km2  Water in km2  Water %    HDI  \\\n",
       "0         Russia    17098246.0   16378410.0    16378410.0      4.2  0.822   \n",
       "1         Canada     9984670.0    9093507.0     9093507.0      8.9  0.936   \n",
       "2         Brazil     8510346.0    8460415.0     8460415.0      0.6  0.754   \n",
       "3          India     3287263.0    2973190.0     2973190.0      9.6  0.633   \n",
       "4      Argentina     2796427.0    2736690.0     2736690.0      1.6  0.842   \n",
       "5     Kazakhstan     2724910.0    2699700.0     2699700.0      0.9  0.811   \n",
       "6        Algeria     2381741.0    2381741.0     2381741.0      0.0  0.745   \n",
       "7         Mexico     1964375.0    1943945.0     1943945.0      1.0  0.758   \n",
       "8      Indonesia     1910931.0    1811569.0     1811569.0      4.9  0.705   \n",
       "10         Libya     1676198.0    1759540.0     1759540.0      0.0  0.718   \n",
       "9          Sudan     1861484.0    1731671.0     1731671.0      7.0  0.508   \n",
       "12      Mongolia     1564116.0    1553556.0     1553556.0      0.7  0.739   \n",
       "11          Iran     1648195.0    1531595.0     1531595.0      7.1  0.774   \n",
       "13          Peru     1285216.0    1279996.0     1279996.0      0.4  0.762   \n",
       "15         Niger     1267000.0    1266700.0     1266700.0      0.0  0.400   \n",
       "14          Chad     1284000.0    1259200.0     1259200.0      1.9  0.394   \n",
       "16        Angola     1246700.0    1246700.0     1246700.0      0.0  0.586   \n",
       "17          Mali     1240192.0    1220190.0     1220190.0      1.6  0.428   \n",
       "18  South Africa     1221037.0    1214470.0     1214470.0      0.4  0.713   \n",
       "20      Ethiopia     1104300.0    1096630.0     1096630.0      0.7  0.498   \n",
       "21       Bolivia     1098581.0    1083301.0     1083301.0      1.4  0.692   \n",
       "19      Colombia     1141748.0    1038700.0     1038700.0      8.8  0.752   \n",
       "22    Mauritania     1030700.0    1025520.0     1025520.0      0.4  0.556   \n",
       "23         Egypt     1002000.0     995450.0      995450.0      0.6  0.731   \n",
       "\n",
       "    %HDI Growth  IMF Forecast GDP(Nominal)  World Bank Forecast GDP(Nominal)  \\\n",
       "0          0.29                  1862470.0                         2240422.0   \n",
       "1          0.25                  2117805.0                         2139840.0   \n",
       "2          0.38                  2126809.0                         1920096.0   \n",
       "3          0.88                  3732224.0                         3385090.0   \n",
       "4          0.09                   621833.0                          632770.0   \n",
       "5          0.51                   259292.0                          220623.0   \n",
       "6          0.30                   224107.0                          191913.0   \n",
       "7          0.15                  1811468.0                         1414187.0   \n",
       "8          0.55                  1417387.0                         1319100.0   \n",
       "10         0.26                    40194.0                           45752.0   \n",
       "9          0.40                    25569.0                           51662.0   \n",
       "12         0.48                    18782.0                           16811.0   \n",
       "11         0.35                   366438.0                          388544.0   \n",
       "13         0.45                   264636.0                          242632.0   \n",
       "15         1.54                    17073.0                           13970.0   \n",
       "14         0.77                    12596.0                           12704.0   \n",
       "16         1.27                    93796.0                          106714.0   \n",
       "17         0.53                    21309.0                           18827.0   \n",
       "18         0.50                   380906.0                          405870.0   \n",
       "20         1.74                   155804.0                          126783.0   \n",
       "21         0.40                    46796.0                           43069.0   \n",
       "19         0.32                   363835.0                          343939.0   \n",
       "22         0.79                    10357.0                           10375.0   \n",
       "23         0.73                   398397.0                          476748.0   \n",
       "\n",
       "    UN Forecast GDP(Nominal)  IMF Forecast GDP(PPP)  \\\n",
       "0                  1778782.0              5056479.0   \n",
       "1                  1988336.0              2378973.0   \n",
       "2                  1608981.0              4101022.0   \n",
       "3                  3201471.0             13119622.0   \n",
       "4                   487227.0              1239515.0   \n",
       "5                   193018.0               654050.0   \n",
       "6                   163473.0               628990.0   \n",
       "7                  1272839.0              3277601.0   \n",
       "8                  1186093.0              4393370.0   \n",
       "10                   39006.0               166887.0   \n",
       "9                    35867.0               172651.0   \n",
       "12                   15098.0                52989.0   \n",
       "11                  594892.0              1725874.0   \n",
       "13                  223252.0               548465.0   \n",
       "15                   14915.0                42739.0   \n",
       "14                   16410.0                32375.0   \n",
       "16                   70533.0               260323.0   \n",
       "17                   19157.0                61625.0   \n",
       "18                  419016.0               997444.0   \n",
       "20                   99269.0               393297.0   \n",
       "21                   40408.0               125428.0   \n",
       "19                  314464.0              1016124.0   \n",
       "22                    9996.0                33414.0   \n",
       "23                  425906.0              1809425.0   \n",
       "\n",
       "    World Bank Forecast GDP(PPP)  CIA Forecast GDP(PPP)  Internet Users  \\\n",
       "0                      5326855.0              3875690.0     129800000.0   \n",
       "1                      2273489.0              1742790.0      33950632.0   \n",
       "2                      3837261.0              2989430.0     165300000.0   \n",
       "3                     11874583.0              8443360.0     881250000.0   \n",
       "4                      1225435.0               893310.0      40024673.0   \n",
       "5                       604551.0               475180.0      13913699.0   \n",
       "6                       593153.0               468400.0      26350000.0   \n",
       "7                      2742903.0              2306320.0      96800000.0   \n",
       "8                      4036901.0              3130470.0     215626156.0   \n",
       "10                      162528.0                70650.0       1387116.0   \n",
       "9                       189393.0               176400.0      12512639.0   \n",
       "12                       42824.0                37600.0        729236.0   \n",
       "11                     1600556.0              1044310.0      78086663.0   \n",
       "13                      512362.0               371290.0      15674241.0   \n",
       "15                       32917.0                28970.0       2194985.0   \n",
       "14                       26904.0                24970.0        968500.0   \n",
       "16                      223319.0               203710.0       4271053.0   \n",
       "17                       51041.0                44890.0       2358540.0   \n",
       "18                      952603.0               680040.0      31858027.0   \n",
       "20                      346893.0               264050.0      19543075.0   \n",
       "21                      106856.0                92590.0       4843916.0   \n",
       "19                     1052389.0               683940.0      30548252.0   \n",
       "22                       26702.0                23170.0        919398.0   \n",
       "23                     1674951.0              1223040.0      80750000.0   \n",
       "\n",
       "   UN Continental Region UN Statistical Subregion  Population 2022  \\\n",
       "0                 Europe           Eastern Europe     1.447133e+08   \n",
       "1               Americas         Northern America     3.845433e+07   \n",
       "2               Americas            South America     2.153135e+08   \n",
       "3                   Asia            Southern Asia     1.417173e+09   \n",
       "4               Americas            South America     4.551032e+07   \n",
       "5                   Asia             Central Asia     1.939800e+07   \n",
       "6                 Africa          Northern Africa     4.490322e+07   \n",
       "7               Americas          Central America     1.275041e+08   \n",
       "8                   Asia       South-eastern Asia     2.755013e+08   \n",
       "10                Africa          Northern Africa     6.812341e+06   \n",
       "9                 Africa          Northern Africa     4.687420e+07   \n",
       "12                  Asia             Eastern Asia     3.398366e+06   \n",
       "11                  Asia            Southern Asia     8.855057e+07   \n",
       "13              Americas            South America     3.404959e+07   \n",
       "15                Africa           Western Africa     2.620798e+07   \n",
       "14                Africa            Middle Africa     1.772332e+07   \n",
       "16                Africa            Middle Africa     3.558899e+07   \n",
       "17                Africa           Western Africa     2.259359e+07   \n",
       "18                Africa          Southern Africa     5.989389e+07   \n",
       "20                Africa           Eastern Africa     1.233799e+08   \n",
       "21              Americas            South America     1.222411e+07   \n",
       "19              Americas            South America     5.187402e+07   \n",
       "22                Africa           Western Africa     4.736139e+06   \n",
       "23                Africa          Northern Africa     1.109901e+08   \n",
       "\n",
       "    Population 2023  Population %Change  \n",
       "0      1.444444e+08               -0.19  \n",
       "1      3.878129e+07                0.85  \n",
       "2      2.164224e+08                0.52  \n",
       "3      1.428628e+09                0.81  \n",
       "4      4.577388e+07                0.58  \n",
       "5      1.960663e+07                1.08  \n",
       "6      4.560648e+07                1.57  \n",
       "7      1.284556e+08                0.75  \n",
       "8      2.775341e+08                0.74  \n",
       "10     6.888388e+06                1.12  \n",
       "9      4.810901e+07                2.63  \n",
       "12     3.447157e+06                1.44  \n",
       "11     8.917277e+07                0.70  \n",
       "13     3.435272e+07                0.89  \n",
       "15     2.720284e+07                3.80  \n",
       "14     1.827857e+07                3.13  \n",
       "16     3.668420e+07                3.08  \n",
       "17     2.329370e+07                3.10  \n",
       "18     6.041450e+07                0.87  \n",
       "20     1.265271e+08                2.55  \n",
       "21     1.238857e+07                1.35  \n",
       "19     5.208517e+07                0.41  \n",
       "22     4.862989e+06                2.68  \n",
       "23     1.127166e+08                1.56  "
      ]
     },
     "execution_count": 132,
     "metadata": {},
     "output_type": "execute_result"
    }
   ],
   "source": [
    "#filter countries with a total land area of 1m km2 or more\n",
    "lnddf.loc[lnddf['Total in km2'] >= 1.e6]"
   ]
  },
  {
   "cell_type": "code",
   "execution_count": 137,
   "id": "5e56a803",
   "metadata": {},
   "outputs": [
    {
     "data": {
      "application/vnd.plotly.v1+json": {
       "config": {
        "plotlyServerURL": "https://plot.ly"
       },
       "data": [
        {
         "domain": {
          "x": [
           0,
           1
          ],
          "y": [
           0,
           1
          ]
         },
         "hovertemplate": "Country=%{label}<br>Total in km2=%{value}<extra></extra>",
         "labels": [
          "Russia",
          "Canada",
          "Brazil",
          "India",
          "Argentina",
          "Kazakhstan",
          "Algeria",
          "Mexico",
          "Indonesia",
          "Libya",
          "Sudan",
          "Mongolia",
          "Iran",
          "Peru",
          "Niger",
          "Chad",
          "Angola",
          "Mali",
          "South Africa",
          "Ethiopia",
          "Bolivia",
          "Colombia",
          "Mauritania",
          "Egypt",
          "Other Countries",
          "Other Countries",
          "Other Countries",
          "Other Countries",
          "Other Countries",
          "Other Countries",
          "Other Countries",
          "Other Countries",
          "Other Countries",
          "Other Countries",
          "Other Countries",
          "Other Countries",
          "Other Countries",
          "Other Countries",
          "Other Countries",
          "Other Countries",
          "Other Countries",
          "Other Countries",
          "Other Countries",
          "Other Countries",
          "Other Countries",
          "Other Countries",
          "Other Countries",
          "Other Countries",
          "Other Countries",
          "Other Countries",
          "Other Countries",
          "Other Countries",
          "Other Countries",
          "Other Countries",
          "Other Countries",
          "Other Countries",
          "Other Countries",
          "Other Countries",
          "Other Countries",
          "Other Countries",
          "Other Countries",
          "Other Countries",
          "Other Countries",
          "Other Countries",
          "Other Countries",
          "Other Countries",
          "Other Countries",
          "Other Countries",
          "Other Countries",
          "Other Countries",
          "Other Countries",
          "Other Countries",
          "Other Countries",
          "Other Countries",
          "Other Countries",
          "Other Countries",
          "Other Countries",
          "Other Countries",
          "Other Countries",
          "Other Countries",
          "Other Countries",
          "Other Countries",
          "Other Countries",
          "Other Countries",
          "Other Countries",
          "Other Countries",
          "Other Countries",
          "Other Countries",
          "Other Countries",
          "Other Countries",
          "Other Countries",
          "Other Countries",
          "Other Countries",
          "Other Countries",
          "Other Countries",
          "Other Countries",
          "Other Countries",
          "Other Countries",
          "Other Countries",
          "Other Countries",
          "Other Countries",
          "Other Countries",
          "Other Countries",
          "Other Countries",
          "Other Countries",
          "Other Countries",
          "Other Countries",
          "Other Countries",
          "Other Countries",
          "Other Countries",
          "Other Countries",
          "Other Countries",
          "Other Countries",
          "Other Countries",
          "Other Countries",
          "Other Countries",
          "Other Countries",
          "Other Countries",
          "Other Countries",
          "Other Countries",
          "Other Countries",
          "Other Countries",
          "Other Countries",
          "Other Countries",
          "Other Countries",
          "Other Countries",
          "Other Countries",
          "Other Countries",
          "Other Countries",
          "Other Countries",
          "Other Countries",
          "Other Countries",
          "Other Countries",
          "Other Countries",
          "Other Countries",
          "Other Countries",
          "Other Countries",
          "Other Countries",
          "Other Countries",
          "Other Countries",
          "Other Countries",
          "Other Countries"
         ],
         "legendgroup": "",
         "name": "",
         "showlegend": true,
         "type": "pie",
         "values": [
          17098246,
          9984670,
          8510346,
          3287263,
          2796427,
          2724910,
          2381741,
          1964375,
          1910931,
          1676198,
          1861484,
          1564116,
          1648195,
          1285216,
          1267000,
          1284000,
          1246700,
          1240192,
          1221037,
          1104300,
          1098581,
          1141748,
          1030700,
          1002000,
          912050,
          881913,
          825615,
          801590,
          783562,
          756102,
          752612,
          676577,
          652867,
          644329,
          622984,
          587041,
          591958,
          582000,
          527968,
          513140,
          475650,
          438317,
          448969,
          447425,
          406752,
          377976,
          357581,
          330621,
          312679,
          331345,
          309980,
          300000,
          302068,
          283561,
          274200,
          267668,
          245836,
          242495,
          238398,
          236800,
          238537,
          207600,
          214969,
          196712,
          185180,
          181035,
          147181,
          141400,
          148460,
          131957,
          121144,
          130373,
          114763,
          112492,
          109884,
          110372,
          108889,
          103000,
          111369,
          94552,
          93025,
          71024,
          83878,
          75320,
          72300,
          69825,
          65610,
          64594,
          56785,
          51209,
          51100,
          48671,
          49035,
          42947,
          45339,
          41277,
          38394,
          30528,
          30355,
          29743,
          36125,
          28051,
          28896,
          27750,
          28748,
          27834,
          25713,
          26338,
          23200,
          22965,
          21937,
          21041,
          18272,
          17818,
          17363,
          13888,
          10991,
          13940,
          11295,
          5765,
          5127,
          2842,
          2586,
          1862,
          964,
          811,
          778,
          750,
          733,
          702,
          468,
          457,
          442,
          431,
          389,
          315,
          300,
          261,
          181,
          160,
          61,
          26
         ]
        }
       ],
       "layout": {
        "legend": {
         "tracegroupgap": 0
        },
        "template": {
         "data": {
          "bar": [
           {
            "error_x": {
             "color": "#2a3f5f"
            },
            "error_y": {
             "color": "#2a3f5f"
            },
            "marker": {
             "line": {
              "color": "#E5ECF6",
              "width": 0.5
             },
             "pattern": {
              "fillmode": "overlay",
              "size": 10,
              "solidity": 0.2
             }
            },
            "type": "bar"
           }
          ],
          "barpolar": [
           {
            "marker": {
             "line": {
              "color": "#E5ECF6",
              "width": 0.5
             },
             "pattern": {
              "fillmode": "overlay",
              "size": 10,
              "solidity": 0.2
             }
            },
            "type": "barpolar"
           }
          ],
          "carpet": [
           {
            "aaxis": {
             "endlinecolor": "#2a3f5f",
             "gridcolor": "white",
             "linecolor": "white",
             "minorgridcolor": "white",
             "startlinecolor": "#2a3f5f"
            },
            "baxis": {
             "endlinecolor": "#2a3f5f",
             "gridcolor": "white",
             "linecolor": "white",
             "minorgridcolor": "white",
             "startlinecolor": "#2a3f5f"
            },
            "type": "carpet"
           }
          ],
          "choropleth": [
           {
            "colorbar": {
             "outlinewidth": 0,
             "ticks": ""
            },
            "type": "choropleth"
           }
          ],
          "contour": [
           {
            "colorbar": {
             "outlinewidth": 0,
             "ticks": ""
            },
            "colorscale": [
             [
              0,
              "#0d0887"
             ],
             [
              0.1111111111111111,
              "#46039f"
             ],
             [
              0.2222222222222222,
              "#7201a8"
             ],
             [
              0.3333333333333333,
              "#9c179e"
             ],
             [
              0.4444444444444444,
              "#bd3786"
             ],
             [
              0.5555555555555556,
              "#d8576b"
             ],
             [
              0.6666666666666666,
              "#ed7953"
             ],
             [
              0.7777777777777778,
              "#fb9f3a"
             ],
             [
              0.8888888888888888,
              "#fdca26"
             ],
             [
              1,
              "#f0f921"
             ]
            ],
            "type": "contour"
           }
          ],
          "contourcarpet": [
           {
            "colorbar": {
             "outlinewidth": 0,
             "ticks": ""
            },
            "type": "contourcarpet"
           }
          ],
          "heatmap": [
           {
            "colorbar": {
             "outlinewidth": 0,
             "ticks": ""
            },
            "colorscale": [
             [
              0,
              "#0d0887"
             ],
             [
              0.1111111111111111,
              "#46039f"
             ],
             [
              0.2222222222222222,
              "#7201a8"
             ],
             [
              0.3333333333333333,
              "#9c179e"
             ],
             [
              0.4444444444444444,
              "#bd3786"
             ],
             [
              0.5555555555555556,
              "#d8576b"
             ],
             [
              0.6666666666666666,
              "#ed7953"
             ],
             [
              0.7777777777777778,
              "#fb9f3a"
             ],
             [
              0.8888888888888888,
              "#fdca26"
             ],
             [
              1,
              "#f0f921"
             ]
            ],
            "type": "heatmap"
           }
          ],
          "heatmapgl": [
           {
            "colorbar": {
             "outlinewidth": 0,
             "ticks": ""
            },
            "colorscale": [
             [
              0,
              "#0d0887"
             ],
             [
              0.1111111111111111,
              "#46039f"
             ],
             [
              0.2222222222222222,
              "#7201a8"
             ],
             [
              0.3333333333333333,
              "#9c179e"
             ],
             [
              0.4444444444444444,
              "#bd3786"
             ],
             [
              0.5555555555555556,
              "#d8576b"
             ],
             [
              0.6666666666666666,
              "#ed7953"
             ],
             [
              0.7777777777777778,
              "#fb9f3a"
             ],
             [
              0.8888888888888888,
              "#fdca26"
             ],
             [
              1,
              "#f0f921"
             ]
            ],
            "type": "heatmapgl"
           }
          ],
          "histogram": [
           {
            "marker": {
             "pattern": {
              "fillmode": "overlay",
              "size": 10,
              "solidity": 0.2
             }
            },
            "type": "histogram"
           }
          ],
          "histogram2d": [
           {
            "colorbar": {
             "outlinewidth": 0,
             "ticks": ""
            },
            "colorscale": [
             [
              0,
              "#0d0887"
             ],
             [
              0.1111111111111111,
              "#46039f"
             ],
             [
              0.2222222222222222,
              "#7201a8"
             ],
             [
              0.3333333333333333,
              "#9c179e"
             ],
             [
              0.4444444444444444,
              "#bd3786"
             ],
             [
              0.5555555555555556,
              "#d8576b"
             ],
             [
              0.6666666666666666,
              "#ed7953"
             ],
             [
              0.7777777777777778,
              "#fb9f3a"
             ],
             [
              0.8888888888888888,
              "#fdca26"
             ],
             [
              1,
              "#f0f921"
             ]
            ],
            "type": "histogram2d"
           }
          ],
          "histogram2dcontour": [
           {
            "colorbar": {
             "outlinewidth": 0,
             "ticks": ""
            },
            "colorscale": [
             [
              0,
              "#0d0887"
             ],
             [
              0.1111111111111111,
              "#46039f"
             ],
             [
              0.2222222222222222,
              "#7201a8"
             ],
             [
              0.3333333333333333,
              "#9c179e"
             ],
             [
              0.4444444444444444,
              "#bd3786"
             ],
             [
              0.5555555555555556,
              "#d8576b"
             ],
             [
              0.6666666666666666,
              "#ed7953"
             ],
             [
              0.7777777777777778,
              "#fb9f3a"
             ],
             [
              0.8888888888888888,
              "#fdca26"
             ],
             [
              1,
              "#f0f921"
             ]
            ],
            "type": "histogram2dcontour"
           }
          ],
          "mesh3d": [
           {
            "colorbar": {
             "outlinewidth": 0,
             "ticks": ""
            },
            "type": "mesh3d"
           }
          ],
          "parcoords": [
           {
            "line": {
             "colorbar": {
              "outlinewidth": 0,
              "ticks": ""
             }
            },
            "type": "parcoords"
           }
          ],
          "pie": [
           {
            "automargin": true,
            "type": "pie"
           }
          ],
          "scatter": [
           {
            "fillpattern": {
             "fillmode": "overlay",
             "size": 10,
             "solidity": 0.2
            },
            "type": "scatter"
           }
          ],
          "scatter3d": [
           {
            "line": {
             "colorbar": {
              "outlinewidth": 0,
              "ticks": ""
             }
            },
            "marker": {
             "colorbar": {
              "outlinewidth": 0,
              "ticks": ""
             }
            },
            "type": "scatter3d"
           }
          ],
          "scattercarpet": [
           {
            "marker": {
             "colorbar": {
              "outlinewidth": 0,
              "ticks": ""
             }
            },
            "type": "scattercarpet"
           }
          ],
          "scattergeo": [
           {
            "marker": {
             "colorbar": {
              "outlinewidth": 0,
              "ticks": ""
             }
            },
            "type": "scattergeo"
           }
          ],
          "scattergl": [
           {
            "marker": {
             "colorbar": {
              "outlinewidth": 0,
              "ticks": ""
             }
            },
            "type": "scattergl"
           }
          ],
          "scattermapbox": [
           {
            "marker": {
             "colorbar": {
              "outlinewidth": 0,
              "ticks": ""
             }
            },
            "type": "scattermapbox"
           }
          ],
          "scatterpolar": [
           {
            "marker": {
             "colorbar": {
              "outlinewidth": 0,
              "ticks": ""
             }
            },
            "type": "scatterpolar"
           }
          ],
          "scatterpolargl": [
           {
            "marker": {
             "colorbar": {
              "outlinewidth": 0,
              "ticks": ""
             }
            },
            "type": "scatterpolargl"
           }
          ],
          "scatterternary": [
           {
            "marker": {
             "colorbar": {
              "outlinewidth": 0,
              "ticks": ""
             }
            },
            "type": "scatterternary"
           }
          ],
          "surface": [
           {
            "colorbar": {
             "outlinewidth": 0,
             "ticks": ""
            },
            "colorscale": [
             [
              0,
              "#0d0887"
             ],
             [
              0.1111111111111111,
              "#46039f"
             ],
             [
              0.2222222222222222,
              "#7201a8"
             ],
             [
              0.3333333333333333,
              "#9c179e"
             ],
             [
              0.4444444444444444,
              "#bd3786"
             ],
             [
              0.5555555555555556,
              "#d8576b"
             ],
             [
              0.6666666666666666,
              "#ed7953"
             ],
             [
              0.7777777777777778,
              "#fb9f3a"
             ],
             [
              0.8888888888888888,
              "#fdca26"
             ],
             [
              1,
              "#f0f921"
             ]
            ],
            "type": "surface"
           }
          ],
          "table": [
           {
            "cells": {
             "fill": {
              "color": "#EBF0F8"
             },
             "line": {
              "color": "white"
             }
            },
            "header": {
             "fill": {
              "color": "#C8D4E3"
             },
             "line": {
              "color": "white"
             }
            },
            "type": "table"
           }
          ]
         },
         "layout": {
          "annotationdefaults": {
           "arrowcolor": "#2a3f5f",
           "arrowhead": 0,
           "arrowwidth": 1
          },
          "autotypenumbers": "strict",
          "coloraxis": {
           "colorbar": {
            "outlinewidth": 0,
            "ticks": ""
           }
          },
          "colorscale": {
           "diverging": [
            [
             0,
             "#8e0152"
            ],
            [
             0.1,
             "#c51b7d"
            ],
            [
             0.2,
             "#de77ae"
            ],
            [
             0.3,
             "#f1b6da"
            ],
            [
             0.4,
             "#fde0ef"
            ],
            [
             0.5,
             "#f7f7f7"
            ],
            [
             0.6,
             "#e6f5d0"
            ],
            [
             0.7,
             "#b8e186"
            ],
            [
             0.8,
             "#7fbc41"
            ],
            [
             0.9,
             "#4d9221"
            ],
            [
             1,
             "#276419"
            ]
           ],
           "sequential": [
            [
             0,
             "#0d0887"
            ],
            [
             0.1111111111111111,
             "#46039f"
            ],
            [
             0.2222222222222222,
             "#7201a8"
            ],
            [
             0.3333333333333333,
             "#9c179e"
            ],
            [
             0.4444444444444444,
             "#bd3786"
            ],
            [
             0.5555555555555556,
             "#d8576b"
            ],
            [
             0.6666666666666666,
             "#ed7953"
            ],
            [
             0.7777777777777778,
             "#fb9f3a"
            ],
            [
             0.8888888888888888,
             "#fdca26"
            ],
            [
             1,
             "#f0f921"
            ]
           ],
           "sequentialminus": [
            [
             0,
             "#0d0887"
            ],
            [
             0.1111111111111111,
             "#46039f"
            ],
            [
             0.2222222222222222,
             "#7201a8"
            ],
            [
             0.3333333333333333,
             "#9c179e"
            ],
            [
             0.4444444444444444,
             "#bd3786"
            ],
            [
             0.5555555555555556,
             "#d8576b"
            ],
            [
             0.6666666666666666,
             "#ed7953"
            ],
            [
             0.7777777777777778,
             "#fb9f3a"
            ],
            [
             0.8888888888888888,
             "#fdca26"
            ],
            [
             1,
             "#f0f921"
            ]
           ]
          },
          "colorway": [
           "#636efa",
           "#EF553B",
           "#00cc96",
           "#ab63fa",
           "#FFA15A",
           "#19d3f3",
           "#FF6692",
           "#B6E880",
           "#FF97FF",
           "#FECB52"
          ],
          "font": {
           "color": "#2a3f5f"
          },
          "geo": {
           "bgcolor": "white",
           "lakecolor": "white",
           "landcolor": "#E5ECF6",
           "showlakes": true,
           "showland": true,
           "subunitcolor": "white"
          },
          "hoverlabel": {
           "align": "left"
          },
          "hovermode": "closest",
          "mapbox": {
           "style": "light"
          },
          "paper_bgcolor": "white",
          "plot_bgcolor": "#E5ECF6",
          "polar": {
           "angularaxis": {
            "gridcolor": "white",
            "linecolor": "white",
            "ticks": ""
           },
           "bgcolor": "#E5ECF6",
           "radialaxis": {
            "gridcolor": "white",
            "linecolor": "white",
            "ticks": ""
           }
          },
          "scene": {
           "xaxis": {
            "backgroundcolor": "#E5ECF6",
            "gridcolor": "white",
            "gridwidth": 2,
            "linecolor": "white",
            "showbackground": true,
            "ticks": "",
            "zerolinecolor": "white"
           },
           "yaxis": {
            "backgroundcolor": "#E5ECF6",
            "gridcolor": "white",
            "gridwidth": 2,
            "linecolor": "white",
            "showbackground": true,
            "ticks": "",
            "zerolinecolor": "white"
           },
           "zaxis": {
            "backgroundcolor": "#E5ECF6",
            "gridcolor": "white",
            "gridwidth": 2,
            "linecolor": "white",
            "showbackground": true,
            "ticks": "",
            "zerolinecolor": "white"
           }
          },
          "shapedefaults": {
           "line": {
            "color": "#2a3f5f"
           }
          },
          "ternary": {
           "aaxis": {
            "gridcolor": "white",
            "linecolor": "white",
            "ticks": ""
           },
           "baxis": {
            "gridcolor": "white",
            "linecolor": "white",
            "ticks": ""
           },
           "bgcolor": "#E5ECF6",
           "caxis": {
            "gridcolor": "white",
            "linecolor": "white",
            "ticks": ""
           }
          },
          "title": {
           "x": 0.05
          },
          "xaxis": {
           "automargin": true,
           "gridcolor": "white",
           "linecolor": "white",
           "ticks": "",
           "title": {
            "standoff": 15
           },
           "zerolinecolor": "white",
           "zerolinewidth": 2
          },
          "yaxis": {
           "automargin": true,
           "gridcolor": "white",
           "linecolor": "white",
           "ticks": "",
           "title": {
            "standoff": 15
           },
           "zerolinecolor": "white",
           "zerolinewidth": 2
          }
         }
        },
        "title": {
         "text": "Countries by land area, km2"
        }
       }
      },
      "text/html": [
       "<div>                            <div id=\"cb90dd59-4dbf-489d-9493-67e62d77afa0\" class=\"plotly-graph-div\" style=\"height:525px; width:100%;\"></div>            <script type=\"text/javascript\">                require([\"plotly\"], function(Plotly) {                    window.PLOTLYENV=window.PLOTLYENV || {};                                    if (document.getElementById(\"cb90dd59-4dbf-489d-9493-67e62d77afa0\")) {                    Plotly.newPlot(                        \"cb90dd59-4dbf-489d-9493-67e62d77afa0\",                        [{\"domain\":{\"x\":[0.0,1.0],\"y\":[0.0,1.0]},\"hovertemplate\":\"Country=%{label}<br>Total in km2=%{value}<extra></extra>\",\"labels\":[\"Russia\",\"Canada\",\"Brazil\",\"India\",\"Argentina\",\"Kazakhstan\",\"Algeria\",\"Mexico\",\"Indonesia\",\"Libya\",\"Sudan\",\"Mongolia\",\"Iran\",\"Peru\",\"Niger\",\"Chad\",\"Angola\",\"Mali\",\"South Africa\",\"Ethiopia\",\"Bolivia\",\"Colombia\",\"Mauritania\",\"Egypt\",\"Other Countries\",\"Other Countries\",\"Other Countries\",\"Other Countries\",\"Other Countries\",\"Other Countries\",\"Other Countries\",\"Other Countries\",\"Other Countries\",\"Other Countries\",\"Other Countries\",\"Other Countries\",\"Other Countries\",\"Other Countries\",\"Other Countries\",\"Other Countries\",\"Other Countries\",\"Other Countries\",\"Other Countries\",\"Other Countries\",\"Other Countries\",\"Other Countries\",\"Other Countries\",\"Other Countries\",\"Other Countries\",\"Other Countries\",\"Other Countries\",\"Other Countries\",\"Other Countries\",\"Other Countries\",\"Other Countries\",\"Other Countries\",\"Other Countries\",\"Other Countries\",\"Other Countries\",\"Other Countries\",\"Other Countries\",\"Other Countries\",\"Other Countries\",\"Other Countries\",\"Other Countries\",\"Other Countries\",\"Other Countries\",\"Other Countries\",\"Other Countries\",\"Other Countries\",\"Other Countries\",\"Other Countries\",\"Other Countries\",\"Other Countries\",\"Other Countries\",\"Other Countries\",\"Other Countries\",\"Other Countries\",\"Other Countries\",\"Other Countries\",\"Other Countries\",\"Other Countries\",\"Other Countries\",\"Other Countries\",\"Other Countries\",\"Other Countries\",\"Other Countries\",\"Other Countries\",\"Other Countries\",\"Other Countries\",\"Other Countries\",\"Other Countries\",\"Other Countries\",\"Other Countries\",\"Other Countries\",\"Other Countries\",\"Other Countries\",\"Other Countries\",\"Other Countries\",\"Other Countries\",\"Other Countries\",\"Other Countries\",\"Other Countries\",\"Other Countries\",\"Other Countries\",\"Other Countries\",\"Other Countries\",\"Other Countries\",\"Other Countries\",\"Other Countries\",\"Other Countries\",\"Other Countries\",\"Other Countries\",\"Other Countries\",\"Other Countries\",\"Other Countries\",\"Other Countries\",\"Other Countries\",\"Other Countries\",\"Other Countries\",\"Other Countries\",\"Other Countries\",\"Other Countries\",\"Other Countries\",\"Other Countries\",\"Other Countries\",\"Other Countries\",\"Other Countries\",\"Other Countries\",\"Other Countries\",\"Other Countries\",\"Other Countries\",\"Other Countries\",\"Other Countries\",\"Other Countries\",\"Other Countries\",\"Other Countries\",\"Other Countries\",\"Other Countries\",\"Other Countries\",\"Other Countries\",\"Other Countries\"],\"legendgroup\":\"\",\"name\":\"\",\"showlegend\":true,\"values\":[17098246.0,9984670.0,8510346.0,3287263.0,2796427.0,2724910.0,2381741.0,1964375.0,1910931.0,1676198.0,1861484.0,1564116.0,1648195.0,1285216.0,1267000.0,1284000.0,1246700.0,1240192.0,1221037.0,1104300.0,1098581.0,1141748.0,1030700.0,1002000.0,912050.0,881913.0,825615.0,801590.0,783562.0,756102.0,752612.0,676577.0,652867.0,644329.0,622984.0,587041.0,591958.0,582000.0,527968.0,513140.0,475650.0,438317.0,448969.0,447425.0,406752.0,377976.0,357581.0,330621.0,312679.0,331345.0,309980.0,300000.0,302068.0,283561.0,274200.0,267668.0,245836.0,242495.0,238398.0,236800.0,238537.0,207600.0,214969.0,196712.0,185180.0,181035.0,147181.0,141400.0,148460.0,131957.0,121144.0,130373.0,114763.0,112492.0,109884.0,110372.0,108889.0,103000.0,111369.0,94552.0,93025.0,71024.0,83878.0,75320.0,72300.0,69825.0,65610.0,64594.0,56785.0,51209.0,51100.0,48671.0,49035.0,42947.0,45339.0,41277.0,38394.0,30528.0,30355.0,29743.0,36125.0,28051.0,28896.0,27750.0,28748.0,27834.0,25713.0,26338.0,23200.0,22965.0,21937.0,21041.0,18272.0,17818.0,17363.0,13888.0,10991.0,13940.0,11295.0,5765.0,5127.0,2842.0,2586.0,1862.0,964.0,811.0,778.0,750.0,733.0,702.0,468.0,457.0,442.0,431.0,389.0,315.0,300.0,261.0,181.0,160.0,61.0,26.0],\"type\":\"pie\"}],                        {\"template\":{\"data\":{\"histogram2dcontour\":[{\"type\":\"histogram2dcontour\",\"colorbar\":{\"outlinewidth\":0,\"ticks\":\"\"},\"colorscale\":[[0.0,\"#0d0887\"],[0.1111111111111111,\"#46039f\"],[0.2222222222222222,\"#7201a8\"],[0.3333333333333333,\"#9c179e\"],[0.4444444444444444,\"#bd3786\"],[0.5555555555555556,\"#d8576b\"],[0.6666666666666666,\"#ed7953\"],[0.7777777777777778,\"#fb9f3a\"],[0.8888888888888888,\"#fdca26\"],[1.0,\"#f0f921\"]]}],\"choropleth\":[{\"type\":\"choropleth\",\"colorbar\":{\"outlinewidth\":0,\"ticks\":\"\"}}],\"histogram2d\":[{\"type\":\"histogram2d\",\"colorbar\":{\"outlinewidth\":0,\"ticks\":\"\"},\"colorscale\":[[0.0,\"#0d0887\"],[0.1111111111111111,\"#46039f\"],[0.2222222222222222,\"#7201a8\"],[0.3333333333333333,\"#9c179e\"],[0.4444444444444444,\"#bd3786\"],[0.5555555555555556,\"#d8576b\"],[0.6666666666666666,\"#ed7953\"],[0.7777777777777778,\"#fb9f3a\"],[0.8888888888888888,\"#fdca26\"],[1.0,\"#f0f921\"]]}],\"heatmap\":[{\"type\":\"heatmap\",\"colorbar\":{\"outlinewidth\":0,\"ticks\":\"\"},\"colorscale\":[[0.0,\"#0d0887\"],[0.1111111111111111,\"#46039f\"],[0.2222222222222222,\"#7201a8\"],[0.3333333333333333,\"#9c179e\"],[0.4444444444444444,\"#bd3786\"],[0.5555555555555556,\"#d8576b\"],[0.6666666666666666,\"#ed7953\"],[0.7777777777777778,\"#fb9f3a\"],[0.8888888888888888,\"#fdca26\"],[1.0,\"#f0f921\"]]}],\"heatmapgl\":[{\"type\":\"heatmapgl\",\"colorbar\":{\"outlinewidth\":0,\"ticks\":\"\"},\"colorscale\":[[0.0,\"#0d0887\"],[0.1111111111111111,\"#46039f\"],[0.2222222222222222,\"#7201a8\"],[0.3333333333333333,\"#9c179e\"],[0.4444444444444444,\"#bd3786\"],[0.5555555555555556,\"#d8576b\"],[0.6666666666666666,\"#ed7953\"],[0.7777777777777778,\"#fb9f3a\"],[0.8888888888888888,\"#fdca26\"],[1.0,\"#f0f921\"]]}],\"contourcarpet\":[{\"type\":\"contourcarpet\",\"colorbar\":{\"outlinewidth\":0,\"ticks\":\"\"}}],\"contour\":[{\"type\":\"contour\",\"colorbar\":{\"outlinewidth\":0,\"ticks\":\"\"},\"colorscale\":[[0.0,\"#0d0887\"],[0.1111111111111111,\"#46039f\"],[0.2222222222222222,\"#7201a8\"],[0.3333333333333333,\"#9c179e\"],[0.4444444444444444,\"#bd3786\"],[0.5555555555555556,\"#d8576b\"],[0.6666666666666666,\"#ed7953\"],[0.7777777777777778,\"#fb9f3a\"],[0.8888888888888888,\"#fdca26\"],[1.0,\"#f0f921\"]]}],\"surface\":[{\"type\":\"surface\",\"colorbar\":{\"outlinewidth\":0,\"ticks\":\"\"},\"colorscale\":[[0.0,\"#0d0887\"],[0.1111111111111111,\"#46039f\"],[0.2222222222222222,\"#7201a8\"],[0.3333333333333333,\"#9c179e\"],[0.4444444444444444,\"#bd3786\"],[0.5555555555555556,\"#d8576b\"],[0.6666666666666666,\"#ed7953\"],[0.7777777777777778,\"#fb9f3a\"],[0.8888888888888888,\"#fdca26\"],[1.0,\"#f0f921\"]]}],\"mesh3d\":[{\"type\":\"mesh3d\",\"colorbar\":{\"outlinewidth\":0,\"ticks\":\"\"}}],\"scatter\":[{\"fillpattern\":{\"fillmode\":\"overlay\",\"size\":10,\"solidity\":0.2},\"type\":\"scatter\"}],\"parcoords\":[{\"type\":\"parcoords\",\"line\":{\"colorbar\":{\"outlinewidth\":0,\"ticks\":\"\"}}}],\"scatterpolargl\":[{\"type\":\"scatterpolargl\",\"marker\":{\"colorbar\":{\"outlinewidth\":0,\"ticks\":\"\"}}}],\"bar\":[{\"error_x\":{\"color\":\"#2a3f5f\"},\"error_y\":{\"color\":\"#2a3f5f\"},\"marker\":{\"line\":{\"color\":\"#E5ECF6\",\"width\":0.5},\"pattern\":{\"fillmode\":\"overlay\",\"size\":10,\"solidity\":0.2}},\"type\":\"bar\"}],\"scattergeo\":[{\"type\":\"scattergeo\",\"marker\":{\"colorbar\":{\"outlinewidth\":0,\"ticks\":\"\"}}}],\"scatterpolar\":[{\"type\":\"scatterpolar\",\"marker\":{\"colorbar\":{\"outlinewidth\":0,\"ticks\":\"\"}}}],\"histogram\":[{\"marker\":{\"pattern\":{\"fillmode\":\"overlay\",\"size\":10,\"solidity\":0.2}},\"type\":\"histogram\"}],\"scattergl\":[{\"type\":\"scattergl\",\"marker\":{\"colorbar\":{\"outlinewidth\":0,\"ticks\":\"\"}}}],\"scatter3d\":[{\"type\":\"scatter3d\",\"line\":{\"colorbar\":{\"outlinewidth\":0,\"ticks\":\"\"}},\"marker\":{\"colorbar\":{\"outlinewidth\":0,\"ticks\":\"\"}}}],\"scattermapbox\":[{\"type\":\"scattermapbox\",\"marker\":{\"colorbar\":{\"outlinewidth\":0,\"ticks\":\"\"}}}],\"scatterternary\":[{\"type\":\"scatterternary\",\"marker\":{\"colorbar\":{\"outlinewidth\":0,\"ticks\":\"\"}}}],\"scattercarpet\":[{\"type\":\"scattercarpet\",\"marker\":{\"colorbar\":{\"outlinewidth\":0,\"ticks\":\"\"}}}],\"carpet\":[{\"aaxis\":{\"endlinecolor\":\"#2a3f5f\",\"gridcolor\":\"white\",\"linecolor\":\"white\",\"minorgridcolor\":\"white\",\"startlinecolor\":\"#2a3f5f\"},\"baxis\":{\"endlinecolor\":\"#2a3f5f\",\"gridcolor\":\"white\",\"linecolor\":\"white\",\"minorgridcolor\":\"white\",\"startlinecolor\":\"#2a3f5f\"},\"type\":\"carpet\"}],\"table\":[{\"cells\":{\"fill\":{\"color\":\"#EBF0F8\"},\"line\":{\"color\":\"white\"}},\"header\":{\"fill\":{\"color\":\"#C8D4E3\"},\"line\":{\"color\":\"white\"}},\"type\":\"table\"}],\"barpolar\":[{\"marker\":{\"line\":{\"color\":\"#E5ECF6\",\"width\":0.5},\"pattern\":{\"fillmode\":\"overlay\",\"size\":10,\"solidity\":0.2}},\"type\":\"barpolar\"}],\"pie\":[{\"automargin\":true,\"type\":\"pie\"}]},\"layout\":{\"autotypenumbers\":\"strict\",\"colorway\":[\"#636efa\",\"#EF553B\",\"#00cc96\",\"#ab63fa\",\"#FFA15A\",\"#19d3f3\",\"#FF6692\",\"#B6E880\",\"#FF97FF\",\"#FECB52\"],\"font\":{\"color\":\"#2a3f5f\"},\"hovermode\":\"closest\",\"hoverlabel\":{\"align\":\"left\"},\"paper_bgcolor\":\"white\",\"plot_bgcolor\":\"#E5ECF6\",\"polar\":{\"bgcolor\":\"#E5ECF6\",\"angularaxis\":{\"gridcolor\":\"white\",\"linecolor\":\"white\",\"ticks\":\"\"},\"radialaxis\":{\"gridcolor\":\"white\",\"linecolor\":\"white\",\"ticks\":\"\"}},\"ternary\":{\"bgcolor\":\"#E5ECF6\",\"aaxis\":{\"gridcolor\":\"white\",\"linecolor\":\"white\",\"ticks\":\"\"},\"baxis\":{\"gridcolor\":\"white\",\"linecolor\":\"white\",\"ticks\":\"\"},\"caxis\":{\"gridcolor\":\"white\",\"linecolor\":\"white\",\"ticks\":\"\"}},\"coloraxis\":{\"colorbar\":{\"outlinewidth\":0,\"ticks\":\"\"}},\"colorscale\":{\"sequential\":[[0.0,\"#0d0887\"],[0.1111111111111111,\"#46039f\"],[0.2222222222222222,\"#7201a8\"],[0.3333333333333333,\"#9c179e\"],[0.4444444444444444,\"#bd3786\"],[0.5555555555555556,\"#d8576b\"],[0.6666666666666666,\"#ed7953\"],[0.7777777777777778,\"#fb9f3a\"],[0.8888888888888888,\"#fdca26\"],[1.0,\"#f0f921\"]],\"sequentialminus\":[[0.0,\"#0d0887\"],[0.1111111111111111,\"#46039f\"],[0.2222222222222222,\"#7201a8\"],[0.3333333333333333,\"#9c179e\"],[0.4444444444444444,\"#bd3786\"],[0.5555555555555556,\"#d8576b\"],[0.6666666666666666,\"#ed7953\"],[0.7777777777777778,\"#fb9f3a\"],[0.8888888888888888,\"#fdca26\"],[1.0,\"#f0f921\"]],\"diverging\":[[0,\"#8e0152\"],[0.1,\"#c51b7d\"],[0.2,\"#de77ae\"],[0.3,\"#f1b6da\"],[0.4,\"#fde0ef\"],[0.5,\"#f7f7f7\"],[0.6,\"#e6f5d0\"],[0.7,\"#b8e186\"],[0.8,\"#7fbc41\"],[0.9,\"#4d9221\"],[1,\"#276419\"]]},\"xaxis\":{\"gridcolor\":\"white\",\"linecolor\":\"white\",\"ticks\":\"\",\"title\":{\"standoff\":15},\"zerolinecolor\":\"white\",\"automargin\":true,\"zerolinewidth\":2},\"yaxis\":{\"gridcolor\":\"white\",\"linecolor\":\"white\",\"ticks\":\"\",\"title\":{\"standoff\":15},\"zerolinecolor\":\"white\",\"automargin\":true,\"zerolinewidth\":2},\"scene\":{\"xaxis\":{\"backgroundcolor\":\"#E5ECF6\",\"gridcolor\":\"white\",\"linecolor\":\"white\",\"showbackground\":true,\"ticks\":\"\",\"zerolinecolor\":\"white\",\"gridwidth\":2},\"yaxis\":{\"backgroundcolor\":\"#E5ECF6\",\"gridcolor\":\"white\",\"linecolor\":\"white\",\"showbackground\":true,\"ticks\":\"\",\"zerolinecolor\":\"white\",\"gridwidth\":2},\"zaxis\":{\"backgroundcolor\":\"#E5ECF6\",\"gridcolor\":\"white\",\"linecolor\":\"white\",\"showbackground\":true,\"ticks\":\"\",\"zerolinecolor\":\"white\",\"gridwidth\":2}},\"shapedefaults\":{\"line\":{\"color\":\"#2a3f5f\"}},\"annotationdefaults\":{\"arrowcolor\":\"#2a3f5f\",\"arrowhead\":0,\"arrowwidth\":1},\"geo\":{\"bgcolor\":\"white\",\"landcolor\":\"#E5ECF6\",\"subunitcolor\":\"white\",\"showland\":true,\"showlakes\":true,\"lakecolor\":\"white\"},\"title\":{\"x\":0.05},\"mapbox\":{\"style\":\"light\"}}},\"legend\":{\"tracegroupgap\":0},\"title\":{\"text\":\"Countries by land area, km2\"}},                        {\"responsive\": true}                    ).then(function(){\n",
       "                            \n",
       "var gd = document.getElementById('cb90dd59-4dbf-489d-9493-67e62d77afa0');\n",
       "var x = new MutationObserver(function (mutations, observer) {{\n",
       "        var display = window.getComputedStyle(gd).display;\n",
       "        if (!display || display === 'none') {{\n",
       "            console.log([gd, 'removed!']);\n",
       "            Plotly.purge(gd);\n",
       "            observer.disconnect();\n",
       "        }}\n",
       "}});\n",
       "\n",
       "// Listen for the removal of the full notebook cells\n",
       "var notebookContainer = gd.closest('#notebook-container');\n",
       "if (notebookContainer) {{\n",
       "    x.observe(notebookContainer, {childList: true});\n",
       "}}\n",
       "\n",
       "// Listen for the clearing of the current output cell\n",
       "var outputEl = gd.closest('.output');\n",
       "if (outputEl) {{\n",
       "    x.observe(outputEl, {childList: true});\n",
       "}}\n",
       "\n",
       "                        })                };                });            </script>        </div>"
      ]
     },
     "metadata": {},
     "output_type": "display_data"
    }
   ],
   "source": [
    "#only display large countries \n",
    "lnddf.loc[lnddf['Total in km2'] <= 1.e6, 'Country'] = 'Other Countries'\n",
    "fig = px.pie(lnddf, names='Country', values = 'Total in km2', \n",
    "                title = 'Countries by land area, km2')\n",
    "fig.show()\n",
    "                "
   ]
  },
  {
   "cell_type": "code",
   "execution_count": 73,
   "id": "1210d1ce",
   "metadata": {},
   "outputs": [
    {
     "data": {
      "text/plain": [
       "Index(['Country', 'Total in km2', 'Land in km2', 'Water in km2', 'Water %',\n",
       "       'HDI', '%HDI Growth', 'IMF Forecast GDP(Nominal)',\n",
       "       'World Bank Forecast GDP(Nominal)', 'UN Forecast GDP(Nominal)',\n",
       "       'IMF Forecast GDP(PPP)', 'World Bank Forecast GDP(PPP)',\n",
       "       'CIA Forecast GDP(PPP)', 'Internet Users', 'UN Continental Region',\n",
       "       'UN Statistical Subregion', 'Population 2022', 'Population 2023',\n",
       "       'Population %Change'],\n",
       "      dtype='object')"
      ]
     },
     "execution_count": 73,
     "metadata": {},
     "output_type": "execute_result"
    }
   ],
   "source": [
    "data.columns"
   ]
  },
  {
   "cell_type": "code",
   "execution_count": 138,
   "id": "87de967b",
   "metadata": {},
   "outputs": [
    {
     "data": {
      "text/html": [
       "<div>\n",
       "<style scoped>\n",
       "    .dataframe tbody tr th:only-of-type {\n",
       "        vertical-align: middle;\n",
       "    }\n",
       "\n",
       "    .dataframe tbody tr th {\n",
       "        vertical-align: top;\n",
       "    }\n",
       "\n",
       "    .dataframe thead th {\n",
       "        text-align: right;\n",
       "    }\n",
       "</style>\n",
       "<table border=\"1\" class=\"dataframe\">\n",
       "  <thead>\n",
       "    <tr style=\"text-align: right;\">\n",
       "      <th></th>\n",
       "      <th>Country</th>\n",
       "      <th>Total in km2</th>\n",
       "      <th>Land in km2</th>\n",
       "      <th>Water in km2</th>\n",
       "      <th>Water %</th>\n",
       "      <th>HDI</th>\n",
       "      <th>%HDI Growth</th>\n",
       "      <th>IMF Forecast GDP(Nominal)</th>\n",
       "      <th>World Bank Forecast GDP(Nominal)</th>\n",
       "      <th>UN Forecast GDP(Nominal)</th>\n",
       "      <th>IMF Forecast GDP(PPP)</th>\n",
       "      <th>World Bank Forecast GDP(PPP)</th>\n",
       "      <th>CIA Forecast GDP(PPP)</th>\n",
       "      <th>Internet Users</th>\n",
       "      <th>UN Continental Region</th>\n",
       "      <th>UN Statistical Subregion</th>\n",
       "      <th>Population 2022</th>\n",
       "      <th>Population 2023</th>\n",
       "      <th>Population %Change</th>\n",
       "    </tr>\n",
       "  </thead>\n",
       "  <tbody>\n",
       "    <tr>\n",
       "      <th>0</th>\n",
       "      <td>Russia</td>\n",
       "      <td>17098246.0</td>\n",
       "      <td>16378410.0</td>\n",
       "      <td>16378410.0</td>\n",
       "      <td>4.2</td>\n",
       "      <td>0.822</td>\n",
       "      <td>0.29</td>\n",
       "      <td>1862470.0</td>\n",
       "      <td>2240422.0</td>\n",
       "      <td>1778782.0</td>\n",
       "      <td>5056479.0</td>\n",
       "      <td>5326855.0</td>\n",
       "      <td>3875690.0</td>\n",
       "      <td>129800000.0</td>\n",
       "      <td>Europe</td>\n",
       "      <td>Eastern Europe</td>\n",
       "      <td>1.447133e+08</td>\n",
       "      <td>1.444444e+08</td>\n",
       "      <td>-0.19</td>\n",
       "    </tr>\n",
       "    <tr>\n",
       "      <th>1</th>\n",
       "      <td>Canada</td>\n",
       "      <td>9984670.0</td>\n",
       "      <td>9093507.0</td>\n",
       "      <td>9093507.0</td>\n",
       "      <td>8.9</td>\n",
       "      <td>0.936</td>\n",
       "      <td>0.25</td>\n",
       "      <td>2117805.0</td>\n",
       "      <td>2139840.0</td>\n",
       "      <td>1988336.0</td>\n",
       "      <td>2378973.0</td>\n",
       "      <td>2273489.0</td>\n",
       "      <td>1742790.0</td>\n",
       "      <td>33950632.0</td>\n",
       "      <td>Americas</td>\n",
       "      <td>Northern America</td>\n",
       "      <td>3.845433e+07</td>\n",
       "      <td>3.878129e+07</td>\n",
       "      <td>0.85</td>\n",
       "    </tr>\n",
       "    <tr>\n",
       "      <th>2</th>\n",
       "      <td>Brazil</td>\n",
       "      <td>8510346.0</td>\n",
       "      <td>8460415.0</td>\n",
       "      <td>8460415.0</td>\n",
       "      <td>0.6</td>\n",
       "      <td>0.754</td>\n",
       "      <td>0.38</td>\n",
       "      <td>2126809.0</td>\n",
       "      <td>1920096.0</td>\n",
       "      <td>1608981.0</td>\n",
       "      <td>4101022.0</td>\n",
       "      <td>3837261.0</td>\n",
       "      <td>2989430.0</td>\n",
       "      <td>165300000.0</td>\n",
       "      <td>Americas</td>\n",
       "      <td>South America</td>\n",
       "      <td>2.153135e+08</td>\n",
       "      <td>2.164224e+08</td>\n",
       "      <td>0.52</td>\n",
       "    </tr>\n",
       "    <tr>\n",
       "      <th>3</th>\n",
       "      <td>India</td>\n",
       "      <td>3287263.0</td>\n",
       "      <td>2973190.0</td>\n",
       "      <td>2973190.0</td>\n",
       "      <td>9.6</td>\n",
       "      <td>0.633</td>\n",
       "      <td>0.88</td>\n",
       "      <td>3732224.0</td>\n",
       "      <td>3385090.0</td>\n",
       "      <td>3201471.0</td>\n",
       "      <td>13119622.0</td>\n",
       "      <td>11874583.0</td>\n",
       "      <td>8443360.0</td>\n",
       "      <td>881250000.0</td>\n",
       "      <td>Asia</td>\n",
       "      <td>Southern Asia</td>\n",
       "      <td>1.417173e+09</td>\n",
       "      <td>1.428628e+09</td>\n",
       "      <td>0.81</td>\n",
       "    </tr>\n",
       "    <tr>\n",
       "      <th>4</th>\n",
       "      <td>Argentina</td>\n",
       "      <td>2796427.0</td>\n",
       "      <td>2736690.0</td>\n",
       "      <td>2736690.0</td>\n",
       "      <td>1.6</td>\n",
       "      <td>0.842</td>\n",
       "      <td>0.09</td>\n",
       "      <td>621833.0</td>\n",
       "      <td>632770.0</td>\n",
       "      <td>487227.0</td>\n",
       "      <td>1239515.0</td>\n",
       "      <td>1225435.0</td>\n",
       "      <td>893310.0</td>\n",
       "      <td>40024673.0</td>\n",
       "      <td>Americas</td>\n",
       "      <td>South America</td>\n",
       "      <td>4.551032e+07</td>\n",
       "      <td>4.577388e+07</td>\n",
       "      <td>0.58</td>\n",
       "    </tr>\n",
       "  </tbody>\n",
       "</table>\n",
       "</div>"
      ],
      "text/plain": [
       "     Country  Total in km2  Land in km2  Water in km2  Water %    HDI  \\\n",
       "0     Russia    17098246.0   16378410.0    16378410.0      4.2  0.822   \n",
       "1     Canada     9984670.0    9093507.0     9093507.0      8.9  0.936   \n",
       "2     Brazil     8510346.0    8460415.0     8460415.0      0.6  0.754   \n",
       "3      India     3287263.0    2973190.0     2973190.0      9.6  0.633   \n",
       "4  Argentina     2796427.0    2736690.0     2736690.0      1.6  0.842   \n",
       "\n",
       "   %HDI Growth  IMF Forecast GDP(Nominal)  World Bank Forecast GDP(Nominal)  \\\n",
       "0         0.29                  1862470.0                         2240422.0   \n",
       "1         0.25                  2117805.0                         2139840.0   \n",
       "2         0.38                  2126809.0                         1920096.0   \n",
       "3         0.88                  3732224.0                         3385090.0   \n",
       "4         0.09                   621833.0                          632770.0   \n",
       "\n",
       "   UN Forecast GDP(Nominal)  IMF Forecast GDP(PPP)  \\\n",
       "0                 1778782.0              5056479.0   \n",
       "1                 1988336.0              2378973.0   \n",
       "2                 1608981.0              4101022.0   \n",
       "3                 3201471.0             13119622.0   \n",
       "4                  487227.0              1239515.0   \n",
       "\n",
       "   World Bank Forecast GDP(PPP)  CIA Forecast GDP(PPP)  Internet Users  \\\n",
       "0                     5326855.0              3875690.0     129800000.0   \n",
       "1                     2273489.0              1742790.0      33950632.0   \n",
       "2                     3837261.0              2989430.0     165300000.0   \n",
       "3                    11874583.0              8443360.0     881250000.0   \n",
       "4                     1225435.0               893310.0      40024673.0   \n",
       "\n",
       "  UN Continental Region UN Statistical Subregion  Population 2022  \\\n",
       "0                Europe           Eastern Europe     1.447133e+08   \n",
       "1              Americas         Northern America     3.845433e+07   \n",
       "2              Americas            South America     2.153135e+08   \n",
       "3                  Asia            Southern Asia     1.417173e+09   \n",
       "4              Americas            South America     4.551032e+07   \n",
       "\n",
       "   Population 2023  Population %Change  \n",
       "0     1.444444e+08               -0.19  \n",
       "1     3.878129e+07                0.85  \n",
       "2     2.164224e+08                0.52  \n",
       "3     1.428628e+09                0.81  \n",
       "4     4.577388e+07                0.58  "
      ]
     },
     "execution_count": 138,
     "metadata": {},
     "output_type": "execute_result"
    }
   ],
   "source": [
    "data.head()"
   ]
  },
  {
   "cell_type": "code",
   "execution_count": 142,
   "id": "ed06d827",
   "metadata": {},
   "outputs": [
    {
     "data": {
      "text/html": [
       "<div>\n",
       "<style scoped>\n",
       "    .dataframe tbody tr th:only-of-type {\n",
       "        vertical-align: middle;\n",
       "    }\n",
       "\n",
       "    .dataframe tbody tr th {\n",
       "        vertical-align: top;\n",
       "    }\n",
       "\n",
       "    .dataframe thead th {\n",
       "        text-align: right;\n",
       "    }\n",
       "</style>\n",
       "<table border=\"1\" class=\"dataframe\">\n",
       "  <thead>\n",
       "    <tr style=\"text-align: right;\">\n",
       "      <th></th>\n",
       "      <th>Country</th>\n",
       "      <th>Total in km2</th>\n",
       "      <th>Land in km2</th>\n",
       "      <th>Water in km2</th>\n",
       "      <th>Water %</th>\n",
       "      <th>HDI</th>\n",
       "      <th>%HDI Growth</th>\n",
       "      <th>IMF Forecast GDP(Nominal)</th>\n",
       "      <th>World Bank Forecast GDP(Nominal)</th>\n",
       "      <th>UN Forecast GDP(Nominal)</th>\n",
       "      <th>IMF Forecast GDP(PPP)</th>\n",
       "      <th>World Bank Forecast GDP(PPP)</th>\n",
       "      <th>CIA Forecast GDP(PPP)</th>\n",
       "      <th>Internet Users</th>\n",
       "      <th>UN Continental Region</th>\n",
       "      <th>UN Statistical Subregion</th>\n",
       "      <th>Population 2022</th>\n",
       "      <th>Population 2023</th>\n",
       "      <th>Population %Change</th>\n",
       "    </tr>\n",
       "  </thead>\n",
       "  <tbody>\n",
       "    <tr>\n",
       "      <th>105</th>\n",
       "      <td>Haiti</td>\n",
       "      <td>27750.0</td>\n",
       "      <td>27560.0</td>\n",
       "      <td>27560.0</td>\n",
       "      <td>0.7</td>\n",
       "      <td>0.535</td>\n",
       "      <td>1.94</td>\n",
       "      <td>25986.0</td>\n",
       "      <td>20254.0</td>\n",
       "      <td>19044.0</td>\n",
       "      <td>38952.0</td>\n",
       "      <td>36096.0</td>\n",
       "      <td>31620.0</td>\n",
       "      <td>1353986.0</td>\n",
       "      <td>Americas</td>\n",
       "      <td>Caribbean</td>\n",
       "      <td>11584996.0</td>\n",
       "      <td>11724764.0</td>\n",
       "      <td>1.21</td>\n",
       "    </tr>\n",
       "    <tr>\n",
       "      <th>20</th>\n",
       "      <td>Ethiopia</td>\n",
       "      <td>1104300.0</td>\n",
       "      <td>1096630.0</td>\n",
       "      <td>1096630.0</td>\n",
       "      <td>0.7</td>\n",
       "      <td>0.498</td>\n",
       "      <td>1.74</td>\n",
       "      <td>155804.0</td>\n",
       "      <td>126783.0</td>\n",
       "      <td>99269.0</td>\n",
       "      <td>393297.0</td>\n",
       "      <td>346893.0</td>\n",
       "      <td>264050.0</td>\n",
       "      <td>19543075.0</td>\n",
       "      <td>Africa</td>\n",
       "      <td>Eastern Africa</td>\n",
       "      <td>123379925.0</td>\n",
       "      <td>126527060.0</td>\n",
       "      <td>2.55</td>\n",
       "    </tr>\n",
       "    <tr>\n",
       "      <th>54</th>\n",
       "      <td>Burkina Faso</td>\n",
       "      <td>274200.0</td>\n",
       "      <td>273800.0</td>\n",
       "      <td>273800.0</td>\n",
       "      <td>0.2</td>\n",
       "      <td>0.449</td>\n",
       "      <td>1.72</td>\n",
       "      <td>20785.0</td>\n",
       "      <td>18885.0</td>\n",
       "      <td>19738.0</td>\n",
       "      <td>62788.0</td>\n",
       "      <td>54978.0</td>\n",
       "      <td>45160.0</td>\n",
       "      <td>3047909.0</td>\n",
       "      <td>Africa</td>\n",
       "      <td>Western Africa</td>\n",
       "      <td>22673762.0</td>\n",
       "      <td>23251485.0</td>\n",
       "      <td>2.55</td>\n",
       "    </tr>\n",
       "    <tr>\n",
       "      <th>66</th>\n",
       "      <td>Bangladesh</td>\n",
       "      <td>148460.0</td>\n",
       "      <td>134208.0</td>\n",
       "      <td>134208.0</td>\n",
       "      <td>9.6</td>\n",
       "      <td>0.661</td>\n",
       "      <td>1.64</td>\n",
       "      <td>446349.0</td>\n",
       "      <td>460201.0</td>\n",
       "      <td>414907.0</td>\n",
       "      <td>1476870.0</td>\n",
       "      <td>1265940.0</td>\n",
       "      <td>793490.0</td>\n",
       "      <td>126210000.0</td>\n",
       "      <td>Asia</td>\n",
       "      <td>Southern Asia</td>\n",
       "      <td>171186373.0</td>\n",
       "      <td>172954319.0</td>\n",
       "      <td>1.03</td>\n",
       "    </tr>\n",
       "    <tr>\n",
       "      <th>114</th>\n",
       "      <td>Eswatini</td>\n",
       "      <td>17363.0</td>\n",
       "      <td>17204.0</td>\n",
       "      <td>17204.0</td>\n",
       "      <td>0.9</td>\n",
       "      <td>0.597</td>\n",
       "      <td>1.57</td>\n",
       "      <td>4648.0</td>\n",
       "      <td>4854.0</td>\n",
       "      <td>4732.0</td>\n",
       "      <td>13797.0</td>\n",
       "      <td>11508.0</td>\n",
       "      <td>9740.0</td>\n",
       "      <td>414278.0</td>\n",
       "      <td>Africa</td>\n",
       "      <td>Southern Africa</td>\n",
       "      <td>1201671.0</td>\n",
       "      <td>1210822.0</td>\n",
       "      <td>0.76</td>\n",
       "    </tr>\n",
       "    <tr>\n",
       "      <th>...</th>\n",
       "      <td>...</td>\n",
       "      <td>...</td>\n",
       "      <td>...</td>\n",
       "      <td>...</td>\n",
       "      <td>...</td>\n",
       "      <td>...</td>\n",
       "      <td>...</td>\n",
       "      <td>...</td>\n",
       "      <td>...</td>\n",
       "      <td>...</td>\n",
       "      <td>...</td>\n",
       "      <td>...</td>\n",
       "      <td>...</td>\n",
       "      <td>...</td>\n",
       "      <td>...</td>\n",
       "      <td>...</td>\n",
       "      <td>...</td>\n",
       "      <td>...</td>\n",
       "      <td>...</td>\n",
       "    </tr>\n",
       "    <tr>\n",
       "      <th>133</th>\n",
       "      <td>Barbados</td>\n",
       "      <td>431.0</td>\n",
       "      <td>431.0</td>\n",
       "      <td>431.0</td>\n",
       "      <td>0.0</td>\n",
       "      <td>0.790</td>\n",
       "      <td>0.02</td>\n",
       "      <td>6220.0</td>\n",
       "      <td>5638.0</td>\n",
       "      <td>4844.0</td>\n",
       "      <td>5436.0</td>\n",
       "      <td>4263.0</td>\n",
       "      <td>3700.0</td>\n",
       "      <td>233604.0</td>\n",
       "      <td>Americas</td>\n",
       "      <td>Caribbean</td>\n",
       "      <td>281635.0</td>\n",
       "      <td>281996.0</td>\n",
       "      <td>0.13</td>\n",
       "    </tr>\n",
       "    <tr>\n",
       "      <th>119</th>\n",
       "      <td>Brunei</td>\n",
       "      <td>5765.0</td>\n",
       "      <td>5265.0</td>\n",
       "      <td>5265.0</td>\n",
       "      <td>8.7</td>\n",
       "      <td>0.829</td>\n",
       "      <td>0.01</td>\n",
       "      <td>15153.0</td>\n",
       "      <td>16682.0</td>\n",
       "      <td>14006.0</td>\n",
       "      <td>32000.0</td>\n",
       "      <td>29415.0</td>\n",
       "      <td>27230.0</td>\n",
       "      <td>406705.0</td>\n",
       "      <td>Asia</td>\n",
       "      <td>South-eastern Asia</td>\n",
       "      <td>449002.0</td>\n",
       "      <td>452524.0</td>\n",
       "      <td>0.78</td>\n",
       "    </tr>\n",
       "    <tr>\n",
       "      <th>115</th>\n",
       "      <td>Bahamas</td>\n",
       "      <td>13940.0</td>\n",
       "      <td>10010.0</td>\n",
       "      <td>10010.0</td>\n",
       "      <td>27.8</td>\n",
       "      <td>0.812</td>\n",
       "      <td>0.00</td>\n",
       "      <td>13876.0</td>\n",
       "      <td>12897.0</td>\n",
       "      <td>11209.0</td>\n",
       "      <td>18146.0</td>\n",
       "      <td>13538.0</td>\n",
       "      <td>12100.0</td>\n",
       "      <td>336057.0</td>\n",
       "      <td>Americas</td>\n",
       "      <td>Caribbean</td>\n",
       "      <td>409984.0</td>\n",
       "      <td>412624.0</td>\n",
       "      <td>0.64</td>\n",
       "    </tr>\n",
       "    <tr>\n",
       "      <th>138</th>\n",
       "      <td>Marshall Islands</td>\n",
       "      <td>181.0</td>\n",
       "      <td>181.0</td>\n",
       "      <td>181.0</td>\n",
       "      <td>0.0</td>\n",
       "      <td>0.639</td>\n",
       "      <td>NaN</td>\n",
       "      <td>277.0</td>\n",
       "      <td>280.0</td>\n",
       "      <td>257.0</td>\n",
       "      <td>263.0</td>\n",
       "      <td>249.0</td>\n",
       "      <td>240.0</td>\n",
       "      <td>20560.0</td>\n",
       "      <td>Oceania</td>\n",
       "      <td>Micronesia</td>\n",
       "      <td>41569.0</td>\n",
       "      <td>41996.0</td>\n",
       "      <td>1.03</td>\n",
       "    </tr>\n",
       "    <tr>\n",
       "      <th>140</th>\n",
       "      <td>San Marino</td>\n",
       "      <td>61.0</td>\n",
       "      <td>61.0</td>\n",
       "      <td>61.0</td>\n",
       "      <td>0.0</td>\n",
       "      <td>0.853</td>\n",
       "      <td>NaN</td>\n",
       "      <td>1998.0</td>\n",
       "      <td>NaN</td>\n",
       "      <td>2021.0</td>\n",
       "      <td>2872.0</td>\n",
       "      <td>2022.0</td>\n",
       "      <td>2060.0</td>\n",
       "      <td>20100.0</td>\n",
       "      <td>Europe</td>\n",
       "      <td>Southern Europe</td>\n",
       "      <td>33661.0</td>\n",
       "      <td>33642.0</td>\n",
       "      <td>-0.06</td>\n",
       "    </tr>\n",
       "  </tbody>\n",
       "</table>\n",
       "<p>142 rows × 19 columns</p>\n",
       "</div>"
      ],
      "text/plain": [
       "              Country  Total in km2  Land in km2  Water in km2  Water %  \\\n",
       "105             Haiti       27750.0      27560.0       27560.0      0.7   \n",
       "20           Ethiopia     1104300.0    1096630.0     1096630.0      0.7   \n",
       "54       Burkina Faso      274200.0     273800.0      273800.0      0.2   \n",
       "66         Bangladesh      148460.0     134208.0      134208.0      9.6   \n",
       "114          Eswatini       17363.0      17204.0       17204.0      0.9   \n",
       "..                ...           ...          ...           ...      ...   \n",
       "133          Barbados         431.0        431.0         431.0      0.0   \n",
       "119            Brunei        5765.0       5265.0        5265.0      8.7   \n",
       "115           Bahamas       13940.0      10010.0       10010.0     27.8   \n",
       "138  Marshall Islands         181.0        181.0         181.0      0.0   \n",
       "140        San Marino          61.0         61.0          61.0      0.0   \n",
       "\n",
       "       HDI  %HDI Growth  IMF Forecast GDP(Nominal)  \\\n",
       "105  0.535         1.94                    25986.0   \n",
       "20   0.498         1.74                   155804.0   \n",
       "54   0.449         1.72                    20785.0   \n",
       "66   0.661         1.64                   446349.0   \n",
       "114  0.597         1.57                     4648.0   \n",
       "..     ...          ...                        ...   \n",
       "133  0.790         0.02                     6220.0   \n",
       "119  0.829         0.01                    15153.0   \n",
       "115  0.812         0.00                    13876.0   \n",
       "138  0.639          NaN                      277.0   \n",
       "140  0.853          NaN                     1998.0   \n",
       "\n",
       "     World Bank Forecast GDP(Nominal)  UN Forecast GDP(Nominal)  \\\n",
       "105                           20254.0                   19044.0   \n",
       "20                           126783.0                   99269.0   \n",
       "54                            18885.0                   19738.0   \n",
       "66                           460201.0                  414907.0   \n",
       "114                            4854.0                    4732.0   \n",
       "..                                ...                       ...   \n",
       "133                            5638.0                    4844.0   \n",
       "119                           16682.0                   14006.0   \n",
       "115                           12897.0                   11209.0   \n",
       "138                             280.0                     257.0   \n",
       "140                               NaN                    2021.0   \n",
       "\n",
       "     IMF Forecast GDP(PPP)  World Bank Forecast GDP(PPP)  \\\n",
       "105                38952.0                       36096.0   \n",
       "20                393297.0                      346893.0   \n",
       "54                 62788.0                       54978.0   \n",
       "66               1476870.0                     1265940.0   \n",
       "114                13797.0                       11508.0   \n",
       "..                     ...                           ...   \n",
       "133                 5436.0                        4263.0   \n",
       "119                32000.0                       29415.0   \n",
       "115                18146.0                       13538.0   \n",
       "138                  263.0                         249.0   \n",
       "140                 2872.0                        2022.0   \n",
       "\n",
       "     CIA Forecast GDP(PPP)  Internet Users UN Continental Region  \\\n",
       "105                31620.0       1353986.0              Americas   \n",
       "20                264050.0      19543075.0                Africa   \n",
       "54                 45160.0       3047909.0                Africa   \n",
       "66                793490.0     126210000.0                  Asia   \n",
       "114                 9740.0        414278.0                Africa   \n",
       "..                     ...             ...                   ...   \n",
       "133                 3700.0        233604.0              Americas   \n",
       "119                27230.0        406705.0                  Asia   \n",
       "115                12100.0        336057.0              Americas   \n",
       "138                  240.0         20560.0               Oceania   \n",
       "140                 2060.0         20100.0                Europe   \n",
       "\n",
       "    UN Statistical Subregion  Population 2022  Population 2023  \\\n",
       "105                Caribbean       11584996.0       11724764.0   \n",
       "20            Eastern Africa      123379925.0      126527060.0   \n",
       "54            Western Africa       22673762.0       23251485.0   \n",
       "66             Southern Asia      171186373.0      172954319.0   \n",
       "114          Southern Africa        1201671.0        1210822.0   \n",
       "..                       ...              ...              ...   \n",
       "133                Caribbean         281635.0         281996.0   \n",
       "119       South-eastern Asia         449002.0         452524.0   \n",
       "115                Caribbean         409984.0         412624.0   \n",
       "138               Micronesia          41569.0          41996.0   \n",
       "140          Southern Europe          33661.0          33642.0   \n",
       "\n",
       "     Population %Change  \n",
       "105                1.21  \n",
       "20                 2.55  \n",
       "54                 2.55  \n",
       "66                 1.03  \n",
       "114                0.76  \n",
       "..                  ...  \n",
       "133                0.13  \n",
       "119                0.78  \n",
       "115                0.64  \n",
       "138                1.03  \n",
       "140               -0.06  \n",
       "\n",
       "[142 rows x 19 columns]"
      ]
     },
     "execution_count": 142,
     "metadata": {},
     "output_type": "execute_result"
    }
   ],
   "source": [
    "hdi = data.sort_values('%HDI Growth', ascending = False)\n",
    "hdi"
   ]
  },
  {
   "cell_type": "code",
   "execution_count": 149,
   "id": "a27ffe15",
   "metadata": {},
   "outputs": [
    {
     "data": {
      "application/vnd.plotly.v1+json": {
       "config": {
        "plotlyServerURL": "https://plot.ly"
       },
       "data": [
        {
         "alignmentgroup": "True",
         "boxpoints": "all",
         "hovertemplate": "HDI=%{y}<extra></extra>",
         "legendgroup": "",
         "marker": {
          "color": "#636efa"
         },
         "name": "",
         "notched": false,
         "offsetgroup": "",
         "orientation": "v",
         "showlegend": false,
         "type": "box",
         "x0": " ",
         "xaxis": "x",
         "y": [
          0.535,
          0.498,
          0.449,
          0.661,
          0.597,
          0.4,
          0.586,
          0.585,
          0.666,
          0.577,
          0.539,
          0.512,
          0.576,
          0.465,
          0.455,
          0.838,
          0.477,
          0.618,
          0.385,
          0.509,
          0.446,
          0.602,
          0.632,
          0.514,
          0.607,
          0.633,
          0.593,
          0.911,
          0.511,
          0.691,
          0.534,
          0.483,
          0.556,
          0.714,
          0.394,
          0.5,
          0.667,
          0.747,
          0.8,
          0.404,
          0.875,
          0.767,
          0.731,
          0.727,
          0.544,
          0.685,
          0.78,
          0.558,
          0.686,
          0.565,
          0.525,
          0.478,
          0.918,
          0.959,
          0.706,
          0.492,
          0.705,
          0.782,
          0.624,
          0.428,
          0.703,
          0.811,
          0.713,
          0.796,
          0.575,
          0.739,
          0.855,
          0.426,
          0.615,
          0.762,
          0.693,
          0.809,
          0.863,
          0.717,
          0.481,
          0.508,
          0.692,
          0.945,
          0.803,
          0.77,
          0.754,
          0.876,
          0.805,
          0.641,
          0.621,
          0.947,
          0.774,
          0.948,
          0.699,
          0.627,
          0.752,
          0.816,
          0.683,
          0.89,
          0.745,
          0.939,
          0.822,
          0.832,
          0.925,
          0.596,
          0.718,
          0.919,
          0.937,
          0.936,
          0.81,
          0.564,
          0.935,
          0.675,
          0.808,
          0.751,
          0.777,
          0.831,
          0.73,
          0.846,
          0.764,
          0.887,
          0.962,
          0.93,
          0.929,
          0.759,
          0.501,
          0.942,
          0.821,
          0.758,
          0.916,
          0.895,
          0.72,
          0.858,
          0.785,
          0.848,
          0.842,
          0.707,
          0.709,
          0.795,
          0.74,
          0.628,
          0.788,
          0.79,
          0.829,
          0.812,
          0.639,
          0.853
         ],
         "y0": " ",
         "yaxis": "y"
        }
       ],
       "layout": {
        "boxmode": "group",
        "legend": {
         "tracegroupgap": 0
        },
        "margin": {
         "t": 60
        },
        "template": {
         "data": {
          "bar": [
           {
            "error_x": {
             "color": "#2a3f5f"
            },
            "error_y": {
             "color": "#2a3f5f"
            },
            "marker": {
             "line": {
              "color": "#E5ECF6",
              "width": 0.5
             },
             "pattern": {
              "fillmode": "overlay",
              "size": 10,
              "solidity": 0.2
             }
            },
            "type": "bar"
           }
          ],
          "barpolar": [
           {
            "marker": {
             "line": {
              "color": "#E5ECF6",
              "width": 0.5
             },
             "pattern": {
              "fillmode": "overlay",
              "size": 10,
              "solidity": 0.2
             }
            },
            "type": "barpolar"
           }
          ],
          "carpet": [
           {
            "aaxis": {
             "endlinecolor": "#2a3f5f",
             "gridcolor": "white",
             "linecolor": "white",
             "minorgridcolor": "white",
             "startlinecolor": "#2a3f5f"
            },
            "baxis": {
             "endlinecolor": "#2a3f5f",
             "gridcolor": "white",
             "linecolor": "white",
             "minorgridcolor": "white",
             "startlinecolor": "#2a3f5f"
            },
            "type": "carpet"
           }
          ],
          "choropleth": [
           {
            "colorbar": {
             "outlinewidth": 0,
             "ticks": ""
            },
            "type": "choropleth"
           }
          ],
          "contour": [
           {
            "colorbar": {
             "outlinewidth": 0,
             "ticks": ""
            },
            "colorscale": [
             [
              0,
              "#0d0887"
             ],
             [
              0.1111111111111111,
              "#46039f"
             ],
             [
              0.2222222222222222,
              "#7201a8"
             ],
             [
              0.3333333333333333,
              "#9c179e"
             ],
             [
              0.4444444444444444,
              "#bd3786"
             ],
             [
              0.5555555555555556,
              "#d8576b"
             ],
             [
              0.6666666666666666,
              "#ed7953"
             ],
             [
              0.7777777777777778,
              "#fb9f3a"
             ],
             [
              0.8888888888888888,
              "#fdca26"
             ],
             [
              1,
              "#f0f921"
             ]
            ],
            "type": "contour"
           }
          ],
          "contourcarpet": [
           {
            "colorbar": {
             "outlinewidth": 0,
             "ticks": ""
            },
            "type": "contourcarpet"
           }
          ],
          "heatmap": [
           {
            "colorbar": {
             "outlinewidth": 0,
             "ticks": ""
            },
            "colorscale": [
             [
              0,
              "#0d0887"
             ],
             [
              0.1111111111111111,
              "#46039f"
             ],
             [
              0.2222222222222222,
              "#7201a8"
             ],
             [
              0.3333333333333333,
              "#9c179e"
             ],
             [
              0.4444444444444444,
              "#bd3786"
             ],
             [
              0.5555555555555556,
              "#d8576b"
             ],
             [
              0.6666666666666666,
              "#ed7953"
             ],
             [
              0.7777777777777778,
              "#fb9f3a"
             ],
             [
              0.8888888888888888,
              "#fdca26"
             ],
             [
              1,
              "#f0f921"
             ]
            ],
            "type": "heatmap"
           }
          ],
          "heatmapgl": [
           {
            "colorbar": {
             "outlinewidth": 0,
             "ticks": ""
            },
            "colorscale": [
             [
              0,
              "#0d0887"
             ],
             [
              0.1111111111111111,
              "#46039f"
             ],
             [
              0.2222222222222222,
              "#7201a8"
             ],
             [
              0.3333333333333333,
              "#9c179e"
             ],
             [
              0.4444444444444444,
              "#bd3786"
             ],
             [
              0.5555555555555556,
              "#d8576b"
             ],
             [
              0.6666666666666666,
              "#ed7953"
             ],
             [
              0.7777777777777778,
              "#fb9f3a"
             ],
             [
              0.8888888888888888,
              "#fdca26"
             ],
             [
              1,
              "#f0f921"
             ]
            ],
            "type": "heatmapgl"
           }
          ],
          "histogram": [
           {
            "marker": {
             "pattern": {
              "fillmode": "overlay",
              "size": 10,
              "solidity": 0.2
             }
            },
            "type": "histogram"
           }
          ],
          "histogram2d": [
           {
            "colorbar": {
             "outlinewidth": 0,
             "ticks": ""
            },
            "colorscale": [
             [
              0,
              "#0d0887"
             ],
             [
              0.1111111111111111,
              "#46039f"
             ],
             [
              0.2222222222222222,
              "#7201a8"
             ],
             [
              0.3333333333333333,
              "#9c179e"
             ],
             [
              0.4444444444444444,
              "#bd3786"
             ],
             [
              0.5555555555555556,
              "#d8576b"
             ],
             [
              0.6666666666666666,
              "#ed7953"
             ],
             [
              0.7777777777777778,
              "#fb9f3a"
             ],
             [
              0.8888888888888888,
              "#fdca26"
             ],
             [
              1,
              "#f0f921"
             ]
            ],
            "type": "histogram2d"
           }
          ],
          "histogram2dcontour": [
           {
            "colorbar": {
             "outlinewidth": 0,
             "ticks": ""
            },
            "colorscale": [
             [
              0,
              "#0d0887"
             ],
             [
              0.1111111111111111,
              "#46039f"
             ],
             [
              0.2222222222222222,
              "#7201a8"
             ],
             [
              0.3333333333333333,
              "#9c179e"
             ],
             [
              0.4444444444444444,
              "#bd3786"
             ],
             [
              0.5555555555555556,
              "#d8576b"
             ],
             [
              0.6666666666666666,
              "#ed7953"
             ],
             [
              0.7777777777777778,
              "#fb9f3a"
             ],
             [
              0.8888888888888888,
              "#fdca26"
             ],
             [
              1,
              "#f0f921"
             ]
            ],
            "type": "histogram2dcontour"
           }
          ],
          "mesh3d": [
           {
            "colorbar": {
             "outlinewidth": 0,
             "ticks": ""
            },
            "type": "mesh3d"
           }
          ],
          "parcoords": [
           {
            "line": {
             "colorbar": {
              "outlinewidth": 0,
              "ticks": ""
             }
            },
            "type": "parcoords"
           }
          ],
          "pie": [
           {
            "automargin": true,
            "type": "pie"
           }
          ],
          "scatter": [
           {
            "fillpattern": {
             "fillmode": "overlay",
             "size": 10,
             "solidity": 0.2
            },
            "type": "scatter"
           }
          ],
          "scatter3d": [
           {
            "line": {
             "colorbar": {
              "outlinewidth": 0,
              "ticks": ""
             }
            },
            "marker": {
             "colorbar": {
              "outlinewidth": 0,
              "ticks": ""
             }
            },
            "type": "scatter3d"
           }
          ],
          "scattercarpet": [
           {
            "marker": {
             "colorbar": {
              "outlinewidth": 0,
              "ticks": ""
             }
            },
            "type": "scattercarpet"
           }
          ],
          "scattergeo": [
           {
            "marker": {
             "colorbar": {
              "outlinewidth": 0,
              "ticks": ""
             }
            },
            "type": "scattergeo"
           }
          ],
          "scattergl": [
           {
            "marker": {
             "colorbar": {
              "outlinewidth": 0,
              "ticks": ""
             }
            },
            "type": "scattergl"
           }
          ],
          "scattermapbox": [
           {
            "marker": {
             "colorbar": {
              "outlinewidth": 0,
              "ticks": ""
             }
            },
            "type": "scattermapbox"
           }
          ],
          "scatterpolar": [
           {
            "marker": {
             "colorbar": {
              "outlinewidth": 0,
              "ticks": ""
             }
            },
            "type": "scatterpolar"
           }
          ],
          "scatterpolargl": [
           {
            "marker": {
             "colorbar": {
              "outlinewidth": 0,
              "ticks": ""
             }
            },
            "type": "scatterpolargl"
           }
          ],
          "scatterternary": [
           {
            "marker": {
             "colorbar": {
              "outlinewidth": 0,
              "ticks": ""
             }
            },
            "type": "scatterternary"
           }
          ],
          "surface": [
           {
            "colorbar": {
             "outlinewidth": 0,
             "ticks": ""
            },
            "colorscale": [
             [
              0,
              "#0d0887"
             ],
             [
              0.1111111111111111,
              "#46039f"
             ],
             [
              0.2222222222222222,
              "#7201a8"
             ],
             [
              0.3333333333333333,
              "#9c179e"
             ],
             [
              0.4444444444444444,
              "#bd3786"
             ],
             [
              0.5555555555555556,
              "#d8576b"
             ],
             [
              0.6666666666666666,
              "#ed7953"
             ],
             [
              0.7777777777777778,
              "#fb9f3a"
             ],
             [
              0.8888888888888888,
              "#fdca26"
             ],
             [
              1,
              "#f0f921"
             ]
            ],
            "type": "surface"
           }
          ],
          "table": [
           {
            "cells": {
             "fill": {
              "color": "#EBF0F8"
             },
             "line": {
              "color": "white"
             }
            },
            "header": {
             "fill": {
              "color": "#C8D4E3"
             },
             "line": {
              "color": "white"
             }
            },
            "type": "table"
           }
          ]
         },
         "layout": {
          "annotationdefaults": {
           "arrowcolor": "#2a3f5f",
           "arrowhead": 0,
           "arrowwidth": 1
          },
          "autotypenumbers": "strict",
          "coloraxis": {
           "colorbar": {
            "outlinewidth": 0,
            "ticks": ""
           }
          },
          "colorscale": {
           "diverging": [
            [
             0,
             "#8e0152"
            ],
            [
             0.1,
             "#c51b7d"
            ],
            [
             0.2,
             "#de77ae"
            ],
            [
             0.3,
             "#f1b6da"
            ],
            [
             0.4,
             "#fde0ef"
            ],
            [
             0.5,
             "#f7f7f7"
            ],
            [
             0.6,
             "#e6f5d0"
            ],
            [
             0.7,
             "#b8e186"
            ],
            [
             0.8,
             "#7fbc41"
            ],
            [
             0.9,
             "#4d9221"
            ],
            [
             1,
             "#276419"
            ]
           ],
           "sequential": [
            [
             0,
             "#0d0887"
            ],
            [
             0.1111111111111111,
             "#46039f"
            ],
            [
             0.2222222222222222,
             "#7201a8"
            ],
            [
             0.3333333333333333,
             "#9c179e"
            ],
            [
             0.4444444444444444,
             "#bd3786"
            ],
            [
             0.5555555555555556,
             "#d8576b"
            ],
            [
             0.6666666666666666,
             "#ed7953"
            ],
            [
             0.7777777777777778,
             "#fb9f3a"
            ],
            [
             0.8888888888888888,
             "#fdca26"
            ],
            [
             1,
             "#f0f921"
            ]
           ],
           "sequentialminus": [
            [
             0,
             "#0d0887"
            ],
            [
             0.1111111111111111,
             "#46039f"
            ],
            [
             0.2222222222222222,
             "#7201a8"
            ],
            [
             0.3333333333333333,
             "#9c179e"
            ],
            [
             0.4444444444444444,
             "#bd3786"
            ],
            [
             0.5555555555555556,
             "#d8576b"
            ],
            [
             0.6666666666666666,
             "#ed7953"
            ],
            [
             0.7777777777777778,
             "#fb9f3a"
            ],
            [
             0.8888888888888888,
             "#fdca26"
            ],
            [
             1,
             "#f0f921"
            ]
           ]
          },
          "colorway": [
           "#636efa",
           "#EF553B",
           "#00cc96",
           "#ab63fa",
           "#FFA15A",
           "#19d3f3",
           "#FF6692",
           "#B6E880",
           "#FF97FF",
           "#FECB52"
          ],
          "font": {
           "color": "#2a3f5f"
          },
          "geo": {
           "bgcolor": "white",
           "lakecolor": "white",
           "landcolor": "#E5ECF6",
           "showlakes": true,
           "showland": true,
           "subunitcolor": "white"
          },
          "hoverlabel": {
           "align": "left"
          },
          "hovermode": "closest",
          "mapbox": {
           "style": "light"
          },
          "paper_bgcolor": "white",
          "plot_bgcolor": "#E5ECF6",
          "polar": {
           "angularaxis": {
            "gridcolor": "white",
            "linecolor": "white",
            "ticks": ""
           },
           "bgcolor": "#E5ECF6",
           "radialaxis": {
            "gridcolor": "white",
            "linecolor": "white",
            "ticks": ""
           }
          },
          "scene": {
           "xaxis": {
            "backgroundcolor": "#E5ECF6",
            "gridcolor": "white",
            "gridwidth": 2,
            "linecolor": "white",
            "showbackground": true,
            "ticks": "",
            "zerolinecolor": "white"
           },
           "yaxis": {
            "backgroundcolor": "#E5ECF6",
            "gridcolor": "white",
            "gridwidth": 2,
            "linecolor": "white",
            "showbackground": true,
            "ticks": "",
            "zerolinecolor": "white"
           },
           "zaxis": {
            "backgroundcolor": "#E5ECF6",
            "gridcolor": "white",
            "gridwidth": 2,
            "linecolor": "white",
            "showbackground": true,
            "ticks": "",
            "zerolinecolor": "white"
           }
          },
          "shapedefaults": {
           "line": {
            "color": "#2a3f5f"
           }
          },
          "ternary": {
           "aaxis": {
            "gridcolor": "white",
            "linecolor": "white",
            "ticks": ""
           },
           "baxis": {
            "gridcolor": "white",
            "linecolor": "white",
            "ticks": ""
           },
           "bgcolor": "#E5ECF6",
           "caxis": {
            "gridcolor": "white",
            "linecolor": "white",
            "ticks": ""
           }
          },
          "title": {
           "x": 0.05
          },
          "xaxis": {
           "automargin": true,
           "gridcolor": "white",
           "linecolor": "white",
           "ticks": "",
           "title": {
            "standoff": 15
           },
           "zerolinecolor": "white",
           "zerolinewidth": 2
          },
          "yaxis": {
           "automargin": true,
           "gridcolor": "white",
           "linecolor": "white",
           "ticks": "",
           "title": {
            "standoff": 15
           },
           "zerolinecolor": "white",
           "zerolinewidth": 2
          }
         }
        },
        "xaxis": {
         "anchor": "y",
         "domain": [
          0,
          1
         ]
        },
        "yaxis": {
         "anchor": "x",
         "domain": [
          0,
          1
         ],
         "title": {
          "text": "HDI"
         }
        }
       }
      },
      "text/html": [
       "<div>                            <div id=\"a6f75c73-ccb5-4e22-93a3-6be39298067b\" class=\"plotly-graph-div\" style=\"height:525px; width:100%;\"></div>            <script type=\"text/javascript\">                require([\"plotly\"], function(Plotly) {                    window.PLOTLYENV=window.PLOTLYENV || {};                                    if (document.getElementById(\"a6f75c73-ccb5-4e22-93a3-6be39298067b\")) {                    Plotly.newPlot(                        \"a6f75c73-ccb5-4e22-93a3-6be39298067b\",                        [{\"alignmentgroup\":\"True\",\"boxpoints\":\"all\",\"hovertemplate\":\"HDI=%{y}<extra></extra>\",\"legendgroup\":\"\",\"marker\":{\"color\":\"#636efa\"},\"name\":\"\",\"notched\":false,\"offsetgroup\":\"\",\"orientation\":\"v\",\"showlegend\":false,\"x0\":\" \",\"xaxis\":\"x\",\"y\":[0.535,0.498,0.449,0.661,0.597,0.4,0.586,0.585,0.666,0.577,0.539,0.512,0.576,0.465,0.455,0.838,0.477,0.618,0.385,0.509,0.446,0.602,0.632,0.514,0.607,0.633,0.593,0.911,0.511,0.691,0.534,0.483,0.556,0.714,0.394,0.5,0.667,0.747,0.8,0.404,0.875,0.767,0.731,0.727,0.544,0.685,0.78,0.558,0.686,0.565,0.525,0.478,0.918,0.959,0.706,0.492,0.705,0.782,0.624,0.428,0.703,0.811,0.713,0.796,0.575,0.739,0.855,0.426,0.615,0.762,0.693,0.809,0.863,0.717,0.481,0.508,0.692,0.945,0.803,0.77,0.754,0.876,0.805,0.641,0.621,0.947,0.774,0.948,0.699,0.627,0.752,0.816,0.683,0.89,0.745,0.939,0.822,0.832,0.925,0.596,0.718,0.919,0.937,0.936,0.81,0.564,0.935,0.675,0.808,0.751,0.777,0.831,0.73,0.846,0.764,0.887,0.962,0.93,0.929,0.759,0.501,0.942,0.821,0.758,0.916,0.895,0.72,0.858,0.785,0.848,0.842,0.707,0.709,0.795,0.74,0.628,0.788,0.79,0.829,0.812,0.639,0.853],\"y0\":\" \",\"yaxis\":\"y\",\"type\":\"box\"}],                        {\"template\":{\"data\":{\"histogram2dcontour\":[{\"type\":\"histogram2dcontour\",\"colorbar\":{\"outlinewidth\":0,\"ticks\":\"\"},\"colorscale\":[[0.0,\"#0d0887\"],[0.1111111111111111,\"#46039f\"],[0.2222222222222222,\"#7201a8\"],[0.3333333333333333,\"#9c179e\"],[0.4444444444444444,\"#bd3786\"],[0.5555555555555556,\"#d8576b\"],[0.6666666666666666,\"#ed7953\"],[0.7777777777777778,\"#fb9f3a\"],[0.8888888888888888,\"#fdca26\"],[1.0,\"#f0f921\"]]}],\"choropleth\":[{\"type\":\"choropleth\",\"colorbar\":{\"outlinewidth\":0,\"ticks\":\"\"}}],\"histogram2d\":[{\"type\":\"histogram2d\",\"colorbar\":{\"outlinewidth\":0,\"ticks\":\"\"},\"colorscale\":[[0.0,\"#0d0887\"],[0.1111111111111111,\"#46039f\"],[0.2222222222222222,\"#7201a8\"],[0.3333333333333333,\"#9c179e\"],[0.4444444444444444,\"#bd3786\"],[0.5555555555555556,\"#d8576b\"],[0.6666666666666666,\"#ed7953\"],[0.7777777777777778,\"#fb9f3a\"],[0.8888888888888888,\"#fdca26\"],[1.0,\"#f0f921\"]]}],\"heatmap\":[{\"type\":\"heatmap\",\"colorbar\":{\"outlinewidth\":0,\"ticks\":\"\"},\"colorscale\":[[0.0,\"#0d0887\"],[0.1111111111111111,\"#46039f\"],[0.2222222222222222,\"#7201a8\"],[0.3333333333333333,\"#9c179e\"],[0.4444444444444444,\"#bd3786\"],[0.5555555555555556,\"#d8576b\"],[0.6666666666666666,\"#ed7953\"],[0.7777777777777778,\"#fb9f3a\"],[0.8888888888888888,\"#fdca26\"],[1.0,\"#f0f921\"]]}],\"heatmapgl\":[{\"type\":\"heatmapgl\",\"colorbar\":{\"outlinewidth\":0,\"ticks\":\"\"},\"colorscale\":[[0.0,\"#0d0887\"],[0.1111111111111111,\"#46039f\"],[0.2222222222222222,\"#7201a8\"],[0.3333333333333333,\"#9c179e\"],[0.4444444444444444,\"#bd3786\"],[0.5555555555555556,\"#d8576b\"],[0.6666666666666666,\"#ed7953\"],[0.7777777777777778,\"#fb9f3a\"],[0.8888888888888888,\"#fdca26\"],[1.0,\"#f0f921\"]]}],\"contourcarpet\":[{\"type\":\"contourcarpet\",\"colorbar\":{\"outlinewidth\":0,\"ticks\":\"\"}}],\"contour\":[{\"type\":\"contour\",\"colorbar\":{\"outlinewidth\":0,\"ticks\":\"\"},\"colorscale\":[[0.0,\"#0d0887\"],[0.1111111111111111,\"#46039f\"],[0.2222222222222222,\"#7201a8\"],[0.3333333333333333,\"#9c179e\"],[0.4444444444444444,\"#bd3786\"],[0.5555555555555556,\"#d8576b\"],[0.6666666666666666,\"#ed7953\"],[0.7777777777777778,\"#fb9f3a\"],[0.8888888888888888,\"#fdca26\"],[1.0,\"#f0f921\"]]}],\"surface\":[{\"type\":\"surface\",\"colorbar\":{\"outlinewidth\":0,\"ticks\":\"\"},\"colorscale\":[[0.0,\"#0d0887\"],[0.1111111111111111,\"#46039f\"],[0.2222222222222222,\"#7201a8\"],[0.3333333333333333,\"#9c179e\"],[0.4444444444444444,\"#bd3786\"],[0.5555555555555556,\"#d8576b\"],[0.6666666666666666,\"#ed7953\"],[0.7777777777777778,\"#fb9f3a\"],[0.8888888888888888,\"#fdca26\"],[1.0,\"#f0f921\"]]}],\"mesh3d\":[{\"type\":\"mesh3d\",\"colorbar\":{\"outlinewidth\":0,\"ticks\":\"\"}}],\"scatter\":[{\"fillpattern\":{\"fillmode\":\"overlay\",\"size\":10,\"solidity\":0.2},\"type\":\"scatter\"}],\"parcoords\":[{\"type\":\"parcoords\",\"line\":{\"colorbar\":{\"outlinewidth\":0,\"ticks\":\"\"}}}],\"scatterpolargl\":[{\"type\":\"scatterpolargl\",\"marker\":{\"colorbar\":{\"outlinewidth\":0,\"ticks\":\"\"}}}],\"bar\":[{\"error_x\":{\"color\":\"#2a3f5f\"},\"error_y\":{\"color\":\"#2a3f5f\"},\"marker\":{\"line\":{\"color\":\"#E5ECF6\",\"width\":0.5},\"pattern\":{\"fillmode\":\"overlay\",\"size\":10,\"solidity\":0.2}},\"type\":\"bar\"}],\"scattergeo\":[{\"type\":\"scattergeo\",\"marker\":{\"colorbar\":{\"outlinewidth\":0,\"ticks\":\"\"}}}],\"scatterpolar\":[{\"type\":\"scatterpolar\",\"marker\":{\"colorbar\":{\"outlinewidth\":0,\"ticks\":\"\"}}}],\"histogram\":[{\"marker\":{\"pattern\":{\"fillmode\":\"overlay\",\"size\":10,\"solidity\":0.2}},\"type\":\"histogram\"}],\"scattergl\":[{\"type\":\"scattergl\",\"marker\":{\"colorbar\":{\"outlinewidth\":0,\"ticks\":\"\"}}}],\"scatter3d\":[{\"type\":\"scatter3d\",\"line\":{\"colorbar\":{\"outlinewidth\":0,\"ticks\":\"\"}},\"marker\":{\"colorbar\":{\"outlinewidth\":0,\"ticks\":\"\"}}}],\"scattermapbox\":[{\"type\":\"scattermapbox\",\"marker\":{\"colorbar\":{\"outlinewidth\":0,\"ticks\":\"\"}}}],\"scatterternary\":[{\"type\":\"scatterternary\",\"marker\":{\"colorbar\":{\"outlinewidth\":0,\"ticks\":\"\"}}}],\"scattercarpet\":[{\"type\":\"scattercarpet\",\"marker\":{\"colorbar\":{\"outlinewidth\":0,\"ticks\":\"\"}}}],\"carpet\":[{\"aaxis\":{\"endlinecolor\":\"#2a3f5f\",\"gridcolor\":\"white\",\"linecolor\":\"white\",\"minorgridcolor\":\"white\",\"startlinecolor\":\"#2a3f5f\"},\"baxis\":{\"endlinecolor\":\"#2a3f5f\",\"gridcolor\":\"white\",\"linecolor\":\"white\",\"minorgridcolor\":\"white\",\"startlinecolor\":\"#2a3f5f\"},\"type\":\"carpet\"}],\"table\":[{\"cells\":{\"fill\":{\"color\":\"#EBF0F8\"},\"line\":{\"color\":\"white\"}},\"header\":{\"fill\":{\"color\":\"#C8D4E3\"},\"line\":{\"color\":\"white\"}},\"type\":\"table\"}],\"barpolar\":[{\"marker\":{\"line\":{\"color\":\"#E5ECF6\",\"width\":0.5},\"pattern\":{\"fillmode\":\"overlay\",\"size\":10,\"solidity\":0.2}},\"type\":\"barpolar\"}],\"pie\":[{\"automargin\":true,\"type\":\"pie\"}]},\"layout\":{\"autotypenumbers\":\"strict\",\"colorway\":[\"#636efa\",\"#EF553B\",\"#00cc96\",\"#ab63fa\",\"#FFA15A\",\"#19d3f3\",\"#FF6692\",\"#B6E880\",\"#FF97FF\",\"#FECB52\"],\"font\":{\"color\":\"#2a3f5f\"},\"hovermode\":\"closest\",\"hoverlabel\":{\"align\":\"left\"},\"paper_bgcolor\":\"white\",\"plot_bgcolor\":\"#E5ECF6\",\"polar\":{\"bgcolor\":\"#E5ECF6\",\"angularaxis\":{\"gridcolor\":\"white\",\"linecolor\":\"white\",\"ticks\":\"\"},\"radialaxis\":{\"gridcolor\":\"white\",\"linecolor\":\"white\",\"ticks\":\"\"}},\"ternary\":{\"bgcolor\":\"#E5ECF6\",\"aaxis\":{\"gridcolor\":\"white\",\"linecolor\":\"white\",\"ticks\":\"\"},\"baxis\":{\"gridcolor\":\"white\",\"linecolor\":\"white\",\"ticks\":\"\"},\"caxis\":{\"gridcolor\":\"white\",\"linecolor\":\"white\",\"ticks\":\"\"}},\"coloraxis\":{\"colorbar\":{\"outlinewidth\":0,\"ticks\":\"\"}},\"colorscale\":{\"sequential\":[[0.0,\"#0d0887\"],[0.1111111111111111,\"#46039f\"],[0.2222222222222222,\"#7201a8\"],[0.3333333333333333,\"#9c179e\"],[0.4444444444444444,\"#bd3786\"],[0.5555555555555556,\"#d8576b\"],[0.6666666666666666,\"#ed7953\"],[0.7777777777777778,\"#fb9f3a\"],[0.8888888888888888,\"#fdca26\"],[1.0,\"#f0f921\"]],\"sequentialminus\":[[0.0,\"#0d0887\"],[0.1111111111111111,\"#46039f\"],[0.2222222222222222,\"#7201a8\"],[0.3333333333333333,\"#9c179e\"],[0.4444444444444444,\"#bd3786\"],[0.5555555555555556,\"#d8576b\"],[0.6666666666666666,\"#ed7953\"],[0.7777777777777778,\"#fb9f3a\"],[0.8888888888888888,\"#fdca26\"],[1.0,\"#f0f921\"]],\"diverging\":[[0,\"#8e0152\"],[0.1,\"#c51b7d\"],[0.2,\"#de77ae\"],[0.3,\"#f1b6da\"],[0.4,\"#fde0ef\"],[0.5,\"#f7f7f7\"],[0.6,\"#e6f5d0\"],[0.7,\"#b8e186\"],[0.8,\"#7fbc41\"],[0.9,\"#4d9221\"],[1,\"#276419\"]]},\"xaxis\":{\"gridcolor\":\"white\",\"linecolor\":\"white\",\"ticks\":\"\",\"title\":{\"standoff\":15},\"zerolinecolor\":\"white\",\"automargin\":true,\"zerolinewidth\":2},\"yaxis\":{\"gridcolor\":\"white\",\"linecolor\":\"white\",\"ticks\":\"\",\"title\":{\"standoff\":15},\"zerolinecolor\":\"white\",\"automargin\":true,\"zerolinewidth\":2},\"scene\":{\"xaxis\":{\"backgroundcolor\":\"#E5ECF6\",\"gridcolor\":\"white\",\"linecolor\":\"white\",\"showbackground\":true,\"ticks\":\"\",\"zerolinecolor\":\"white\",\"gridwidth\":2},\"yaxis\":{\"backgroundcolor\":\"#E5ECF6\",\"gridcolor\":\"white\",\"linecolor\":\"white\",\"showbackground\":true,\"ticks\":\"\",\"zerolinecolor\":\"white\",\"gridwidth\":2},\"zaxis\":{\"backgroundcolor\":\"#E5ECF6\",\"gridcolor\":\"white\",\"linecolor\":\"white\",\"showbackground\":true,\"ticks\":\"\",\"zerolinecolor\":\"white\",\"gridwidth\":2}},\"shapedefaults\":{\"line\":{\"color\":\"#2a3f5f\"}},\"annotationdefaults\":{\"arrowcolor\":\"#2a3f5f\",\"arrowhead\":0,\"arrowwidth\":1},\"geo\":{\"bgcolor\":\"white\",\"landcolor\":\"#E5ECF6\",\"subunitcolor\":\"white\",\"showland\":true,\"showlakes\":true,\"lakecolor\":\"white\"},\"title\":{\"x\":0.05},\"mapbox\":{\"style\":\"light\"}}},\"xaxis\":{\"anchor\":\"y\",\"domain\":[0.0,1.0]},\"yaxis\":{\"anchor\":\"x\",\"domain\":[0.0,1.0],\"title\":{\"text\":\"HDI\"}},\"legend\":{\"tracegroupgap\":0},\"margin\":{\"t\":60},\"boxmode\":\"group\"},                        {\"responsive\": true}                    ).then(function(){\n",
       "                            \n",
       "var gd = document.getElementById('a6f75c73-ccb5-4e22-93a3-6be39298067b');\n",
       "var x = new MutationObserver(function (mutations, observer) {{\n",
       "        var display = window.getComputedStyle(gd).display;\n",
       "        if (!display || display === 'none') {{\n",
       "            console.log([gd, 'removed!']);\n",
       "            Plotly.purge(gd);\n",
       "            observer.disconnect();\n",
       "        }}\n",
       "}});\n",
       "\n",
       "// Listen for the removal of the full notebook cells\n",
       "var notebookContainer = gd.closest('#notebook-container');\n",
       "if (notebookContainer) {{\n",
       "    x.observe(notebookContainer, {childList: true});\n",
       "}}\n",
       "\n",
       "// Listen for the clearing of the current output cell\n",
       "var outputEl = gd.closest('.output');\n",
       "if (outputEl) {{\n",
       "    x.observe(outputEl, {childList: true});\n",
       "}}\n",
       "\n",
       "                        })                };                });            </script>        </div>"
      ]
     },
     "metadata": {},
     "output_type": "display_data"
    }
   ],
   "source": [
    "fig = px.box(hdi, y= 'HDI', points='all')\n",
    "fig.show()"
   ]
  },
  {
   "cell_type": "markdown",
   "id": "f7e370a9",
   "metadata": {},
   "source": [
    "From the boxplot above we can deduce the following:\n",
    "-the median value is 0.72\n",
    "-the data is not too varied and centres between 0.6 and 0.8\n",
    "-the boxplot is fairly symmetrical and therefore evenly distributed around the median\n",
    "These insights indicate that most countries are achieving close to the median HDI value. "
   ]
  },
  {
   "cell_type": "markdown",
   "id": "d1baacdc",
   "metadata": {},
   "source": [
    "Let's compare GDP forcasts made by the IMF, both nominal and PPP"
   ]
  },
  {
   "cell_type": "code",
   "execution_count": 150,
   "id": "e6e772e4",
   "metadata": {},
   "outputs": [
    {
     "data": {
      "text/plain": [
       "Index(['Country', 'Total in km2', 'Land in km2', 'Water in km2', 'Water %',\n",
       "       'HDI', '%HDI Growth', 'IMF Forecast GDP(Nominal)',\n",
       "       'World Bank Forecast GDP(Nominal)', 'UN Forecast GDP(Nominal)',\n",
       "       'IMF Forecast GDP(PPP)', 'World Bank Forecast GDP(PPP)',\n",
       "       'CIA Forecast GDP(PPP)', 'Internet Users', 'UN Continental Region',\n",
       "       'UN Statistical Subregion', 'Population 2022', 'Population 2023',\n",
       "       'Population %Change'],\n",
       "      dtype='object')"
      ]
     },
     "execution_count": 150,
     "metadata": {},
     "output_type": "execute_result"
    }
   ],
   "source": [
    "data.columns"
   ]
  },
  {
   "cell_type": "code",
   "execution_count": 158,
   "id": "0b6ff9dd",
   "metadata": {
    "scrolled": true
   },
   "outputs": [
    {
     "data": {
      "text/html": [
       "<div>\n",
       "<style scoped>\n",
       "    .dataframe tbody tr th:only-of-type {\n",
       "        vertical-align: middle;\n",
       "    }\n",
       "\n",
       "    .dataframe tbody tr th {\n",
       "        vertical-align: top;\n",
       "    }\n",
       "\n",
       "    .dataframe thead th {\n",
       "        text-align: right;\n",
       "    }\n",
       "</style>\n",
       "<table border=\"1\" class=\"dataframe\">\n",
       "  <thead>\n",
       "    <tr style=\"text-align: right;\">\n",
       "      <th></th>\n",
       "      <th>Country</th>\n",
       "      <th>IMF Forecast GDP(Nominal)</th>\n",
       "      <th>IMF Forecast GDP(PPP)</th>\n",
       "    </tr>\n",
       "  </thead>\n",
       "  <tbody>\n",
       "    <tr>\n",
       "      <th>0</th>\n",
       "      <td>Russia</td>\n",
       "      <td>1862470.0</td>\n",
       "      <td>5056479.0</td>\n",
       "    </tr>\n",
       "    <tr>\n",
       "      <th>1</th>\n",
       "      <td>Canada</td>\n",
       "      <td>2117805.0</td>\n",
       "      <td>2378973.0</td>\n",
       "    </tr>\n",
       "    <tr>\n",
       "      <th>2</th>\n",
       "      <td>Brazil</td>\n",
       "      <td>2126809.0</td>\n",
       "      <td>4101022.0</td>\n",
       "    </tr>\n",
       "    <tr>\n",
       "      <th>3</th>\n",
       "      <td>India</td>\n",
       "      <td>3732224.0</td>\n",
       "      <td>13119622.0</td>\n",
       "    </tr>\n",
       "    <tr>\n",
       "      <th>4</th>\n",
       "      <td>Argentina</td>\n",
       "      <td>621833.0</td>\n",
       "      <td>1239515.0</td>\n",
       "    </tr>\n",
       "    <tr>\n",
       "      <th>...</th>\n",
       "      <td>...</td>\n",
       "      <td>...</td>\n",
       "      <td>...</td>\n",
       "    </tr>\n",
       "    <tr>\n",
       "      <th>137</th>\n",
       "      <td>Saint Kitts and Nevis</td>\n",
       "      <td>1069.0</td>\n",
       "      <td>1760.0</td>\n",
       "    </tr>\n",
       "    <tr>\n",
       "      <th>138</th>\n",
       "      <td>Marshall Islands</td>\n",
       "      <td>277.0</td>\n",
       "      <td>263.0</td>\n",
       "    </tr>\n",
       "    <tr>\n",
       "      <th>139</th>\n",
       "      <td>Liechtenstein</td>\n",
       "      <td>0.0</td>\n",
       "      <td>0.0</td>\n",
       "    </tr>\n",
       "    <tr>\n",
       "      <th>140</th>\n",
       "      <td>San Marino</td>\n",
       "      <td>1998.0</td>\n",
       "      <td>2872.0</td>\n",
       "    </tr>\n",
       "    <tr>\n",
       "      <th>141</th>\n",
       "      <td>Tuvalu</td>\n",
       "      <td>63.0</td>\n",
       "      <td>63.0</td>\n",
       "    </tr>\n",
       "  </tbody>\n",
       "</table>\n",
       "<p>142 rows × 3 columns</p>\n",
       "</div>"
      ],
      "text/plain": [
       "                   Country  IMF Forecast GDP(Nominal)  IMF Forecast GDP(PPP)\n",
       "0                   Russia                  1862470.0              5056479.0\n",
       "1                   Canada                  2117805.0              2378973.0\n",
       "2                   Brazil                  2126809.0              4101022.0\n",
       "3                    India                  3732224.0             13119622.0\n",
       "4                Argentina                   621833.0              1239515.0\n",
       "..                     ...                        ...                    ...\n",
       "137  Saint Kitts and Nevis                     1069.0                 1760.0\n",
       "138       Marshall Islands                      277.0                  263.0\n",
       "139          Liechtenstein                        0.0                    0.0\n",
       "140             San Marino                     1998.0                 2872.0\n",
       "141                 Tuvalu                       63.0                   63.0\n",
       "\n",
       "[142 rows x 3 columns]"
      ]
     },
     "execution_count": 158,
     "metadata": {},
     "output_type": "execute_result"
    }
   ],
   "source": [
    "imfgdp = data[['Country', 'IMF Forecast GDP(Nominal)', 'IMF Forecast GDP(PPP)']].fillna(0)\n",
    "imfgdp\n",
    "              "
   ]
  },
  {
   "cell_type": "code",
   "execution_count": 162,
   "id": "ab2d4114",
   "metadata": {
    "scrolled": false
   },
   "outputs": [
    {
     "data": {
      "text/html": [
       "<div>\n",
       "<style scoped>\n",
       "    .dataframe tbody tr th:only-of-type {\n",
       "        vertical-align: middle;\n",
       "    }\n",
       "\n",
       "    .dataframe tbody tr th {\n",
       "        vertical-align: top;\n",
       "    }\n",
       "\n",
       "    .dataframe thead th {\n",
       "        text-align: right;\n",
       "    }\n",
       "</style>\n",
       "<table border=\"1\" class=\"dataframe\">\n",
       "  <thead>\n",
       "    <tr style=\"text-align: right;\">\n",
       "      <th></th>\n",
       "      <th>Country</th>\n",
       "      <th>IMF Forecast GDP(Nominal)</th>\n",
       "      <th>IMF Forecast GDP(PPP)</th>\n",
       "    </tr>\n",
       "  </thead>\n",
       "  <tbody>\n",
       "    <tr>\n",
       "      <th>46</th>\n",
       "      <td>Germany</td>\n",
       "      <td>4429838.0</td>\n",
       "      <td>5537992.0</td>\n",
       "    </tr>\n",
       "    <tr>\n",
       "      <th>45</th>\n",
       "      <td>Japan</td>\n",
       "      <td>4230862.0</td>\n",
       "      <td>6495214.0</td>\n",
       "    </tr>\n",
       "    <tr>\n",
       "      <th>3</th>\n",
       "      <td>India</td>\n",
       "      <td>3732224.0</td>\n",
       "      <td>13119622.0</td>\n",
       "    </tr>\n",
       "    <tr>\n",
       "      <th>57</th>\n",
       "      <td>United Kingdom</td>\n",
       "      <td>3332059.0</td>\n",
       "      <td>3871790.0</td>\n",
       "    </tr>\n",
       "    <tr>\n",
       "      <th>51</th>\n",
       "      <td>Italy</td>\n",
       "      <td>2186082.0</td>\n",
       "      <td>3193180.0</td>\n",
       "    </tr>\n",
       "    <tr>\n",
       "      <th>...</th>\n",
       "      <td>...</td>\n",
       "      <td>...</td>\n",
       "      <td>...</td>\n",
       "    </tr>\n",
       "    <tr>\n",
       "      <th>76</th>\n",
       "      <td>Cuba</td>\n",
       "      <td>0.0</td>\n",
       "      <td>0.0</td>\n",
       "    </tr>\n",
       "    <tr>\n",
       "      <th>64</th>\n",
       "      <td>Syria</td>\n",
       "      <td>0.0</td>\n",
       "      <td>0.0</td>\n",
       "    </tr>\n",
       "    <tr>\n",
       "      <th>139</th>\n",
       "      <td>Liechtenstein</td>\n",
       "      <td>0.0</td>\n",
       "      <td>0.0</td>\n",
       "    </tr>\n",
       "    <tr>\n",
       "      <th>32</th>\n",
       "      <td>Afghanistan</td>\n",
       "      <td>0.0</td>\n",
       "      <td>0.0</td>\n",
       "    </tr>\n",
       "    <tr>\n",
       "      <th>71</th>\n",
       "      <td>Eritrea</td>\n",
       "      <td>0.0</td>\n",
       "      <td>0.0</td>\n",
       "    </tr>\n",
       "  </tbody>\n",
       "</table>\n",
       "<p>142 rows × 3 columns</p>\n",
       "</div>"
      ],
      "text/plain": [
       "            Country  IMF Forecast GDP(Nominal)  IMF Forecast GDP(PPP)\n",
       "46          Germany                  4429838.0              5537992.0\n",
       "45            Japan                  4230862.0              6495214.0\n",
       "3             India                  3732224.0             13119622.0\n",
       "57   United Kingdom                  3332059.0              3871790.0\n",
       "51            Italy                  2186082.0              3193180.0\n",
       "..              ...                        ...                    ...\n",
       "76             Cuba                        0.0                    0.0\n",
       "64            Syria                        0.0                    0.0\n",
       "139   Liechtenstein                        0.0                    0.0\n",
       "32      Afghanistan                        0.0                    0.0\n",
       "71          Eritrea                        0.0                    0.0\n",
       "\n",
       "[142 rows x 3 columns]"
      ]
     },
     "execution_count": 162,
     "metadata": {},
     "output_type": "execute_result"
    }
   ],
   "source": [
    "#let's sort the GDP values\n",
    "nom = imfgdp.sort_values('IMF Forecast GDP(Nominal)', ascending=False)\n",
    "nom"
   ]
  },
  {
   "cell_type": "code",
   "execution_count": 166,
   "id": "8ffb8b47",
   "metadata": {
    "scrolled": true
   },
   "outputs": [
    {
     "data": {
      "text/html": [
       "<div>\n",
       "<style scoped>\n",
       "    .dataframe tbody tr th:only-of-type {\n",
       "        vertical-align: middle;\n",
       "    }\n",
       "\n",
       "    .dataframe tbody tr th {\n",
       "        vertical-align: top;\n",
       "    }\n",
       "\n",
       "    .dataframe thead th {\n",
       "        text-align: right;\n",
       "    }\n",
       "</style>\n",
       "<table border=\"1\" class=\"dataframe\">\n",
       "  <thead>\n",
       "    <tr style=\"text-align: right;\">\n",
       "      <th></th>\n",
       "      <th>Country</th>\n",
       "      <th>IMF Forecast GDP(Nominal)</th>\n",
       "      <th>IMF Forecast GDP(PPP)</th>\n",
       "    </tr>\n",
       "  </thead>\n",
       "  <tbody>\n",
       "    <tr>\n",
       "      <th>46</th>\n",
       "      <td>Germany</td>\n",
       "      <td>4429838.0</td>\n",
       "      <td>5537992.0</td>\n",
       "    </tr>\n",
       "    <tr>\n",
       "      <th>45</th>\n",
       "      <td>Japan</td>\n",
       "      <td>4230862.0</td>\n",
       "      <td>6495214.0</td>\n",
       "    </tr>\n",
       "    <tr>\n",
       "      <th>3</th>\n",
       "      <td>India</td>\n",
       "      <td>3732224.0</td>\n",
       "      <td>13119622.0</td>\n",
       "    </tr>\n",
       "    <tr>\n",
       "      <th>57</th>\n",
       "      <td>United Kingdom</td>\n",
       "      <td>3332059.0</td>\n",
       "      <td>3871790.0</td>\n",
       "    </tr>\n",
       "    <tr>\n",
       "      <th>51</th>\n",
       "      <td>Italy</td>\n",
       "      <td>2186082.0</td>\n",
       "      <td>3193180.0</td>\n",
       "    </tr>\n",
       "    <tr>\n",
       "      <th>2</th>\n",
       "      <td>Brazil</td>\n",
       "      <td>2126809.0</td>\n",
       "      <td>4101022.0</td>\n",
       "    </tr>\n",
       "    <tr>\n",
       "      <th>1</th>\n",
       "      <td>Canada</td>\n",
       "      <td>2117805.0</td>\n",
       "      <td>2378973.0</td>\n",
       "    </tr>\n",
       "    <tr>\n",
       "      <th>0</th>\n",
       "      <td>Russia</td>\n",
       "      <td>1862470.0</td>\n",
       "      <td>5056479.0</td>\n",
       "    </tr>\n",
       "    <tr>\n",
       "      <th>7</th>\n",
       "      <td>Mexico</td>\n",
       "      <td>1811468.0</td>\n",
       "      <td>3277601.0</td>\n",
       "    </tr>\n",
       "    <tr>\n",
       "      <th>8</th>\n",
       "      <td>Indonesia</td>\n",
       "      <td>1417387.0</td>\n",
       "      <td>4393370.0</td>\n",
       "    </tr>\n",
       "  </tbody>\n",
       "</table>\n",
       "</div>"
      ],
      "text/plain": [
       "           Country  IMF Forecast GDP(Nominal)  IMF Forecast GDP(PPP)\n",
       "46         Germany                  4429838.0              5537992.0\n",
       "45           Japan                  4230862.0              6495214.0\n",
       "3            India                  3732224.0             13119622.0\n",
       "57  United Kingdom                  3332059.0              3871790.0\n",
       "51           Italy                  2186082.0              3193180.0\n",
       "2           Brazil                  2126809.0              4101022.0\n",
       "1           Canada                  2117805.0              2378973.0\n",
       "0           Russia                  1862470.0              5056479.0\n",
       "7           Mexico                  1811468.0              3277601.0\n",
       "8        Indonesia                  1417387.0              4393370.0"
      ]
     },
     "execution_count": 166,
     "metadata": {},
     "output_type": "execute_result"
    }
   ],
   "source": [
    "snom = nom.head(10)\n",
    "snom"
   ]
  },
  {
   "cell_type": "code",
   "execution_count": 169,
   "id": "03ad7e5e",
   "metadata": {},
   "outputs": [
    {
     "data": {
      "application/vnd.plotly.v1+json": {
       "config": {
        "plotlyServerURL": "https://plot.ly"
       },
       "data": [
        {
         "hovertemplate": "Country=Germany<br>IMF Forecast GDP(Nominal)=%{x}<br>IMF Forecast GDP(PPP)=%{y}<extra></extra>",
         "legendgroup": "Germany",
         "marker": {
          "color": "#636efa",
          "symbol": "circle"
         },
         "mode": "markers",
         "name": "Germany",
         "orientation": "v",
         "showlegend": true,
         "type": "scatter",
         "x": [
          4429838
         ],
         "xaxis": "x",
         "y": [
          5537992
         ],
         "yaxis": "y"
        },
        {
         "hovertemplate": "Country=Japan<br>IMF Forecast GDP(Nominal)=%{x}<br>IMF Forecast GDP(PPP)=%{y}<extra></extra>",
         "legendgroup": "Japan",
         "marker": {
          "color": "#EF553B",
          "symbol": "circle"
         },
         "mode": "markers",
         "name": "Japan",
         "orientation": "v",
         "showlegend": true,
         "type": "scatter",
         "x": [
          4230862
         ],
         "xaxis": "x",
         "y": [
          6495214
         ],
         "yaxis": "y"
        },
        {
         "hovertemplate": "Country=India<br>IMF Forecast GDP(Nominal)=%{x}<br>IMF Forecast GDP(PPP)=%{y}<extra></extra>",
         "legendgroup": "India",
         "marker": {
          "color": "#00cc96",
          "symbol": "circle"
         },
         "mode": "markers",
         "name": "India",
         "orientation": "v",
         "showlegend": true,
         "type": "scatter",
         "x": [
          3732224
         ],
         "xaxis": "x",
         "y": [
          13119622
         ],
         "yaxis": "y"
        },
        {
         "hovertemplate": "Country=United Kingdom<br>IMF Forecast GDP(Nominal)=%{x}<br>IMF Forecast GDP(PPP)=%{y}<extra></extra>",
         "legendgroup": "United Kingdom",
         "marker": {
          "color": "#ab63fa",
          "symbol": "circle"
         },
         "mode": "markers",
         "name": "United Kingdom",
         "orientation": "v",
         "showlegend": true,
         "type": "scatter",
         "x": [
          3332059
         ],
         "xaxis": "x",
         "y": [
          3871790
         ],
         "yaxis": "y"
        },
        {
         "hovertemplate": "Country=Italy<br>IMF Forecast GDP(Nominal)=%{x}<br>IMF Forecast GDP(PPP)=%{y}<extra></extra>",
         "legendgroup": "Italy",
         "marker": {
          "color": "#FFA15A",
          "symbol": "circle"
         },
         "mode": "markers",
         "name": "Italy",
         "orientation": "v",
         "showlegend": true,
         "type": "scatter",
         "x": [
          2186082
         ],
         "xaxis": "x",
         "y": [
          3193180
         ],
         "yaxis": "y"
        },
        {
         "hovertemplate": "Country=Brazil<br>IMF Forecast GDP(Nominal)=%{x}<br>IMF Forecast GDP(PPP)=%{y}<extra></extra>",
         "legendgroup": "Brazil",
         "marker": {
          "color": "#19d3f3",
          "symbol": "circle"
         },
         "mode": "markers",
         "name": "Brazil",
         "orientation": "v",
         "showlegend": true,
         "type": "scatter",
         "x": [
          2126809
         ],
         "xaxis": "x",
         "y": [
          4101022
         ],
         "yaxis": "y"
        },
        {
         "hovertemplate": "Country=Canada<br>IMF Forecast GDP(Nominal)=%{x}<br>IMF Forecast GDP(PPP)=%{y}<extra></extra>",
         "legendgroup": "Canada",
         "marker": {
          "color": "#FF6692",
          "symbol": "circle"
         },
         "mode": "markers",
         "name": "Canada",
         "orientation": "v",
         "showlegend": true,
         "type": "scatter",
         "x": [
          2117805
         ],
         "xaxis": "x",
         "y": [
          2378973
         ],
         "yaxis": "y"
        },
        {
         "hovertemplate": "Country=Russia<br>IMF Forecast GDP(Nominal)=%{x}<br>IMF Forecast GDP(PPP)=%{y}<extra></extra>",
         "legendgroup": "Russia",
         "marker": {
          "color": "#B6E880",
          "symbol": "circle"
         },
         "mode": "markers",
         "name": "Russia",
         "orientation": "v",
         "showlegend": true,
         "type": "scatter",
         "x": [
          1862470
         ],
         "xaxis": "x",
         "y": [
          5056479
         ],
         "yaxis": "y"
        },
        {
         "hovertemplate": "Country=Mexico<br>IMF Forecast GDP(Nominal)=%{x}<br>IMF Forecast GDP(PPP)=%{y}<extra></extra>",
         "legendgroup": "Mexico",
         "marker": {
          "color": "#FF97FF",
          "symbol": "circle"
         },
         "mode": "markers",
         "name": "Mexico",
         "orientation": "v",
         "showlegend": true,
         "type": "scatter",
         "x": [
          1811468
         ],
         "xaxis": "x",
         "y": [
          3277601
         ],
         "yaxis": "y"
        },
        {
         "hovertemplate": "Country=Indonesia<br>IMF Forecast GDP(Nominal)=%{x}<br>IMF Forecast GDP(PPP)=%{y}<extra></extra>",
         "legendgroup": "Indonesia",
         "marker": {
          "color": "#FECB52",
          "symbol": "circle"
         },
         "mode": "markers",
         "name": "Indonesia",
         "orientation": "v",
         "showlegend": true,
         "type": "scatter",
         "x": [
          1417387
         ],
         "xaxis": "x",
         "y": [
          4393370
         ],
         "yaxis": "y"
        }
       ],
       "layout": {
        "legend": {
         "title": {
          "text": "Country"
         },
         "tracegroupgap": 0
        },
        "margin": {
         "t": 60
        },
        "template": {
         "data": {
          "bar": [
           {
            "error_x": {
             "color": "#2a3f5f"
            },
            "error_y": {
             "color": "#2a3f5f"
            },
            "marker": {
             "line": {
              "color": "#E5ECF6",
              "width": 0.5
             },
             "pattern": {
              "fillmode": "overlay",
              "size": 10,
              "solidity": 0.2
             }
            },
            "type": "bar"
           }
          ],
          "barpolar": [
           {
            "marker": {
             "line": {
              "color": "#E5ECF6",
              "width": 0.5
             },
             "pattern": {
              "fillmode": "overlay",
              "size": 10,
              "solidity": 0.2
             }
            },
            "type": "barpolar"
           }
          ],
          "carpet": [
           {
            "aaxis": {
             "endlinecolor": "#2a3f5f",
             "gridcolor": "white",
             "linecolor": "white",
             "minorgridcolor": "white",
             "startlinecolor": "#2a3f5f"
            },
            "baxis": {
             "endlinecolor": "#2a3f5f",
             "gridcolor": "white",
             "linecolor": "white",
             "minorgridcolor": "white",
             "startlinecolor": "#2a3f5f"
            },
            "type": "carpet"
           }
          ],
          "choropleth": [
           {
            "colorbar": {
             "outlinewidth": 0,
             "ticks": ""
            },
            "type": "choropleth"
           }
          ],
          "contour": [
           {
            "colorbar": {
             "outlinewidth": 0,
             "ticks": ""
            },
            "colorscale": [
             [
              0,
              "#0d0887"
             ],
             [
              0.1111111111111111,
              "#46039f"
             ],
             [
              0.2222222222222222,
              "#7201a8"
             ],
             [
              0.3333333333333333,
              "#9c179e"
             ],
             [
              0.4444444444444444,
              "#bd3786"
             ],
             [
              0.5555555555555556,
              "#d8576b"
             ],
             [
              0.6666666666666666,
              "#ed7953"
             ],
             [
              0.7777777777777778,
              "#fb9f3a"
             ],
             [
              0.8888888888888888,
              "#fdca26"
             ],
             [
              1,
              "#f0f921"
             ]
            ],
            "type": "contour"
           }
          ],
          "contourcarpet": [
           {
            "colorbar": {
             "outlinewidth": 0,
             "ticks": ""
            },
            "type": "contourcarpet"
           }
          ],
          "heatmap": [
           {
            "colorbar": {
             "outlinewidth": 0,
             "ticks": ""
            },
            "colorscale": [
             [
              0,
              "#0d0887"
             ],
             [
              0.1111111111111111,
              "#46039f"
             ],
             [
              0.2222222222222222,
              "#7201a8"
             ],
             [
              0.3333333333333333,
              "#9c179e"
             ],
             [
              0.4444444444444444,
              "#bd3786"
             ],
             [
              0.5555555555555556,
              "#d8576b"
             ],
             [
              0.6666666666666666,
              "#ed7953"
             ],
             [
              0.7777777777777778,
              "#fb9f3a"
             ],
             [
              0.8888888888888888,
              "#fdca26"
             ],
             [
              1,
              "#f0f921"
             ]
            ],
            "type": "heatmap"
           }
          ],
          "heatmapgl": [
           {
            "colorbar": {
             "outlinewidth": 0,
             "ticks": ""
            },
            "colorscale": [
             [
              0,
              "#0d0887"
             ],
             [
              0.1111111111111111,
              "#46039f"
             ],
             [
              0.2222222222222222,
              "#7201a8"
             ],
             [
              0.3333333333333333,
              "#9c179e"
             ],
             [
              0.4444444444444444,
              "#bd3786"
             ],
             [
              0.5555555555555556,
              "#d8576b"
             ],
             [
              0.6666666666666666,
              "#ed7953"
             ],
             [
              0.7777777777777778,
              "#fb9f3a"
             ],
             [
              0.8888888888888888,
              "#fdca26"
             ],
             [
              1,
              "#f0f921"
             ]
            ],
            "type": "heatmapgl"
           }
          ],
          "histogram": [
           {
            "marker": {
             "pattern": {
              "fillmode": "overlay",
              "size": 10,
              "solidity": 0.2
             }
            },
            "type": "histogram"
           }
          ],
          "histogram2d": [
           {
            "colorbar": {
             "outlinewidth": 0,
             "ticks": ""
            },
            "colorscale": [
             [
              0,
              "#0d0887"
             ],
             [
              0.1111111111111111,
              "#46039f"
             ],
             [
              0.2222222222222222,
              "#7201a8"
             ],
             [
              0.3333333333333333,
              "#9c179e"
             ],
             [
              0.4444444444444444,
              "#bd3786"
             ],
             [
              0.5555555555555556,
              "#d8576b"
             ],
             [
              0.6666666666666666,
              "#ed7953"
             ],
             [
              0.7777777777777778,
              "#fb9f3a"
             ],
             [
              0.8888888888888888,
              "#fdca26"
             ],
             [
              1,
              "#f0f921"
             ]
            ],
            "type": "histogram2d"
           }
          ],
          "histogram2dcontour": [
           {
            "colorbar": {
             "outlinewidth": 0,
             "ticks": ""
            },
            "colorscale": [
             [
              0,
              "#0d0887"
             ],
             [
              0.1111111111111111,
              "#46039f"
             ],
             [
              0.2222222222222222,
              "#7201a8"
             ],
             [
              0.3333333333333333,
              "#9c179e"
             ],
             [
              0.4444444444444444,
              "#bd3786"
             ],
             [
              0.5555555555555556,
              "#d8576b"
             ],
             [
              0.6666666666666666,
              "#ed7953"
             ],
             [
              0.7777777777777778,
              "#fb9f3a"
             ],
             [
              0.8888888888888888,
              "#fdca26"
             ],
             [
              1,
              "#f0f921"
             ]
            ],
            "type": "histogram2dcontour"
           }
          ],
          "mesh3d": [
           {
            "colorbar": {
             "outlinewidth": 0,
             "ticks": ""
            },
            "type": "mesh3d"
           }
          ],
          "parcoords": [
           {
            "line": {
             "colorbar": {
              "outlinewidth": 0,
              "ticks": ""
             }
            },
            "type": "parcoords"
           }
          ],
          "pie": [
           {
            "automargin": true,
            "type": "pie"
           }
          ],
          "scatter": [
           {
            "fillpattern": {
             "fillmode": "overlay",
             "size": 10,
             "solidity": 0.2
            },
            "type": "scatter"
           }
          ],
          "scatter3d": [
           {
            "line": {
             "colorbar": {
              "outlinewidth": 0,
              "ticks": ""
             }
            },
            "marker": {
             "colorbar": {
              "outlinewidth": 0,
              "ticks": ""
             }
            },
            "type": "scatter3d"
           }
          ],
          "scattercarpet": [
           {
            "marker": {
             "colorbar": {
              "outlinewidth": 0,
              "ticks": ""
             }
            },
            "type": "scattercarpet"
           }
          ],
          "scattergeo": [
           {
            "marker": {
             "colorbar": {
              "outlinewidth": 0,
              "ticks": ""
             }
            },
            "type": "scattergeo"
           }
          ],
          "scattergl": [
           {
            "marker": {
             "colorbar": {
              "outlinewidth": 0,
              "ticks": ""
             }
            },
            "type": "scattergl"
           }
          ],
          "scattermapbox": [
           {
            "marker": {
             "colorbar": {
              "outlinewidth": 0,
              "ticks": ""
             }
            },
            "type": "scattermapbox"
           }
          ],
          "scatterpolar": [
           {
            "marker": {
             "colorbar": {
              "outlinewidth": 0,
              "ticks": ""
             }
            },
            "type": "scatterpolar"
           }
          ],
          "scatterpolargl": [
           {
            "marker": {
             "colorbar": {
              "outlinewidth": 0,
              "ticks": ""
             }
            },
            "type": "scatterpolargl"
           }
          ],
          "scatterternary": [
           {
            "marker": {
             "colorbar": {
              "outlinewidth": 0,
              "ticks": ""
             }
            },
            "type": "scatterternary"
           }
          ],
          "surface": [
           {
            "colorbar": {
             "outlinewidth": 0,
             "ticks": ""
            },
            "colorscale": [
             [
              0,
              "#0d0887"
             ],
             [
              0.1111111111111111,
              "#46039f"
             ],
             [
              0.2222222222222222,
              "#7201a8"
             ],
             [
              0.3333333333333333,
              "#9c179e"
             ],
             [
              0.4444444444444444,
              "#bd3786"
             ],
             [
              0.5555555555555556,
              "#d8576b"
             ],
             [
              0.6666666666666666,
              "#ed7953"
             ],
             [
              0.7777777777777778,
              "#fb9f3a"
             ],
             [
              0.8888888888888888,
              "#fdca26"
             ],
             [
              1,
              "#f0f921"
             ]
            ],
            "type": "surface"
           }
          ],
          "table": [
           {
            "cells": {
             "fill": {
              "color": "#EBF0F8"
             },
             "line": {
              "color": "white"
             }
            },
            "header": {
             "fill": {
              "color": "#C8D4E3"
             },
             "line": {
              "color": "white"
             }
            },
            "type": "table"
           }
          ]
         },
         "layout": {
          "annotationdefaults": {
           "arrowcolor": "#2a3f5f",
           "arrowhead": 0,
           "arrowwidth": 1
          },
          "autotypenumbers": "strict",
          "coloraxis": {
           "colorbar": {
            "outlinewidth": 0,
            "ticks": ""
           }
          },
          "colorscale": {
           "diverging": [
            [
             0,
             "#8e0152"
            ],
            [
             0.1,
             "#c51b7d"
            ],
            [
             0.2,
             "#de77ae"
            ],
            [
             0.3,
             "#f1b6da"
            ],
            [
             0.4,
             "#fde0ef"
            ],
            [
             0.5,
             "#f7f7f7"
            ],
            [
             0.6,
             "#e6f5d0"
            ],
            [
             0.7,
             "#b8e186"
            ],
            [
             0.8,
             "#7fbc41"
            ],
            [
             0.9,
             "#4d9221"
            ],
            [
             1,
             "#276419"
            ]
           ],
           "sequential": [
            [
             0,
             "#0d0887"
            ],
            [
             0.1111111111111111,
             "#46039f"
            ],
            [
             0.2222222222222222,
             "#7201a8"
            ],
            [
             0.3333333333333333,
             "#9c179e"
            ],
            [
             0.4444444444444444,
             "#bd3786"
            ],
            [
             0.5555555555555556,
             "#d8576b"
            ],
            [
             0.6666666666666666,
             "#ed7953"
            ],
            [
             0.7777777777777778,
             "#fb9f3a"
            ],
            [
             0.8888888888888888,
             "#fdca26"
            ],
            [
             1,
             "#f0f921"
            ]
           ],
           "sequentialminus": [
            [
             0,
             "#0d0887"
            ],
            [
             0.1111111111111111,
             "#46039f"
            ],
            [
             0.2222222222222222,
             "#7201a8"
            ],
            [
             0.3333333333333333,
             "#9c179e"
            ],
            [
             0.4444444444444444,
             "#bd3786"
            ],
            [
             0.5555555555555556,
             "#d8576b"
            ],
            [
             0.6666666666666666,
             "#ed7953"
            ],
            [
             0.7777777777777778,
             "#fb9f3a"
            ],
            [
             0.8888888888888888,
             "#fdca26"
            ],
            [
             1,
             "#f0f921"
            ]
           ]
          },
          "colorway": [
           "#636efa",
           "#EF553B",
           "#00cc96",
           "#ab63fa",
           "#FFA15A",
           "#19d3f3",
           "#FF6692",
           "#B6E880",
           "#FF97FF",
           "#FECB52"
          ],
          "font": {
           "color": "#2a3f5f"
          },
          "geo": {
           "bgcolor": "white",
           "lakecolor": "white",
           "landcolor": "#E5ECF6",
           "showlakes": true,
           "showland": true,
           "subunitcolor": "white"
          },
          "hoverlabel": {
           "align": "left"
          },
          "hovermode": "closest",
          "mapbox": {
           "style": "light"
          },
          "paper_bgcolor": "white",
          "plot_bgcolor": "#E5ECF6",
          "polar": {
           "angularaxis": {
            "gridcolor": "white",
            "linecolor": "white",
            "ticks": ""
           },
           "bgcolor": "#E5ECF6",
           "radialaxis": {
            "gridcolor": "white",
            "linecolor": "white",
            "ticks": ""
           }
          },
          "scene": {
           "xaxis": {
            "backgroundcolor": "#E5ECF6",
            "gridcolor": "white",
            "gridwidth": 2,
            "linecolor": "white",
            "showbackground": true,
            "ticks": "",
            "zerolinecolor": "white"
           },
           "yaxis": {
            "backgroundcolor": "#E5ECF6",
            "gridcolor": "white",
            "gridwidth": 2,
            "linecolor": "white",
            "showbackground": true,
            "ticks": "",
            "zerolinecolor": "white"
           },
           "zaxis": {
            "backgroundcolor": "#E5ECF6",
            "gridcolor": "white",
            "gridwidth": 2,
            "linecolor": "white",
            "showbackground": true,
            "ticks": "",
            "zerolinecolor": "white"
           }
          },
          "shapedefaults": {
           "line": {
            "color": "#2a3f5f"
           }
          },
          "ternary": {
           "aaxis": {
            "gridcolor": "white",
            "linecolor": "white",
            "ticks": ""
           },
           "baxis": {
            "gridcolor": "white",
            "linecolor": "white",
            "ticks": ""
           },
           "bgcolor": "#E5ECF6",
           "caxis": {
            "gridcolor": "white",
            "linecolor": "white",
            "ticks": ""
           }
          },
          "title": {
           "x": 0.05
          },
          "xaxis": {
           "automargin": true,
           "gridcolor": "white",
           "linecolor": "white",
           "ticks": "",
           "title": {
            "standoff": 15
           },
           "zerolinecolor": "white",
           "zerolinewidth": 2
          },
          "yaxis": {
           "automargin": true,
           "gridcolor": "white",
           "linecolor": "white",
           "ticks": "",
           "title": {
            "standoff": 15
           },
           "zerolinecolor": "white",
           "zerolinewidth": 2
          }
         }
        },
        "xaxis": {
         "anchor": "y",
         "domain": [
          0,
          1
         ],
         "title": {
          "text": "IMF Forecast GDP(Nominal)"
         }
        },
        "yaxis": {
         "anchor": "x",
         "domain": [
          0,
          1
         ],
         "title": {
          "text": "IMF Forecast GDP(PPP)"
         }
        }
       }
      },
      "text/html": [
       "<div>                            <div id=\"e86110aa-b184-4aec-8ace-979f73bacd69\" class=\"plotly-graph-div\" style=\"height:525px; width:100%;\"></div>            <script type=\"text/javascript\">                require([\"plotly\"], function(Plotly) {                    window.PLOTLYENV=window.PLOTLYENV || {};                                    if (document.getElementById(\"e86110aa-b184-4aec-8ace-979f73bacd69\")) {                    Plotly.newPlot(                        \"e86110aa-b184-4aec-8ace-979f73bacd69\",                        [{\"hovertemplate\":\"Country=Germany<br>IMF Forecast GDP(Nominal)=%{x}<br>IMF Forecast GDP(PPP)=%{y}<extra></extra>\",\"legendgroup\":\"Germany\",\"marker\":{\"color\":\"#636efa\",\"symbol\":\"circle\"},\"mode\":\"markers\",\"name\":\"Germany\",\"orientation\":\"v\",\"showlegend\":true,\"x\":[4429838.0],\"xaxis\":\"x\",\"y\":[5537992.0],\"yaxis\":\"y\",\"type\":\"scatter\"},{\"hovertemplate\":\"Country=Japan<br>IMF Forecast GDP(Nominal)=%{x}<br>IMF Forecast GDP(PPP)=%{y}<extra></extra>\",\"legendgroup\":\"Japan\",\"marker\":{\"color\":\"#EF553B\",\"symbol\":\"circle\"},\"mode\":\"markers\",\"name\":\"Japan\",\"orientation\":\"v\",\"showlegend\":true,\"x\":[4230862.0],\"xaxis\":\"x\",\"y\":[6495214.0],\"yaxis\":\"y\",\"type\":\"scatter\"},{\"hovertemplate\":\"Country=India<br>IMF Forecast GDP(Nominal)=%{x}<br>IMF Forecast GDP(PPP)=%{y}<extra></extra>\",\"legendgroup\":\"India\",\"marker\":{\"color\":\"#00cc96\",\"symbol\":\"circle\"},\"mode\":\"markers\",\"name\":\"India\",\"orientation\":\"v\",\"showlegend\":true,\"x\":[3732224.0],\"xaxis\":\"x\",\"y\":[13119622.0],\"yaxis\":\"y\",\"type\":\"scatter\"},{\"hovertemplate\":\"Country=United Kingdom<br>IMF Forecast GDP(Nominal)=%{x}<br>IMF Forecast GDP(PPP)=%{y}<extra></extra>\",\"legendgroup\":\"United Kingdom\",\"marker\":{\"color\":\"#ab63fa\",\"symbol\":\"circle\"},\"mode\":\"markers\",\"name\":\"United Kingdom\",\"orientation\":\"v\",\"showlegend\":true,\"x\":[3332059.0],\"xaxis\":\"x\",\"y\":[3871790.0],\"yaxis\":\"y\",\"type\":\"scatter\"},{\"hovertemplate\":\"Country=Italy<br>IMF Forecast GDP(Nominal)=%{x}<br>IMF Forecast GDP(PPP)=%{y}<extra></extra>\",\"legendgroup\":\"Italy\",\"marker\":{\"color\":\"#FFA15A\",\"symbol\":\"circle\"},\"mode\":\"markers\",\"name\":\"Italy\",\"orientation\":\"v\",\"showlegend\":true,\"x\":[2186082.0],\"xaxis\":\"x\",\"y\":[3193180.0],\"yaxis\":\"y\",\"type\":\"scatter\"},{\"hovertemplate\":\"Country=Brazil<br>IMF Forecast GDP(Nominal)=%{x}<br>IMF Forecast GDP(PPP)=%{y}<extra></extra>\",\"legendgroup\":\"Brazil\",\"marker\":{\"color\":\"#19d3f3\",\"symbol\":\"circle\"},\"mode\":\"markers\",\"name\":\"Brazil\",\"orientation\":\"v\",\"showlegend\":true,\"x\":[2126809.0],\"xaxis\":\"x\",\"y\":[4101022.0],\"yaxis\":\"y\",\"type\":\"scatter\"},{\"hovertemplate\":\"Country=Canada<br>IMF Forecast GDP(Nominal)=%{x}<br>IMF Forecast GDP(PPP)=%{y}<extra></extra>\",\"legendgroup\":\"Canada\",\"marker\":{\"color\":\"#FF6692\",\"symbol\":\"circle\"},\"mode\":\"markers\",\"name\":\"Canada\",\"orientation\":\"v\",\"showlegend\":true,\"x\":[2117805.0],\"xaxis\":\"x\",\"y\":[2378973.0],\"yaxis\":\"y\",\"type\":\"scatter\"},{\"hovertemplate\":\"Country=Russia<br>IMF Forecast GDP(Nominal)=%{x}<br>IMF Forecast GDP(PPP)=%{y}<extra></extra>\",\"legendgroup\":\"Russia\",\"marker\":{\"color\":\"#B6E880\",\"symbol\":\"circle\"},\"mode\":\"markers\",\"name\":\"Russia\",\"orientation\":\"v\",\"showlegend\":true,\"x\":[1862470.0],\"xaxis\":\"x\",\"y\":[5056479.0],\"yaxis\":\"y\",\"type\":\"scatter\"},{\"hovertemplate\":\"Country=Mexico<br>IMF Forecast GDP(Nominal)=%{x}<br>IMF Forecast GDP(PPP)=%{y}<extra></extra>\",\"legendgroup\":\"Mexico\",\"marker\":{\"color\":\"#FF97FF\",\"symbol\":\"circle\"},\"mode\":\"markers\",\"name\":\"Mexico\",\"orientation\":\"v\",\"showlegend\":true,\"x\":[1811468.0],\"xaxis\":\"x\",\"y\":[3277601.0],\"yaxis\":\"y\",\"type\":\"scatter\"},{\"hovertemplate\":\"Country=Indonesia<br>IMF Forecast GDP(Nominal)=%{x}<br>IMF Forecast GDP(PPP)=%{y}<extra></extra>\",\"legendgroup\":\"Indonesia\",\"marker\":{\"color\":\"#FECB52\",\"symbol\":\"circle\"},\"mode\":\"markers\",\"name\":\"Indonesia\",\"orientation\":\"v\",\"showlegend\":true,\"x\":[1417387.0],\"xaxis\":\"x\",\"y\":[4393370.0],\"yaxis\":\"y\",\"type\":\"scatter\"}],                        {\"template\":{\"data\":{\"histogram2dcontour\":[{\"type\":\"histogram2dcontour\",\"colorbar\":{\"outlinewidth\":0,\"ticks\":\"\"},\"colorscale\":[[0.0,\"#0d0887\"],[0.1111111111111111,\"#46039f\"],[0.2222222222222222,\"#7201a8\"],[0.3333333333333333,\"#9c179e\"],[0.4444444444444444,\"#bd3786\"],[0.5555555555555556,\"#d8576b\"],[0.6666666666666666,\"#ed7953\"],[0.7777777777777778,\"#fb9f3a\"],[0.8888888888888888,\"#fdca26\"],[1.0,\"#f0f921\"]]}],\"choropleth\":[{\"type\":\"choropleth\",\"colorbar\":{\"outlinewidth\":0,\"ticks\":\"\"}}],\"histogram2d\":[{\"type\":\"histogram2d\",\"colorbar\":{\"outlinewidth\":0,\"ticks\":\"\"},\"colorscale\":[[0.0,\"#0d0887\"],[0.1111111111111111,\"#46039f\"],[0.2222222222222222,\"#7201a8\"],[0.3333333333333333,\"#9c179e\"],[0.4444444444444444,\"#bd3786\"],[0.5555555555555556,\"#d8576b\"],[0.6666666666666666,\"#ed7953\"],[0.7777777777777778,\"#fb9f3a\"],[0.8888888888888888,\"#fdca26\"],[1.0,\"#f0f921\"]]}],\"heatmap\":[{\"type\":\"heatmap\",\"colorbar\":{\"outlinewidth\":0,\"ticks\":\"\"},\"colorscale\":[[0.0,\"#0d0887\"],[0.1111111111111111,\"#46039f\"],[0.2222222222222222,\"#7201a8\"],[0.3333333333333333,\"#9c179e\"],[0.4444444444444444,\"#bd3786\"],[0.5555555555555556,\"#d8576b\"],[0.6666666666666666,\"#ed7953\"],[0.7777777777777778,\"#fb9f3a\"],[0.8888888888888888,\"#fdca26\"],[1.0,\"#f0f921\"]]}],\"heatmapgl\":[{\"type\":\"heatmapgl\",\"colorbar\":{\"outlinewidth\":0,\"ticks\":\"\"},\"colorscale\":[[0.0,\"#0d0887\"],[0.1111111111111111,\"#46039f\"],[0.2222222222222222,\"#7201a8\"],[0.3333333333333333,\"#9c179e\"],[0.4444444444444444,\"#bd3786\"],[0.5555555555555556,\"#d8576b\"],[0.6666666666666666,\"#ed7953\"],[0.7777777777777778,\"#fb9f3a\"],[0.8888888888888888,\"#fdca26\"],[1.0,\"#f0f921\"]]}],\"contourcarpet\":[{\"type\":\"contourcarpet\",\"colorbar\":{\"outlinewidth\":0,\"ticks\":\"\"}}],\"contour\":[{\"type\":\"contour\",\"colorbar\":{\"outlinewidth\":0,\"ticks\":\"\"},\"colorscale\":[[0.0,\"#0d0887\"],[0.1111111111111111,\"#46039f\"],[0.2222222222222222,\"#7201a8\"],[0.3333333333333333,\"#9c179e\"],[0.4444444444444444,\"#bd3786\"],[0.5555555555555556,\"#d8576b\"],[0.6666666666666666,\"#ed7953\"],[0.7777777777777778,\"#fb9f3a\"],[0.8888888888888888,\"#fdca26\"],[1.0,\"#f0f921\"]]}],\"surface\":[{\"type\":\"surface\",\"colorbar\":{\"outlinewidth\":0,\"ticks\":\"\"},\"colorscale\":[[0.0,\"#0d0887\"],[0.1111111111111111,\"#46039f\"],[0.2222222222222222,\"#7201a8\"],[0.3333333333333333,\"#9c179e\"],[0.4444444444444444,\"#bd3786\"],[0.5555555555555556,\"#d8576b\"],[0.6666666666666666,\"#ed7953\"],[0.7777777777777778,\"#fb9f3a\"],[0.8888888888888888,\"#fdca26\"],[1.0,\"#f0f921\"]]}],\"mesh3d\":[{\"type\":\"mesh3d\",\"colorbar\":{\"outlinewidth\":0,\"ticks\":\"\"}}],\"scatter\":[{\"fillpattern\":{\"fillmode\":\"overlay\",\"size\":10,\"solidity\":0.2},\"type\":\"scatter\"}],\"parcoords\":[{\"type\":\"parcoords\",\"line\":{\"colorbar\":{\"outlinewidth\":0,\"ticks\":\"\"}}}],\"scatterpolargl\":[{\"type\":\"scatterpolargl\",\"marker\":{\"colorbar\":{\"outlinewidth\":0,\"ticks\":\"\"}}}],\"bar\":[{\"error_x\":{\"color\":\"#2a3f5f\"},\"error_y\":{\"color\":\"#2a3f5f\"},\"marker\":{\"line\":{\"color\":\"#E5ECF6\",\"width\":0.5},\"pattern\":{\"fillmode\":\"overlay\",\"size\":10,\"solidity\":0.2}},\"type\":\"bar\"}],\"scattergeo\":[{\"type\":\"scattergeo\",\"marker\":{\"colorbar\":{\"outlinewidth\":0,\"ticks\":\"\"}}}],\"scatterpolar\":[{\"type\":\"scatterpolar\",\"marker\":{\"colorbar\":{\"outlinewidth\":0,\"ticks\":\"\"}}}],\"histogram\":[{\"marker\":{\"pattern\":{\"fillmode\":\"overlay\",\"size\":10,\"solidity\":0.2}},\"type\":\"histogram\"}],\"scattergl\":[{\"type\":\"scattergl\",\"marker\":{\"colorbar\":{\"outlinewidth\":0,\"ticks\":\"\"}}}],\"scatter3d\":[{\"type\":\"scatter3d\",\"line\":{\"colorbar\":{\"outlinewidth\":0,\"ticks\":\"\"}},\"marker\":{\"colorbar\":{\"outlinewidth\":0,\"ticks\":\"\"}}}],\"scattermapbox\":[{\"type\":\"scattermapbox\",\"marker\":{\"colorbar\":{\"outlinewidth\":0,\"ticks\":\"\"}}}],\"scatterternary\":[{\"type\":\"scatterternary\",\"marker\":{\"colorbar\":{\"outlinewidth\":0,\"ticks\":\"\"}}}],\"scattercarpet\":[{\"type\":\"scattercarpet\",\"marker\":{\"colorbar\":{\"outlinewidth\":0,\"ticks\":\"\"}}}],\"carpet\":[{\"aaxis\":{\"endlinecolor\":\"#2a3f5f\",\"gridcolor\":\"white\",\"linecolor\":\"white\",\"minorgridcolor\":\"white\",\"startlinecolor\":\"#2a3f5f\"},\"baxis\":{\"endlinecolor\":\"#2a3f5f\",\"gridcolor\":\"white\",\"linecolor\":\"white\",\"minorgridcolor\":\"white\",\"startlinecolor\":\"#2a3f5f\"},\"type\":\"carpet\"}],\"table\":[{\"cells\":{\"fill\":{\"color\":\"#EBF0F8\"},\"line\":{\"color\":\"white\"}},\"header\":{\"fill\":{\"color\":\"#C8D4E3\"},\"line\":{\"color\":\"white\"}},\"type\":\"table\"}],\"barpolar\":[{\"marker\":{\"line\":{\"color\":\"#E5ECF6\",\"width\":0.5},\"pattern\":{\"fillmode\":\"overlay\",\"size\":10,\"solidity\":0.2}},\"type\":\"barpolar\"}],\"pie\":[{\"automargin\":true,\"type\":\"pie\"}]},\"layout\":{\"autotypenumbers\":\"strict\",\"colorway\":[\"#636efa\",\"#EF553B\",\"#00cc96\",\"#ab63fa\",\"#FFA15A\",\"#19d3f3\",\"#FF6692\",\"#B6E880\",\"#FF97FF\",\"#FECB52\"],\"font\":{\"color\":\"#2a3f5f\"},\"hovermode\":\"closest\",\"hoverlabel\":{\"align\":\"left\"},\"paper_bgcolor\":\"white\",\"plot_bgcolor\":\"#E5ECF6\",\"polar\":{\"bgcolor\":\"#E5ECF6\",\"angularaxis\":{\"gridcolor\":\"white\",\"linecolor\":\"white\",\"ticks\":\"\"},\"radialaxis\":{\"gridcolor\":\"white\",\"linecolor\":\"white\",\"ticks\":\"\"}},\"ternary\":{\"bgcolor\":\"#E5ECF6\",\"aaxis\":{\"gridcolor\":\"white\",\"linecolor\":\"white\",\"ticks\":\"\"},\"baxis\":{\"gridcolor\":\"white\",\"linecolor\":\"white\",\"ticks\":\"\"},\"caxis\":{\"gridcolor\":\"white\",\"linecolor\":\"white\",\"ticks\":\"\"}},\"coloraxis\":{\"colorbar\":{\"outlinewidth\":0,\"ticks\":\"\"}},\"colorscale\":{\"sequential\":[[0.0,\"#0d0887\"],[0.1111111111111111,\"#46039f\"],[0.2222222222222222,\"#7201a8\"],[0.3333333333333333,\"#9c179e\"],[0.4444444444444444,\"#bd3786\"],[0.5555555555555556,\"#d8576b\"],[0.6666666666666666,\"#ed7953\"],[0.7777777777777778,\"#fb9f3a\"],[0.8888888888888888,\"#fdca26\"],[1.0,\"#f0f921\"]],\"sequentialminus\":[[0.0,\"#0d0887\"],[0.1111111111111111,\"#46039f\"],[0.2222222222222222,\"#7201a8\"],[0.3333333333333333,\"#9c179e\"],[0.4444444444444444,\"#bd3786\"],[0.5555555555555556,\"#d8576b\"],[0.6666666666666666,\"#ed7953\"],[0.7777777777777778,\"#fb9f3a\"],[0.8888888888888888,\"#fdca26\"],[1.0,\"#f0f921\"]],\"diverging\":[[0,\"#8e0152\"],[0.1,\"#c51b7d\"],[0.2,\"#de77ae\"],[0.3,\"#f1b6da\"],[0.4,\"#fde0ef\"],[0.5,\"#f7f7f7\"],[0.6,\"#e6f5d0\"],[0.7,\"#b8e186\"],[0.8,\"#7fbc41\"],[0.9,\"#4d9221\"],[1,\"#276419\"]]},\"xaxis\":{\"gridcolor\":\"white\",\"linecolor\":\"white\",\"ticks\":\"\",\"title\":{\"standoff\":15},\"zerolinecolor\":\"white\",\"automargin\":true,\"zerolinewidth\":2},\"yaxis\":{\"gridcolor\":\"white\",\"linecolor\":\"white\",\"ticks\":\"\",\"title\":{\"standoff\":15},\"zerolinecolor\":\"white\",\"automargin\":true,\"zerolinewidth\":2},\"scene\":{\"xaxis\":{\"backgroundcolor\":\"#E5ECF6\",\"gridcolor\":\"white\",\"linecolor\":\"white\",\"showbackground\":true,\"ticks\":\"\",\"zerolinecolor\":\"white\",\"gridwidth\":2},\"yaxis\":{\"backgroundcolor\":\"#E5ECF6\",\"gridcolor\":\"white\",\"linecolor\":\"white\",\"showbackground\":true,\"ticks\":\"\",\"zerolinecolor\":\"white\",\"gridwidth\":2},\"zaxis\":{\"backgroundcolor\":\"#E5ECF6\",\"gridcolor\":\"white\",\"linecolor\":\"white\",\"showbackground\":true,\"ticks\":\"\",\"zerolinecolor\":\"white\",\"gridwidth\":2}},\"shapedefaults\":{\"line\":{\"color\":\"#2a3f5f\"}},\"annotationdefaults\":{\"arrowcolor\":\"#2a3f5f\",\"arrowhead\":0,\"arrowwidth\":1},\"geo\":{\"bgcolor\":\"white\",\"landcolor\":\"#E5ECF6\",\"subunitcolor\":\"white\",\"showland\":true,\"showlakes\":true,\"lakecolor\":\"white\"},\"title\":{\"x\":0.05},\"mapbox\":{\"style\":\"light\"}}},\"xaxis\":{\"anchor\":\"y\",\"domain\":[0.0,1.0],\"title\":{\"text\":\"IMF Forecast GDP(Nominal)\"}},\"yaxis\":{\"anchor\":\"x\",\"domain\":[0.0,1.0],\"title\":{\"text\":\"IMF Forecast GDP(PPP)\"}},\"legend\":{\"title\":{\"text\":\"Country\"},\"tracegroupgap\":0},\"margin\":{\"t\":60}},                        {\"responsive\": true}                    ).then(function(){\n",
       "                            \n",
       "var gd = document.getElementById('e86110aa-b184-4aec-8ace-979f73bacd69');\n",
       "var x = new MutationObserver(function (mutations, observer) {{\n",
       "        var display = window.getComputedStyle(gd).display;\n",
       "        if (!display || display === 'none') {{\n",
       "            console.log([gd, 'removed!']);\n",
       "            Plotly.purge(gd);\n",
       "            observer.disconnect();\n",
       "        }}\n",
       "}});\n",
       "\n",
       "// Listen for the removal of the full notebook cells\n",
       "var notebookContainer = gd.closest('#notebook-container');\n",
       "if (notebookContainer) {{\n",
       "    x.observe(notebookContainer, {childList: true});\n",
       "}}\n",
       "\n",
       "// Listen for the clearing of the current output cell\n",
       "var outputEl = gd.closest('.output');\n",
       "if (outputEl) {{\n",
       "    x.observe(outputEl, {childList: true});\n",
       "}}\n",
       "\n",
       "                        })                };                });            </script>        </div>"
      ]
     },
     "metadata": {},
     "output_type": "display_data"
    }
   ],
   "source": [
    "fig = px.scatter(snom, x = 'IMF Forecast GDP(Nominal)', y ='IMF Forecast GDP(PPP)', color ='Country')\n",
    "fig.show()"
   ]
  },
  {
   "cell_type": "markdown",
   "id": "13200634",
   "metadata": {},
   "source": [
    "The scatter graph above shows the relationship between the nominal GDP figures and PPP GDP figures forecast for each country. PPP GDP adjusts for differences in price levels and provides a more accurate comparison of economic output and living standards. India has the highest GDP(PPP) forecast at over 12m, followed by Japan with a forecast of over 6m. In gerneal, this suggests that on average, goods and services in that country are less expensive compared to the prices in the reference country (typically, the US which serves as the base for PPP comparisons). Factors such as lower production costs and lower wages can attribute to this. Also, this means the local currency has a stronger purchasing power than indicated by the nominal exchange rate. "
   ]
  }
 ],
 "metadata": {
  "kernelspec": {
   "display_name": "Python 3 (ipykernel)",
   "language": "python",
   "name": "python3"
  },
  "language_info": {
   "codemirror_mode": {
    "name": "ipython",
    "version": 3
   },
   "file_extension": ".py",
   "mimetype": "text/x-python",
   "name": "python",
   "nbconvert_exporter": "python",
   "pygments_lexer": "ipython3",
   "version": "3.9.13"
  }
 },
 "nbformat": 4,
 "nbformat_minor": 5
}
